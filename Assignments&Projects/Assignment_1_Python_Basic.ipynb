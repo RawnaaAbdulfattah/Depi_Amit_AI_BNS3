{
 "cells": [
  {
   "cell_type": "code",
   "execution_count": 1,
   "id": "97726922",
   "metadata": {},
   "outputs": [
    {
     "name": "stdout",
     "output_type": "stream",
     "text": [
      " welcome PGTQ\n"
     ]
    }
   ],
   "source": [
    "encoded_massage = \"###!!@mocleW EPGTQ!!!6789 \"\n",
    "word_1 = encoded_massage[12:5:-1] + encoded_massage[13]\n",
    "word_2 = encoded_massage[14:18:1]\n",
    "print(word_1.capitalize() , word_2)"
   ]
  }
 ],
 "metadata": {
  "kernelspec": {
   "display_name": "Python 3",
   "language": "python",
   "name": "python3"
  },
  "language_info": {
   "codemirror_mode": {
    "name": "ipython",
    "version": 3
   },
   "file_extension": ".py",
   "mimetype": "text/x-python",
   "name": "python",
   "nbconvert_exporter": "python",
   "pygments_lexer": "ipython3",
   "version": "3.12.9"
  }
 },
 "nbformat": 4,
 "nbformat_minor": 5
}
