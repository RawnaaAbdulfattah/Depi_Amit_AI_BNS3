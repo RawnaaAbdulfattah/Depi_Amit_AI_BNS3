{
 "cells": [
  {
   "cell_type": "code",
   "execution_count": 1,
   "id": "aea5f995",
   "metadata": {},
   "outputs": [],
   "source": [
    "import psycopg2"
   ]
  },
  {
   "cell_type": "code",
   "execution_count": 2,
   "id": "7a4c25b3",
   "metadata": {},
   "outputs": [],
   "source": [
    "my_conn = psycopg2.connect(\n",
    "    host=\"localhost\",\n",
    "    database= 'depi',\n",
    "    user='postgres',\n",
    "    password= \"Std#040228\"\n",
    "    \n",
    ")"
   ]
  },
  {
   "cell_type": "code",
   "execution_count": 3,
   "id": "c6e1ec61",
   "metadata": {},
   "outputs": [],
   "source": [
    "my_conn.autocommit = True\n",
    "cur = my_conn.cursor()\n",
    "cur.execute('SELECT current_user')"
   ]
  },
  {
   "cell_type": "code",
   "execution_count": 4,
   "id": "18f88575",
   "metadata": {},
   "outputs": [
    {
     "name": "stdout",
     "output_type": "stream",
     "text": [
      "postgres\n"
     ]
    }
   ],
   "source": [
    "cur.execute('SELECT current_user')\n",
    "print(cur.fetchone()[0])"
   ]
  },
  {
   "cell_type": "markdown",
   "id": "7c81a2a5",
   "metadata": {},
   "source": [
    "create new database"
   ]
  },
  {
   "cell_type": "code",
   "execution_count": 5,
   "id": "3bbd830a",
   "metadata": {},
   "outputs": [
    {
     "ename": "SyntaxError",
     "evalue": "syntax error at or near \"ctreate\"\nLINE 1: ctreate database DS_NEW\n        ^\n",
     "output_type": "error",
     "traceback": [
      "\u001b[31m---------------------------------------------------------------------------\u001b[39m",
      "\u001b[31mSyntaxError\u001b[39m                               Traceback (most recent call last)",
      "\u001b[36mCell\u001b[39m\u001b[36m \u001b[39m\u001b[32mIn[5]\u001b[39m\u001b[32m, line 2\u001b[39m\n\u001b[32m      1\u001b[39m my_conn.autocommit = \u001b[38;5;28;01mTrue\u001b[39;00m\n\u001b[32m----> \u001b[39m\u001b[32m2\u001b[39m \u001b[43mcur\u001b[49m\u001b[43m.\u001b[49m\u001b[43mexecute\u001b[49m\u001b[43m(\u001b[49m\u001b[33;43m\"\u001b[39;49m\u001b[33;43mctreate database DS_NEW\u001b[39;49m\u001b[33;43m\"\u001b[39;49m\u001b[43m)\u001b[49m\n",
      "\u001b[31mSyntaxError\u001b[39m: syntax error at or near \"ctreate\"\nLINE 1: ctreate database DS_NEW\n        ^\n"
     ]
    }
   ],
   "source": [
    "my_conn.autocommit = True\n",
    "cur.execute(\"ctreate database DS_NEW\")\n"
   ]
  },
  {
   "cell_type": "code",
   "execution_count": null,
   "id": "30c34410",
   "metadata": {},
   "outputs": [
    {
     "ename": "NameError",
     "evalue": "name 'cur' is not defined",
     "output_type": "error",
     "traceback": [
      "\u001b[31m---------------------------------------------------------------------------\u001b[39m",
      "\u001b[31mNameError\u001b[39m                                 Traceback (most recent call last)",
      "\u001b[36mCell\u001b[39m\u001b[36m \u001b[39m\u001b[32mIn[2]\u001b[39m\u001b[32m, line 1\u001b[39m\n\u001b[32m----> \u001b[39m\u001b[32m1\u001b[39m \u001b[43mcur\u001b[49m.execute(\u001b[33m\"\u001b[39m\u001b[33mctreate database DS_NEW\u001b[39m\u001b[33m\"\u001b[39m)\n",
      "\u001b[31mNameError\u001b[39m: name 'cur' is not defined"
     ]
    }
   ],
   "source": [
    "cur.execute(\"select dataname from PG_database WHERE datistemplate = false\")\n",
    "for db in cur.query()\n"
   ]
  },
  {
   "cell_type": "code",
   "execution_count": null,
   "id": "03884aab",
   "metadata": {},
   "outputs": [],
   "source": [
    "cur.execute(\"ctreate table students (name varchar(50), phone varchar(20))\")\n",
    "print(\"table\")"
   ]
  }
 ],
 "metadata": {
  "kernelspec": {
   "display_name": ".venv",
   "language": "python",
   "name": "python3"
  },
  "language_info": {
   "codemirror_mode": {
    "name": "ipython",
    "version": 3
   },
   "file_extension": ".py",
   "mimetype": "text/x-python",
   "name": "python",
   "nbconvert_exporter": "python",
   "pygments_lexer": "ipython3",
   "version": "3.12.9"
  }
 },
 "nbformat": 4,
 "nbformat_minor": 5
}
