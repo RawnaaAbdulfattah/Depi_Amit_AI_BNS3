{
 "cells": [
  {
   "cell_type": "code",
   "execution_count": 1,
   "id": "aea5f995",
   "metadata": {},
   "outputs": [],
   "source": [
    "import psycopg2"
   ]
  },
  {
   "cell_type": "code",
   "execution_count": 2,
   "id": "7a4c25b3",
   "metadata": {},
   "outputs": [],
   "source": [
    "my_conn = psycopg2.connect(\n",
    "    host=\"localhost\",\n",
    "    database= 'depi',\n",
    "    user='postgres',        #in postgres write: select current_user\n",
    "    password= \"Std#040228\"\n",
    "    \n",
    ")"
   ]
  },
  {
   "cell_type": "code",
   "execution_count": 3,
   "id": "c6e1ec61",
   "metadata": {},
   "outputs": [],
   "source": [
    "my_conn.autocommit = True\n",
    "cur = my_conn.cursor()\n",
    "cur.execute('SELECT current_user')"
   ]
  },
  {
   "cell_type": "code",
   "execution_count": 7,
   "id": "18f88575",
   "metadata": {},
   "outputs": [
    {
     "name": "stdout",
     "output_type": "stream",
     "text": [
      "postgres\n"
     ]
    }
   ],
   "source": [
    "cur.execute('SELECT current_user')\n",
    "print(cur.fetchone()[0])"
   ]
  },
  {
   "cell_type": "markdown",
   "id": "7c81a2a5",
   "metadata": {},
   "source": [
    "create new database"
   ]
  },
  {
   "cell_type": "code",
   "execution_count": 5,
   "id": "3bbd830a",
   "metadata": {},
   "outputs": [
    {
     "name": "stdout",
     "output_type": "stream",
     "text": [
      "database created sucessfully\n"
     ]
    }
   ],
   "source": [
    "cur.execute(\"create database DS_NEW\")\n",
    "print(\"database created sucessfully\")\n"
   ]
  },
  {
   "cell_type": "markdown",
   "id": "e14dc57a",
   "metadata": {},
   "source": [
    "# new practice"
   ]
  },
  {
   "cell_type": "code",
   "execution_count": null,
   "id": "c05b2c17",
   "metadata": {},
   "outputs": [],
   "source": [
    "cur.execute('select new')"
   ]
  },
  {
   "cell_type": "code",
   "execution_count": 9,
   "id": "30c34410",
   "metadata": {},
   "outputs": [
    {
     "name": "stdout",
     "output_type": "stream",
     "text": [
      "('postgres',)\n",
      "('depi',)\n",
      "('school',)\n",
      "('student_management',)\n",
      "('std_mgm',)\n",
      "('ds_new',)\n"
     ]
    }
   ],
   "source": [
    "cur.execute(\"select datname from PG_database WHERE datistemplate = false\")\n",
    "for db in cur.fetchall():\n",
    "    print(db)\n"
   ]
  },
  {
   "cell_type": "code",
   "execution_count": 11,
   "id": "03884aab",
   "metadata": {},
   "outputs": [
    {
     "name": "stdout",
     "output_type": "stream",
     "text": [
      "table created sucessfully\n"
     ]
    }
   ],
   "source": [
    "cur.execute(\"create table students (name varchar(50), ohone varchar(20))\")\n",
    "print(\"table created sucessfully\")"
   ]
  },
  {
   "cell_type": "code",
   "execution_count": null,
   "id": "094753ac",
   "metadata": {},
   "outputs": [],
   "source": [
    "cur.execute(\"ALTER TABLE students RENAME COLUMN ohone TO phone \")"
   ]
  }
 ],
 "metadata": {
  "kernelspec": {
   "display_name": ".venv",
   "language": "python",
   "name": "python3"
  },
  "language_info": {
   "codemirror_mode": {
    "name": "ipython",
    "version": 3
   },
   "file_extension": ".py",
   "mimetype": "text/x-python",
   "name": "python",
   "nbconvert_exporter": "python",
   "pygments_lexer": "ipython3",
   "version": "3.12.9"
  }
 },
 "nbformat": 4,
 "nbformat_minor": 5
}
