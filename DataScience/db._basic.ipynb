{
 "cells": [
  {
   "cell_type": "code",
   "execution_count": 20,
   "id": "952025df",
   "metadata": {},
   "outputs": [],
   "source": [
    "import mysql.connector\n",
    "import psycopg2"
   ]
  },
  {
   "cell_type": "markdown",
   "id": "d1d0d79f",
   "metadata": {},
   "source": [
    "### Connect to database"
   ]
  },
  {
   "cell_type": "code",
   "execution_count": null,
   "id": "95333bf5",
   "metadata": {},
   "outputs": [
    {
     "ename": "NameError",
     "evalue": "name 'psycopg2' is not defined",
     "output_type": "error",
     "traceback": [
      "\u001b[31m---------------------------------------------------------------------------\u001b[39m",
      "\u001b[31mNameError\u001b[39m                                 Traceback (most recent call last)",
      "\u001b[36mCell\u001b[39m\u001b[36m \u001b[39m\u001b[32mIn[1]\u001b[39m\u001b[32m, line 1\u001b[39m\n\u001b[32m----> \u001b[39m\u001b[32m1\u001b[39m my_conn = \u001b[43mpsycopg2\u001b[49m.connect(\n\u001b[32m      2\u001b[39m     host=\u001b[33m\"\u001b[39m\u001b[33mlocalhost\u001b[39m\u001b[33m\"\u001b[39m,\n\u001b[32m      3\u001b[39m     database=\u001b[33m\"\u001b[39m\u001b[33mDEPI\u001b[39m\u001b[33m\"\u001b[39m,\n\u001b[32m      4\u001b[39m     user=\u001b[33m\"\u001b[39m\u001b[33mpostgres\u001b[39m\u001b[33m\"\u001b[39m,\n\u001b[32m      5\u001b[39m     password=\u001b[33m\"\u001b[39m\u001b[33mStd#040228\u001b[39m\u001b[33m\"\u001b[39m\n\u001b[32m      6\u001b[39m \n\u001b[32m      7\u001b[39m \n\u001b[32m      8\u001b[39m )\n",
      "\u001b[31mNameError\u001b[39m: name 'psycopg2' is not defined"
     ]
    }
   ],
   "source": [
    "my_conn = psycopg2.connect(\n",
    "    host=\"localhost\",\n",
    "    database=\"DEPI\",\n",
    "    user=\"postgres\",\n",
    "    password=\"Std#040228\"\n",
    "    \n",
    "    \n",
    ")"
   ]
  },
  {
   "cell_type": "markdown",
   "id": "b28c89f6",
   "metadata": {},
   "source": [
    "if you have problem with user name or if you need to reset your password when you forget"
   ]
  },
  {
   "cell_type": "code",
   "execution_count": 19,
   "id": "3e24a78e",
   "metadata": {},
   "outputs": [
    {
     "name": "stdout",
     "output_type": "stream",
     "text": [
      "postgres\n"
     ]
    }
   ],
   "source": [
    "cur = my_conn.cursor()\n",
    "cur.execute(\"SELECT current_user;\")\n",
    "print(cur.fetchone()[0])\n",
    "cur.close()\n",
    "my_conn.close()"
   ]
  },
  {
   "cell_type": "markdown",
   "id": "94caca9e",
   "metadata": {},
   "source": [
    "### Create new Database"
   ]
  },
  {
   "cell_type": "code",
   "execution_count": 27,
   "id": "b72c21f8",
   "metadata": {},
   "outputs": [],
   "source": [
    "my_conn.autocommit = True\n",
    "cur = my_conn.cursor()\n",
    "cur.execute(\"CREATE DATABASE qt5_db;\")"
   ]
  },
  {
   "cell_type": "markdown",
   "id": "aab255b9",
   "metadata": {},
   "source": [
    "if you need to change your password"
   ]
  },
  {
   "cell_type": "code",
   "execution_count": 2,
   "id": "0ef461fc",
   "metadata": {},
   "outputs": [],
   "source": [
    "# ALTER USER postgres WITH PASSWORD 'new_password';"
   ]
  },
  {
   "cell_type": "markdown",
   "id": "c758a5cc",
   "metadata": {},
   "source": [
    "### Show all database"
   ]
  },
  {
   "cell_type": "code",
   "execution_count": 31,
   "id": "da0719bd",
   "metadata": {},
   "outputs": [
    {
     "name": "stdout",
     "output_type": "stream",
     "text": [
      "postgres\n",
      "DEPI\n",
      "Depi_New\n",
      "course_management\n",
      "deppp\n",
      "simple_bikeshare\n",
      "student_mgm\n",
      "qt5_db\n"
     ]
    }
   ],
   "source": [
    "cur.execute(\"SELECT datname FROM pg_database WHERE datistemplate = false;\")\n",
    "for db in cur.fetchall():\n",
    "    print(db[0])\n"
   ]
  },
  {
   "cell_type": "markdown",
   "id": "54862716",
   "metadata": {},
   "source": [
    "### create table "
   ]
  },
  {
   "cell_type": "code",
   "execution_count": null,
   "id": "22b25c53",
   "metadata": {},
   "outputs": [
    {
     "name": "stdout",
     "output_type": "stream",
     "text": [
      "table created\n"
     ]
    }
   ],
   "source": [
    "cur.execute(\" CREATE TABLE students (name varchar(50), ohone varchar(20) )\")\n",
    "print(\"table created\")"
   ]
  },
  {
   "cell_type": "code",
   "execution_count": 39,
   "id": "d18eddea",
   "metadata": {},
   "outputs": [
    {
     "name": "stdout",
     "output_type": "stream",
     "text": [
      "table created\n"
     ]
    }
   ],
   "source": [
    "\n",
    "cur.execute(\"  ALTER TABLE students ADD COLUMN Address VARCHAR(20);\")\n",
    "print(\"table created\")"
   ]
  },
  {
   "cell_type": "code",
   "execution_count": 41,
   "id": "58822a8b",
   "metadata": {},
   "outputs": [
    {
     "name": "stdout",
     "output_type": "stream",
     "text": [
      "column changed\n"
     ]
    }
   ],
   "source": [
    "\n",
    "    \n",
    "cur.execute(\"   ALTER TABLE students RENAME COLUMN ohone TO phone;\")\n",
    "print(\"column changed\")"
   ]
  },
  {
   "cell_type": "markdown",
   "id": "8a91f4f3",
   "metadata": {},
   "source": [
    "### inset data"
   ]
  },
  {
   "cell_type": "code",
   "execution_count": null,
   "id": "a4f262cd",
   "metadata": {},
   "outputs": [
    {
     "name": "stdout",
     "output_type": "stream",
     "text": [
      "the new record was inserted\n",
      "1\n"
     ]
    }
   ],
   "source": [
    "\n",
    "sql = \"INSERT INTO students (name, phone)VALUES(%s,%s)\"\n",
    "data =(\"George samuel\",\"01022331830\")\n",
    "cur.execute(sql, data)\n",
    "my_conn.commit()\n",
    "print(\"the new record was inserted\")\n",
    "print(cur.rowcount)#how many record are inserted\n"
   ]
  },
  {
   "cell_type": "markdown",
   "id": "d03417f4",
   "metadata": {},
   "source": [
    "### insert Multiple rows"
   ]
  },
  {
   "cell_type": "code",
   "execution_count": 47,
   "id": "4c8dee45",
   "metadata": {},
   "outputs": [
    {
     "name": "stdout",
     "output_type": "stream",
     "text": [
      "5 the new record was inserted\n"
     ]
    }
   ],
   "source": [
    "sql = \"INSERT INTO students (name, phone)VALUES(%s,%s)\"\n",
    "data =[\n",
    "    (\"Aya\",\"01022331830\"),\n",
    "    (\"Renad\",\"01022331830\"),\n",
    "    (\"Faris\",\"01022331830\"),\n",
    "    (\"abdalla\",\"01022331830\"),\n",
    "    (\"Habiba\",\"01022331830\")\n",
    "    \n",
    "    \n",
    "    ]\n",
    "cur.executemany(sql, data)\n",
    "my_conn.commit()\n",
    "\n",
    "print(cur.rowcount,\"the new record was inserted\")"
   ]
  },
  {
   "cell_type": "markdown",
   "id": "2ac21eb2",
   "metadata": {},
   "source": [
    "###  Select from a Table"
   ]
  },
  {
   "cell_type": "code",
   "execution_count": 48,
   "id": "ba779e65",
   "metadata": {},
   "outputs": [
    {
     "name": "stdout",
     "output_type": "stream",
     "text": [
      "('George samuel', '01022331830', None)\n",
      "('George samuel', '01022331830', None)\n",
      "('George samuel', '01022331830', None)\n",
      "('George samuel', '01022331830', None)\n",
      "('Aya', '01022331830', None)\n",
      "('Renad', '01022331830', None)\n",
      "('Faris', '01022331830', None)\n",
      "('abdalla', '01022331830', None)\n",
      "('Habiba', '01022331830', None)\n"
     ]
    }
   ],
   "source": [
    "cur.execute(\"SELECT * FROM students\")\n",
    "results = cur.fetchall()\n",
    "for i in results:\n",
    "    print(i)"
   ]
  },
  {
   "cell_type": "code",
   "execution_count": 49,
   "id": "8e4d5821",
   "metadata": {},
   "outputs": [
    {
     "name": "stdout",
     "output_type": "stream",
     "text": [
      "('George samuel',)\n",
      "('George samuel',)\n",
      "('George samuel',)\n",
      "('George samuel',)\n",
      "('Aya',)\n",
      "('Renad',)\n",
      "('Faris',)\n",
      "('abdalla',)\n",
      "('Habiba',)\n"
     ]
    }
   ],
   "source": [
    "cur.execute(\"SELECT name FROM students\")\n",
    "results = cur.fetchall()\n",
    "for i in results:\n",
    "    print(i)"
   ]
  },
  {
   "cell_type": "markdown",
   "id": "2a73b3e6",
   "metadata": {},
   "source": [
    "### filter"
   ]
  },
  {
   "cell_type": "code",
   "execution_count": 55,
   "id": "39d81080",
   "metadata": {},
   "outputs": [
    {
     "name": "stdout",
     "output_type": "stream",
     "text": [
      "[('01022331830',)]\n"
     ]
    }
   ],
   "source": [
    "cur.execute(\"SELECT phone FROM students where name ='Aya'\")\n",
    "results = cur.fetchall()\n",
    "print(results)"
   ]
  },
  {
   "cell_type": "markdown",
   "id": "ae851553",
   "metadata": {},
   "source": [
    "Wildcard Characters"
   ]
  },
  {
   "cell_type": "code",
   "execution_count": 60,
   "id": "073a275e",
   "metadata": {},
   "outputs": [
    {
     "name": "stdout",
     "output_type": "stream",
     "text": [
      "[('01022331830',)]\n"
     ]
    }
   ],
   "source": [
    "cur.execute(\"SELECT phone FROM students where name ='Aya'\")\n",
    "results = cur.fetchall()\n",
    "print(results)"
   ]
  },
  {
   "cell_type": "markdown",
   "id": "e07b50f6",
   "metadata": {},
   "source": [
    "### Prevent SQL injection\n",
    "if you need to searchfor student or user give you the input"
   ]
  },
  {
   "cell_type": "code",
   "execution_count": 62,
   "id": "9ed39f34",
   "metadata": {},
   "outputs": [
    {
     "name": "stdout",
     "output_type": "stream",
     "text": [
      "[('Aya', '01022331830', None)]\n"
     ]
    }
   ],
   "source": [
    "sql = \"SELECT * FROM students WHERE name = %s \"\n",
    "data = ('Aya',)\n",
    "cur.execute(sql, data)\n",
    "result = cur.fetchall()\n",
    "print(result)"
   ]
  },
  {
   "cell_type": "markdown",
   "id": "c7038771",
   "metadata": {},
   "source": [
    "### Update Statement"
   ]
  },
  {
   "cell_type": "code",
   "execution_count": 67,
   "id": "6a7bb575",
   "metadata": {},
   "outputs": [
    {
     "name": "stdout",
     "output_type": "stream",
     "text": [
      "('George samuel', '01022331830', None)\n",
      "('George samuel', '01022331830', None)\n",
      "('George samuel', '01022331830', None)\n",
      "('George samuel', '01022331830', None)\n",
      "('Renad', '01022331830', None)\n",
      "('Faris', '01022331830', None)\n",
      "('abdalla', '01022331830', None)\n",
      "('Habiba', '01022331830', None)\n",
      "('Aya', '00000123567', None)\n"
     ]
    }
   ],
   "source": [
    "cur.execute(\"UPDATE students set phone = '00000123567' where name = 'Aya' \")\n",
    "my_conn.commit()\n",
    "cur.execute(\"SELECT * FROM students\")\n",
    "results = cur.fetchall()\n",
    "for i in results:\n",
    "    print(i)"
   ]
  },
  {
   "cell_type": "markdown",
   "id": "803cef46",
   "metadata": {},
   "source": [
    "Update with specific input"
   ]
  },
  {
   "cell_type": "code",
   "execution_count": 75,
   "id": "1420f467",
   "metadata": {},
   "outputs": [
    {
     "name": "stdout",
     "output_type": "stream",
     "text": [
      "('George samuel', '01022331830', None)\n",
      "('George samuel', '01022331830', None)\n",
      "('George samuel', '01022331830', None)\n",
      "('George samuel', '01022331830', None)\n",
      "('Renad', '01022331830', None)\n",
      "('Faris', '01022331830', None)\n",
      "('abdalla', '01022331830', None)\n",
      "('Habiba', '01022331830', None)\n",
      "('Aya', '9999999999999', None)\n"
     ]
    }
   ],
   "source": [
    "# Get inputs from user\n",
    "update_value = input(\"Enter new phone: \")\n",
    "condition_value = input(\"Enter student name: \")\n",
    "\n",
    "# Create the data tuple\n",
    "data = (update_value, condition_value)\n",
    "\n",
    "# Execute update with parameters\n",
    "sql = cur.execute(\"UPDATE students SET phone = %s WHERE name = %s\", data)\n",
    "my_conn.commit()\n",
    "\n",
    "# Fetch and print all rows\n",
    "cur.execute(\"SELECT * FROM students\")\n",
    "results = cur.fetchall()\n",
    "for row in results:\n",
    "    print(row)"
   ]
  },
  {
   "cell_type": "code",
   "execution_count": 76,
   "id": "e6e850a2",
   "metadata": {},
   "outputs": [
    {
     "name": "stdout",
     "output_type": "stream",
     "text": [
      "4 record(s) deleted.\n",
      "('Renad', '01022331830', None)\n",
      "('Faris', '01022331830', None)\n",
      "('abdalla', '01022331830', None)\n",
      "('Habiba', '01022331830', None)\n",
      "('Aya', '9999999999999', None)\n"
     ]
    }
   ],
   "source": [
    "# Ask for the student name to delete\n",
    "name_to_delete = input(\"Enter student name to delete: \")\n",
    "\n",
    "# Execute delete with parameter\n",
    "cur.execute(\"DELETE FROM students WHERE name = %s\", (name_to_delete,))\n",
    "my_conn.commit()\n",
    "\n",
    "# Check if anything was deleted\n",
    "if cur.rowcount > 0:\n",
    "    print(f\"{cur.rowcount} record(s) deleted.\")\n",
    "else:\n",
    "    print(\"No student found with that name.\")\n",
    "\n",
    "# Show remaining records\n",
    "cur.execute(\"SELECT * FROM students\")\n",
    "results = cur.fetchall()\n",
    "for row in results:\n",
    "    print(row)\n"
   ]
  },
  {
   "cell_type": "code",
   "execution_count": null,
   "id": "95c90047",
   "metadata": {},
   "outputs": [],
   "source": []
  }
 ],
 "metadata": {
  "kernelspec": {
   "display_name": ".venv",
   "language": "python",
   "name": "python3"
  },
  "language_info": {
   "codemirror_mode": {
    "name": "ipython",
    "version": 3
   },
   "file_extension": ".py",
   "mimetype": "text/x-python",
   "name": "python",
   "nbconvert_exporter": "python",
   "pygments_lexer": "ipython3",
   "version": "3.12.9"
  }
 },
 "nbformat": 4,
 "nbformat_minor": 5
}
