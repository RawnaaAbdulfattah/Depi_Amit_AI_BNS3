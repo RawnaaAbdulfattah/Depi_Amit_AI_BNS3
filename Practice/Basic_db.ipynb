{
 "cells": [
  {
   "cell_type": "markdown",
   "id": "569fe101",
   "metadata": {},
   "source": [
    "# Database With Python"
   ]
  },
  {
   "cell_type": "markdown",
   "id": "b0789a4f",
   "metadata": {},
   "source": [
    "Install connector"
   ]
  },
  {
   "cell_type": "code",
   "execution_count": 1,
   "id": "c7893f62",
   "metadata": {},
   "outputs": [],
   "source": [
    "import psycopg2"
   ]
  },
  {
   "cell_type": "markdown",
   "id": "b036f1f6",
   "metadata": {},
   "source": [
    "reset password \n",
    "\n",
    "###### ALTER USER postgres WITH PASSWORD 'new_password';"
   ]
  },
  {
   "cell_type": "markdown",
   "id": "48773415",
   "metadata": {},
   "source": [
    "Create connectors"
   ]
  },
  {
   "cell_type": "code",
   "execution_count": 2,
   "id": "cf4cdb3c",
   "metadata": {},
   "outputs": [],
   "source": [
    "my_conn = psycopg2.connect(\n",
    "    \n",
    "    host = \"localhost\",\n",
    "    database = 'depi',\n",
    "    user = 'postgres',\n",
    "    password = \"Std#040228\"\n",
    "    \n",
    "    \n",
    "    \n",
    ")"
   ]
  },
  {
   "cell_type": "markdown",
   "id": "ead6532b",
   "metadata": {},
   "source": [
    "has a cursor"
   ]
  },
  {
   "cell_type": "code",
   "execution_count": 3,
   "id": "233ad167",
   "metadata": {},
   "outputs": [],
   "source": [
    "cur = my_conn.cursor()"
   ]
  },
  {
   "cell_type": "markdown",
   "id": "70eda931",
   "metadata": {},
   "source": [
    "make simple query"
   ]
  },
  {
   "cell_type": "code",
   "execution_count": 4,
   "id": "7d278100",
   "metadata": {},
   "outputs": [
    {
     "name": "stdout",
     "output_type": "stream",
     "text": [
      "postgres\n"
     ]
    }
   ],
   "source": [
    "cur.execute('SELECT current_user')\n",
    "print(cur.fetchone()[0])\n"
   ]
  },
  {
   "cell_type": "markdown",
   "id": "4e29a374",
   "metadata": {},
   "source": [
    "create new database"
   ]
  },
  {
   "cell_type": "code",
   "execution_count": 5,
   "id": "eca7673a",
   "metadata": {},
   "outputs": [
    {
     "ename": "ProgrammingError",
     "evalue": "set_session cannot be used inside a transaction",
     "output_type": "error",
     "traceback": [
      "\u001b[31m---------------------------------------------------------------------------\u001b[39m",
      "\u001b[31mProgrammingError\u001b[39m                          Traceback (most recent call last)",
      "\u001b[36mCell\u001b[39m\u001b[36m \u001b[39m\u001b[32mIn[5]\u001b[39m\u001b[32m, line 1\u001b[39m\n\u001b[32m----> \u001b[39m\u001b[32m1\u001b[39m \u001b[43mmy_conn\u001b[49m\u001b[43m.\u001b[49m\u001b[43mautocommit\u001b[49m = \u001b[38;5;28;01mTrue\u001b[39;00m\n\u001b[32m      2\u001b[39m cur = my_conn.cursor()\n\u001b[32m      3\u001b[39m cur.execute(\u001b[33m\"\u001b[39m\u001b[33mCREATE DATABASE DS_NEW\u001b[39m\u001b[33m\"\u001b[39m)\n",
      "\u001b[31mProgrammingError\u001b[39m: set_session cannot be used inside a transaction"
     ]
    }
   ],
   "source": [
    "\n",
    "my_conn.autocommit = True\n",
    "cur = my_conn.cursor()\n",
    "cur.execute(\"CREATE DATABASE DS_NEW\")"
   ]
  },
  {
   "cell_type": "markdown",
   "id": "87e6aed8",
   "metadata": {},
   "source": [
    "how to get all database name"
   ]
  },
  {
   "cell_type": "code",
   "execution_count": 6,
   "id": "e9d254eb",
   "metadata": {},
   "outputs": [
    {
     "name": "stdout",
     "output_type": "stream",
     "text": [
      "postgres\n",
      "depi\n",
      "school\n"
     ]
    }
   ],
   "source": [
    "cur.execute(\"SELECT datname from PG_database WHERE datistemplate = false\")\n",
    "for db in cur.fetchall():\n",
    "    print(db[0])"
   ]
  },
  {
   "cell_type": "code",
   "execution_count": 7,
   "id": "4168a1c7",
   "metadata": {},
   "outputs": [
    {
     "name": "stdout",
     "output_type": "stream",
     "text": [
      "table created\n"
     ]
    }
   ],
   "source": [
    "cur.execute(\"CREATE TABLE students_ (name VARCHAR(50), ohone VARCHAR(20))\")\n",
    "print(\"table created\")"
   ]
  },
  {
   "cell_type": "code",
   "execution_count": 8,
   "id": "c39be3db",
   "metadata": {},
   "outputs": [
    {
     "ename": "UndefinedTable",
     "evalue": "relation \"students\" does not exist\n",
     "output_type": "error",
     "traceback": [
      "\u001b[31m---------------------------------------------------------------------------\u001b[39m",
      "\u001b[31mUndefinedTable\u001b[39m                            Traceback (most recent call last)",
      "\u001b[36mCell\u001b[39m\u001b[36m \u001b[39m\u001b[32mIn[8]\u001b[39m\u001b[32m, line 1\u001b[39m\n\u001b[32m----> \u001b[39m\u001b[32m1\u001b[39m \u001b[43mcur\u001b[49m\u001b[43m.\u001b[49m\u001b[43mexecute\u001b[49m\u001b[43m(\u001b[49m\u001b[33;43m\"\u001b[39;49m\u001b[33;43malter table students rename column phone to phone\u001b[39;49m\u001b[33;43m\"\u001b[39;49m\u001b[43m)\u001b[49m\n\u001b[32m      2\u001b[39m \u001b[38;5;28mprint\u001b[39m(\u001b[33m\"\u001b[39m\u001b[33mcolumn changed\u001b[39m\u001b[33m\"\u001b[39m)\n",
      "\u001b[31mUndefinedTable\u001b[39m: relation \"students\" does not exist\n"
     ]
    }
   ],
   "source": [
    "cur.execute(\"alter table students rename column phone to phone\")\n",
    "print(\"column changed\")"
   ]
  },
  {
   "cell_type": "code",
   "execution_count": 10,
   "id": "e1765f40",
   "metadata": {},
   "outputs": [
    {
     "ename": "InFailedSqlTransaction",
     "evalue": "current transaction is aborted, commands ignored until end of transaction block\n",
     "output_type": "error",
     "traceback": [
      "\u001b[31m---------------------------------------------------------------------------\u001b[39m",
      "\u001b[31mInFailedSqlTransaction\u001b[39m                    Traceback (most recent call last)",
      "\u001b[36mCell\u001b[39m\u001b[36m \u001b[39m\u001b[32mIn[10]\u001b[39m\u001b[32m, line 3\u001b[39m\n\u001b[32m      1\u001b[39m sql=\u001b[33m\"\u001b[39m\u001b[33mINSERT INTO students (name,phone) values(\u001b[39m\u001b[38;5;132;01m%s\u001b[39;00m\u001b[33m, \u001b[39m\u001b[38;5;132;01m%s\u001b[39;00m\u001b[33m)\u001b[39m\u001b[33m\"\u001b[39m\n\u001b[32m      2\u001b[39m data=(\u001b[33m\"\u001b[39m\u001b[33mRawnaa\u001b[39m\u001b[33m\"\u001b[39m,\u001b[33m\"\u001b[39m\u001b[33m01030502313\u001b[39m\u001b[33m\"\u001b[39m)\n\u001b[32m----> \u001b[39m\u001b[32m3\u001b[39m \u001b[43mcur\u001b[49m\u001b[43m.\u001b[49m\u001b[43mexecute\u001b[49m\u001b[43m(\u001b[49m\u001b[43msql\u001b[49m\u001b[43m,\u001b[49m\u001b[43m \u001b[49m\u001b[43mdata\u001b[49m\u001b[43m)\u001b[49m\n\u001b[32m      4\u001b[39m my_conn.commit()\n\u001b[32m      5\u001b[39m \u001b[38;5;28mprint\u001b[39m(\u001b[33m\"\u001b[39m\u001b[33mthe new record was inserted\u001b[39m\u001b[33m\"\u001b[39m)\n",
      "\u001b[31mInFailedSqlTransaction\u001b[39m: current transaction is aborted, commands ignored until end of transaction block\n"
     ]
    }
   ],
   "source": [
    "sql=\"INSERT INTO students (name,phone) values(%s, %s)\"\n",
    "data=(\"Rawnaa\",\"01030502313\")\n",
    "cur.execute(sql, data)\n",
    "my_conn.commit()\n",
    "print(\"the new record was inserted\")"
   ]
  }
 ],
 "metadata": {
  "kernelspec": {
   "display_name": ".venv",
   "language": "python",
   "name": "python3"
  },
  "language_info": {
   "codemirror_mode": {
    "name": "ipython",
    "version": 3
   },
   "file_extension": ".py",
   "mimetype": "text/x-python",
   "name": "python",
   "nbconvert_exporter": "python",
   "pygments_lexer": "ipython3",
   "version": "3.12.9"
  }
 },
 "nbformat": 4,
 "nbformat_minor": 5
}
