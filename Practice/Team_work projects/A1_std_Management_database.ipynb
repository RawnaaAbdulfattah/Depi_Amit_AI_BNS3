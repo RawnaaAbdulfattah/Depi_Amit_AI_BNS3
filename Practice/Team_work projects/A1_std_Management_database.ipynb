{
 "cells": [
  {
   "cell_type": "markdown",
   "id": "433ece34",
   "metadata": {},
   "source": [
    "## Assignment: Student Management Database in PostgreSQL\n",
    "Objective\n",
    "In this exercise, you will connect to a PostgreSQL database you created, build the tables for a simple student management system, insert sample data, and perform different queries — including JOIN operations.\n",
    "\n",
    "Part 1: Database Connection\n",
    "Create a new database in PostgreSQL named student_management.\n",
    "\n",
    "Write Python code (using psycopg2) to connect to your student_management database.\n",
    "\n",
    "Example:"
   ]
  },
  {
   "cell_type": "code",
   "execution_count": null,
   "id": "9d51386e",
   "metadata": {},
   "outputs": [
    {
     "name": "stdout",
     "output_type": "stream",
     "text": [
      "Database connected successfully.\n"
     ]
    }
   ],
   "source": [
    "import psycopg2\n",
    "\n",
    "# Connect to PostgreSQL\n",
    "conn = psycopg2.connect(\n",
    "    dbname=\"postgres\",\n",
    "    user=\"postgres\",\n",
    "    password=\"Std#040228\",\n",
    "    host=\"localhost\",\n",
    "    # port=\"5432\"\n",
    ")\n",
    "\n",
    "cur = conn.cursor()\n",
    "print(\"Database connected successfully.\")\n",
    "conn.autocommit = True\n",
    "cur = conn.cursor()\n",
    "cur.execute(\"CREATE DATABASE student_management;\")\n",
    "\n"
   ]
  },
  {
   "cell_type": "markdown",
   "id": "750c6f37",
   "metadata": {},
   "source": [
    "## Part 2: Create Tables\n",
    "\n",
    "Create the following tables using SQL:\n",
    "\n",
    "### `students`\n",
    "- `student_id` (SERIAL PRIMARY KEY)  \n",
    "- `name` (VARCHAR)  \n",
    "- `email` (VARCHAR)  \n",
    "- `phone` (VARCHAR)  \n",
    "\n",
    "### `courses`\n",
    "- `course_id` (SERIAL PRIMARY KEY)  \n",
    "- `course_name` (VARCHAR)  \n",
    "- `credits` (INT)  \n",
    "\n",
    "### `enrollments`\n",
    "- `enrollment_id` (SERIAL PRIMARY KEY)  \n",
    "- `student_id` (INT REFERENCES students(student_id))  \n",
    "- `course_id` (INT REFERENCES courses(course_id))  \n",
    "- `grade` (VARCHAR)  \n"
   ]
  },
  {
   "cell_type": "code",
   "execution_count": 6,
   "id": "40f07cf7",
   "metadata": {},
   "outputs": [
    {
     "name": "stdout",
     "output_type": "stream",
     "text": [
      "tables created\n"
     ]
    }
   ],
   "source": [
    "cur.execute(\" CREATE TABLE students (student_id serial primary key,name varchar(50), email varchar(255),phone varchar(20) )\")\n",
    "cur.execute(\" CREATE TABLE courses (course_id serial primary key,course_name varchar(50), credits int )\")\n",
    "cur.execute(\" CREATE TABLE enrollments (enrollment_id serial primary key,student_id int references students(student_id), course_id int references courses(course_id),grade varchar(20) )\")\n",
    "print(\"tables created\")"
   ]
  },
  {
   "cell_type": "markdown",
   "id": "89d3f535",
   "metadata": {},
   "source": [
    "## Part 3: Insert Sample Data\n",
    "Insert at least 3 records into each table.\n",
    "\n",
    "Example:"
   ]
  },
  {
   "cell_type": "code",
   "execution_count": 17,
   "id": "39ce66ba",
   "metadata": {},
   "outputs": [
    {
     "name": "stdout",
     "output_type": "stream",
     "text": [
      "4 the new record was inserted\n"
     ]
    }
   ],
   "source": [
    "sql1 = \"INSERT INTO students (name, email, phone) VALUES (%s,%s,%s)\"\n",
    "data1 =[\n",
    "    ('Alice Johnson', 'alice@example.com', '1234567890'),\n",
    "    ('Bob Smith', 'bob@example.com', '9876543210'),\n",
    "    ('Charlie Brown', 'charlie@example.com', '5555555555'),\n",
    "    ('Mohamed Ali','mohamedali@gmail.com','01020304050')\n",
    "    ]\n",
    "cur.executemany(sql1, data1)\n",
    "conn.commit()\n",
    "\n",
    "sql2 = \"INSERT INTO courses (course_name, credits) VALUES (%s,%s)\"\n",
    "data2 =[\n",
    "    ('Mathematics', 3),\n",
    "    ('Computer Science', 4),\n",
    "    ('History', 2)\n",
    "    ]\n",
    "cur.executemany(sql2, data2)\n",
    "conn.commit()\n",
    "\n",
    "sql3 = \"INSERT INTO enrollments (student_id, course_id, grade) VALUES (%s,%s,%s)\"\n",
    "data3 =[\n",
    "    (1, 1, 'A'),\n",
    "    (1, 2, 'B'),\n",
    "    (2, 3, 'A'),\n",
    "    (3, 2, 'C')\n",
    "    ]\n",
    "cur.executemany(sql3, data3)\n",
    "conn.commit()\n",
    "print(cur.rowcount,\"the new record was inserted\")"
   ]
  },
  {
   "cell_type": "markdown",
   "id": "15245cce",
   "metadata": {},
   "source": [
    "## Part 4: Query Tasks\n",
    "\n",
    "Write SQL queries to answer the following questions:\n",
    "\n",
    "1. **List all students.**\n",
    "   ```sql\n",
    "   SELECT * FROM students;\n"
   ]
  },
  {
   "cell_type": "code",
   "execution_count": 2,
   "id": "f8ac0cb8",
   "metadata": {},
   "outputs": [],
   "source": [
    "cur.execute(\"SELECT  * FROM students\")\n",
    "students = cur.fetchall()"
   ]
  },
  {
   "cell_type": "markdown",
   "id": "523709d8",
   "metadata": {},
   "source": [
    "2. Find students who have a grade of 'A'.\n",
    "Hint: Use a WHERE clause in the enrollments table to filter by grade.\n",
    "\n",
    "SELECT * \n",
    "FROM enrollments\n",
    "WHERE grade = 'A';\n"
   ]
  },
  {
   "cell_type": "code",
   "execution_count": 3,
   "id": "af256c39",
   "metadata": {},
   "outputs": [
    {
     "name": "stdout",
     "output_type": "stream",
     "text": [
      "Student information: \n",
      "(4, 'Mohamed Ali', 'mohamedali@gmail.com', '01020304050')\n",
      "(2, 'Bob Smith', 'bob@example.com', '9876543210')\n",
      "(3, 'Charlie Brown', 'charlie@example.com', '5555555555')\n",
      "(1, 'Alice Johnson', 'alice@example.com', '1234567890')\n",
      "superior students:\n",
      " [('Alice Johnson', 1, 'A'), ('Bob Smith', 3, 'A')]\n"
     ]
    }
   ],
   "source": [
    "cur.execute(\"SELECT distinct * FROM students\")\n",
    "students = cur.fetchall()\n",
    "print(\"Student information: \")\n",
    "for i in students:\n",
    "    print(i)\n",
    "cur.execute(\"\"\"\n",
    "    SELECT s.name, e.course_id, e.grade\n",
    "    FROM enrollments e\n",
    "    JOIN students s ON e.student_id = s.student_id\n",
    "    WHERE e.grade = 'A'\n",
    "\"\"\")\n",
    "print(\"superior students:\\n\",cur.fetchall())"
   ]
  },
  {
   "cell_type": "markdown",
   "id": "f1764d0a",
   "metadata": {},
   "source": [
    "3. Show all courses with their credit hours.\n",
    "Hint: Select course name and credit hours from the courses table.\n",
    "\n",
    "\n",
    "SELECT course_name, credit_hours \n",
    "FROM courses;"
   ]
  },
  {
   "cell_type": "code",
   "execution_count": 21,
   "id": "47b586c8",
   "metadata": {},
   "outputs": [
    {
     "name": "stdout",
     "output_type": "stream",
     "text": [
      "('Mathematics', 3)\n",
      "('Computer Science', 4)\n",
      "('History', 2)\n"
     ]
    }
   ],
   "source": [
    "cur.execute(\"SELECT course_name, credits FROM courses\")\n",
    "results = cur.fetchall()\n",
    "for i in results:\n",
    "    print(i)"
   ]
  },
  {
   "cell_type": "markdown",
   "id": "38906fa5",
   "metadata": {},
   "source": [
    "4. Find the courses a specific student (e.g., 'Alice Johnson') is enrolled in.\n",
    "Hint: Use JOIN between students, enrollments, and courses.\n",
    "\n",
    "\n",
    "SELECT s.name, c.course_name\n",
    "FROM students s\n",
    "JOIN enrollments e ON s.student_id = e.student_id\n",
    "JOIN courses c ON e.course_id = c.course_id\n",
    "WHERE s.name = 'Alice Johnson';"
   ]
  },
  {
   "cell_type": "code",
   "execution_count": 4,
   "id": "202d65a9",
   "metadata": {},
   "outputs": [
    {
     "name": "stdout",
     "output_type": "stream",
     "text": [
      "[('Alice Johnson', 1, 'Mathematics'), ('Alice Johnson', 2, 'Computer Science')]\n"
     ]
    }
   ],
   "source": [
    "cur.execute(\"\"\"\n",
    "    SELECT s.name, c.course_id, c.course_name\n",
    "    FROM students s\n",
    "    JOIN enrollments e ON s.student_id = e.student_id\n",
    "    JOIN courses c ON e.course_id = c.course_id\n",
    "    WHERE s.name = 'Alice Johnson'\n",
    "\"\"\")\n",
    "print(cur.fetchall())"
   ]
  },
  {
   "cell_type": "markdown",
   "id": "bf0fee50",
   "metadata": {},
   "source": [
    "5. List each student along with the number of courses they are enrolled in.\n",
    "Hint: Use JOIN, GROUP BY, and COUNT().\n",
    "\n",
    "\n",
    "SELECT s.name, COUNT(e.course_id) AS total_courses\n",
    "FROM students s\n",
    "JOIN enrollments e ON s.student_id = e.student_id\n",
    "GROUP BY s.name;"
   ]
  },
  {
   "cell_type": "code",
   "execution_count": 26,
   "id": "b8c1ef1d",
   "metadata": {},
   "outputs": [
    {
     "name": "stdout",
     "output_type": "stream",
     "text": [
      "students and number of enrolled courses:\n",
      " [('Alice Johnson', 2), ('Bob Smith', 1), ('Charlie Brown', 1)]\n"
     ]
    }
   ],
   "source": [
    "cur.execute(\"\"\"\n",
    "    SELECT s.name,COUNT(e.course_id) AS total_courses\n",
    "    FROM students s\n",
    "    JOIN enrollments e ON s.student_id = e.student_id GROUP BY s.name;\n",
    "\"\"\")\n",
    "print(\"students and number of enrolled courses:\\n\",cur.fetchall())"
   ]
  },
  {
   "cell_type": "markdown",
   "id": "5cb8d774",
   "metadata": {},
   "source": [
    "6. Find students who are not enrolled in any course.\n",
    "Hint: Use LEFT JOIN and check for NULL in the enrollments table.\n",
    "\n",
    "\n",
    "SELECT s.name\n",
    "FROM students s\n",
    "LEFT JOIN enrollments e ON s.student_id = e.student_id\n",
    "WHERE e.course_id IS NULL;\n"
   ]
  },
  {
   "cell_type": "code",
   "execution_count": 25,
   "id": "1391d701",
   "metadata": {},
   "outputs": [
    {
     "name": "stdout",
     "output_type": "stream",
     "text": [
      "Students who are not enrolled in any courses:\n",
      " [('Mohamed Ali',)]\n"
     ]
    }
   ],
   "source": [
    "cur.execute(\"\"\"\n",
    "    SELECT s.name  \n",
    "    FROM students s LEFT\n",
    "    JOIN enrollments e ON s.student_id = e.student_id \n",
    "    WHERE e.course_id IS NULL\n",
    "\"\"\")\n",
    "print(\"Students who are not enrolled in any courses:\\n\",cur.fetchall())"
   ]
  },
  {
   "cell_type": "markdown",
   "id": "4ce81f53",
   "metadata": {},
   "source": [
    "7. Show all enrollments sorted by grade (highest to lowest).\n",
    "Hint: Use ORDER BY with DESC.\n",
    "\n",
    "\n",
    "SELECT * \n",
    "FROM enrollments\n",
    "ORDER BY grade DESC;\n",
    "\n"
   ]
  },
  {
   "cell_type": "code",
   "execution_count": null,
   "id": "777f63de",
   "metadata": {},
   "outputs": [
    {
     "name": "stdout",
     "output_type": "stream",
     "text": [
      "[('Charlie Brown', 2, 'C'), ('Alice Johnson', 2, 'B'), ('Alice Johnson', 1, 'A'), ('Bob Smith', 3, 'A')]\n"
     ]
    }
   ],
   "source": [
    "cur.execute(\"\"\"\n",
    "    SELECT s.name, e.course_id, e.grade \n",
    "    FROM enrollments e \n",
    "    JOIN students s ON e.student_id = s.student_id\n",
    "    ORDER BY grade DESC;\n",
    "\"\"\")\n",
    "print(cur.fetchall())"
   ]
  },
  {
   "cell_type": "markdown",
   "id": "c6b9759f",
   "metadata": {},
   "source": [
    "Part 5: Bonus\n",
    "Write a query to find the average grade per course (Convert grades into numeric values if you want to calculate an average).\n",
    "\n",
    "Add a instructor table and modify your queries to include instructor names.\n",
    "\n"
   ]
  },
  {
   "cell_type": "markdown",
   "id": "1ec8f455",
   "metadata": {},
   "source": []
  }
 ],
 "metadata": {
  "kernelspec": {
   "display_name": ".venv",
   "language": "python",
   "name": "python3"
  },
  "language_info": {
   "codemirror_mode": {
    "name": "ipython",
    "version": 3
   },
   "file_extension": ".py",
   "mimetype": "text/x-python",
   "name": "python",
   "nbconvert_exporter": "python",
   "pygments_lexer": "ipython3",
   "version": "3.12.9"
  }
 },
 "nbformat": 4,
 "nbformat_minor": 5
}
