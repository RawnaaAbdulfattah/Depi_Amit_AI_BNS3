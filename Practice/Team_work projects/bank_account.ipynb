{
 "cells": [
  {
   "cell_type": "code",
   "execution_count": 2,
   "id": "8d46b14f",
   "metadata": {},
   "outputs": [],
   "source": [
    "\"\"\"\n",
    "BankAccount Class Documentation\n",
    "===============================\n",
    "\n",
    "This class simulates a simple bank account system.\n",
    "It provides basic operations such as deposit, withdraw, and check balance.\n",
    "\"\"\"\n",
    "\n",
    "class BankAccount:\n",
    "    \"\"\"A simple BankAccount class for managing basic banking operations.\"\"\"\n",
    "\n",
    "    def __init__(self , balance):\n",
    "        \"\"\"\n",
    "        Constructor Method\n",
    "        ------------------\n",
    "        Args:\n",
    "            balance (int or float): The initial balance of the account.\n",
    "        \"\"\"\n",
    "        self.balance = balance\n",
    "    \n",
    "\n",
    "    def deposit(self , amount):\n",
    "        \"\"\"\n",
    "        Deposit Method\n",
    "        --------------\n",
    "        Adds money to the account balance.\n",
    "\n",
    "        Args:\n",
    "            amount (int or float): The amount to be deposited.\n",
    "\n",
    "        Output:\n",
    "            Prints a message showing the deposited amount and the new balance.\n",
    "        \"\"\"\n",
    "        self.balance += amount\n",
    "        print(f'Deposited {amount}. New balance: {self.balance}')\n",
    "\n",
    "\n",
    "    def withdraw(self , amount):\n",
    "        \"\"\"\n",
    "        Withdraw Method\n",
    "        ----------------\n",
    "        Deducts money from the account balance if sufficient funds exist.\n",
    "\n",
    "        Args:\n",
    "            amount (int or float): The amount to be withdrawn.\n",
    "\n",
    "        Output:\n",
    "            - If the amount is greater than the balance → prints \"Insufficient funds\".\n",
    "            - Otherwise → deducts the amount and prints the new balance.\n",
    "        \"\"\"\n",
    "        if amount > self.balance:\n",
    "            print('Insufficient funds')\n",
    "        else:\n",
    "            self.balance -= amount\n",
    "            print(f'Withdrew {amount}. New balance: {self.balance}')\n",
    "\n",
    "\n",
    "    def check_balance(self):\n",
    "        \"\"\"\n",
    "        Check Balance Method\n",
    "        --------------------\n",
    "        Displays the current account balance.\n",
    "\n",
    "        Output:\n",
    "            - Prints the current balance.\n",
    "            - Returns a tuple containing references to:\n",
    "              (deposit, withdraw, check_balance).\n",
    "        \"\"\"\n",
    "        print(f'Current balance: {self.balance}')\n",
    "\n",
    "        return self.deposit, self.withdraw, self.check_balance\n"
   ]
  },
  {
   "cell_type": "code",
   "execution_count": 3,
   "id": "7618cb97",
   "metadata": {},
   "outputs": [],
   "source": [
    "BA = BankAccount(100)"
   ]
  },
  {
   "cell_type": "code",
   "execution_count": 4,
   "id": "d42dfb3c",
   "metadata": {},
   "outputs": [
    {
     "name": "stdout",
     "output_type": "stream",
     "text": [
      "Deposited 50. New balance: 150\n",
      "Withdrew 30. New balance: 120\n",
      "Current balance: 120\n"
     ]
    },
    {
     "data": {
      "text/plain": [
       "(<bound method BankAccount.deposit of <__main__.BankAccount object at 0x000001F7908D2C90>>,\n",
       " <bound method BankAccount.withdraw of <__main__.BankAccount object at 0x000001F7908D2C90>>,\n",
       " <bound method BankAccount.check_balance of <__main__.BankAccount object at 0x000001F7908D2C90>>)"
      ]
     },
     "execution_count": 4,
     "metadata": {},
     "output_type": "execute_result"
    }
   ],
   "source": [
    "BA.deposit(50)\n",
    "BA.withdraw(30)\n",
    "BA.check_balance()"
   ]
  },
  {
   "cell_type": "code",
   "execution_count": null,
   "id": "31f75619",
   "metadata": {},
   "outputs": [],
   "source": []
  }
 ],
 "metadata": {
  "kernelspec": {
   "display_name": ".venv",
   "language": "python",
   "name": "python3"
  },
  "language_info": {
   "codemirror_mode": {
    "name": "ipython",
    "version": 3
   },
   "file_extension": ".py",
   "mimetype": "text/x-python",
   "name": "python",
   "nbconvert_exporter": "python",
   "pygments_lexer": "ipython3",
   "version": "3.12.9"
  }
 },
 "nbformat": 4,
 "nbformat_minor": 5
}
