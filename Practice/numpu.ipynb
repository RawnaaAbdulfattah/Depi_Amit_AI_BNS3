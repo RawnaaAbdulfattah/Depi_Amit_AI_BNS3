{
 "cells": [
  {
   "cell_type": "code",
   "execution_count": 1,
   "id": "3cc5bb79",
   "metadata": {},
   "outputs": [
    {
     "name": "stdout",
     "output_type": "stream",
     "text": [
      "Requirement already satisfied: numpy in c:\\users\\computer market\\desktop\\depi\\depi_amit_ai_bns3\\.venv\\lib\\site-packages (2.3.1)\n",
      "Note: you may need to restart the kernel to use updated packages.\n"
     ]
    },
    {
     "name": "stderr",
     "output_type": "stream",
     "text": [
      "\n",
      "[notice] A new release of pip is available: 25.1.1 -> 25.2\n",
      "[notice] To update, run: python.exe -m pip install --upgrade pip\n"
     ]
    }
   ],
   "source": [
    "pip install numpy"
   ]
  },
  {
   "cell_type": "code",
   "execution_count": 2,
   "id": "9a272be1",
   "metadata": {},
   "outputs": [],
   "source": [
    "import numpy as np"
   ]
  },
  {
   "cell_type": "code",
   "execution_count": 11,
   "id": "0640dc93",
   "metadata": {},
   "outputs": [
    {
     "name": "stdout",
     "output_type": "stream",
     "text": [
      "1\n",
      "(3,)\n"
     ]
    }
   ],
   "source": [
    "s = np.array(5)\n",
    "# print(s.shape)\n",
    "v= np.array([1,2,3])\n",
    "m=np.array([[1,2,3],\n",
    "            [4,5,6],\n",
    "            [7,8,9]])\n",
    "print(v.ndim)\n",
    "print(v.shape)\n"
   ]
  },
  {
   "cell_type": "code",
   "execution_count": 4,
   "id": "1d2f066a",
   "metadata": {},
   "outputs": [
    {
     "name": "stdout",
     "output_type": "stream",
     "text": [
      "[1 2 3 4 5 6]\n",
      "[[1 2]\n",
      " [3 4]\n",
      " [5 6]]\n"
     ]
    }
   ],
   "source": [
    "vec_1=np.array([1,2,3,4,5,6])\n",
    "mat_1=vec_1.reshape(3,2)\n",
    "print(vec_1)\n",
    "print(mat_1)\n"
   ]
  },
  {
   "cell_type": "code",
   "execution_count": 5,
   "id": "a0aec499",
   "metadata": {},
   "outputs": [
    {
     "data": {
      "text/plain": [
       "np.int64(4)"
      ]
     },
     "execution_count": 5,
     "metadata": {},
     "output_type": "execute_result"
    }
   ],
   "source": [
    "vec_2=np.array([1,2,3,4])\n",
    "mat_2=vec_2.reshape((vec_2.shape[0],1))\n",
    "mat_2\n",
    "vec_2[3]"
   ]
  },
  {
   "cell_type": "code",
   "execution_count": 15,
   "id": "d672dba4",
   "metadata": {},
   "outputs": [
    {
     "data": {
      "text/plain": [
       "4"
      ]
     },
     "execution_count": 15,
     "metadata": {},
     "output_type": "execute_result"
    }
   ],
   "source": [
    "vec_2.shape[0]"
   ]
  },
  {
   "cell_type": "code",
   "execution_count": 27,
   "id": "10eacca7",
   "metadata": {},
   "outputs": [
    {
     "data": {
      "text/plain": [
       "array([2, 3])"
      ]
     },
     "execution_count": 27,
     "metadata": {},
     "output_type": "execute_result"
    }
   ],
   "source": [
    "vec_2[:,None]\n",
    "vec_2[:None]\n",
    "vec_2[1:3]"
   ]
  },
  {
   "cell_type": "code",
   "execution_count": 28,
   "id": "5962cfdd",
   "metadata": {},
   "outputs": [
    {
     "data": {
      "text/plain": [
       "array([[4., 1.],\n",
       "       [7., 8.]])"
      ]
     },
     "execution_count": 28,
     "metadata": {},
     "output_type": "execute_result"
    }
   ],
   "source": [
    "mat=np.array([[1,0.2,3],\n",
    "              [4,True,6],\n",
    "              [7,8,9]\n",
    "    \n",
    "])\n",
    "mat.dtype\n",
    "mat[1,2]\n",
    "mat[1:3,0:2]"
   ]
  },
  {
   "cell_type": "code",
   "execution_count": null,
   "id": "f3164fd2",
   "metadata": {},
   "outputs": [],
   "source": [
    "class A:\n",
    "    x=3\n",
    "    o1="
   ]
  },
  {
   "cell_type": "code",
   "execution_count": 29,
   "id": "001dda87",
   "metadata": {},
   "outputs": [
    {
     "data": {
      "text/plain": [
       "array([[1. , 4. , 7. ],\n",
       "       [0.2, 1. , 8. ],\n",
       "       [3. , 6. , 9. ]])"
      ]
     },
     "execution_count": 29,
     "metadata": {},
     "output_type": "execute_result"
    }
   ],
   "source": [
    "transpose_arr=mat.T\n",
    "transpose_arr"
   ]
  },
  {
   "cell_type": "code",
   "execution_count": 31,
   "id": "fdffc0cb",
   "metadata": {},
   "outputs": [
    {
     "data": {
      "text/plain": [
       "array([[0., 0., 0., 0.],\n",
       "       [0., 0., 0., 0.],\n",
       "       [0., 0., 0., 0.]])"
      ]
     },
     "execution_count": 31,
     "metadata": {},
     "output_type": "execute_result"
    }
   ],
   "source": [
    "mat=np.zeros((3,4))\n",
    "mat"
   ]
  },
  {
   "cell_type": "code",
   "execution_count": 32,
   "id": "43caba92",
   "metadata": {},
   "outputs": [
    {
     "ename": "SyntaxError",
     "evalue": "invalid syntax (3238672960.py, line 1)",
     "output_type": "error",
     "traceback": [
      "  \u001b[36mCell\u001b[39m\u001b[36m \u001b[39m\u001b[32mIn[32]\u001b[39m\u001b[32m, line 1\u001b[39m\n\u001b[31m    \u001b[39m\u001b[31mmat=np.identity(3,,dtype='float32')\u001b[39m\n                      ^\n\u001b[31mSyntaxError\u001b[39m\u001b[31m:\u001b[39m invalid syntax\n"
     ]
    }
   ],
   "source": [
    "mat=np.identity(3,,dtype='float32')\n",
    "mat"
   ]
  },
  {
   "cell_type": "code",
   "execution_count": 6,
   "id": "f91acd84",
   "metadata": {},
   "outputs": [],
   "source": [
    "np.savez('test.npz',ones_mat=mat_1,zero_mat=mat_2)"
   ]
  },
  {
   "cell_type": "code",
   "execution_count": 8,
   "id": "dfded19e",
   "metadata": {},
   "outputs": [
    {
     "data": {
      "text/plain": [
       "array([[1, 2],\n",
       "       [3, 4],\n",
       "       [5, 6]])"
      ]
     },
     "execution_count": 8,
     "metadata": {},
     "output_type": "execute_result"
    }
   ],
   "source": [
    "with np.load('test.npz') as file:\n",
    "    mat_1=file['ones_mat']\n",
    "    mat_2=file['zero_mat']\n",
    "mat_1"
   ]
  },
  {
   "cell_type": "code",
   "execution_count": 10,
   "id": "09c02a9c",
   "metadata": {},
   "outputs": [
    {
     "data": {
      "text/plain": [
       "array([[4, 7, 8],\n",
       "       [0, 0, 0],\n",
       "       [2, 5, 9],\n",
       "       [1, 1, 1]])"
      ]
     },
     "execution_count": 10,
     "metadata": {},
     "output_type": "execute_result"
    }
   ],
   "source": [
    "m1=np.array([[4,7,8],\n",
    "             [0,0,0]])\n",
    "\n",
    "m2=np.array([[2,5,9],\n",
    "             [1,1,1]])\n",
    "\n",
    "vert_mat=np.vstack((m1,m2))\n",
    "vert_mat"
   ]
  },
  {
   "cell_type": "code",
   "execution_count": 11,
   "id": "dcc45076",
   "metadata": {},
   "outputs": [
    {
     "data": {
      "text/plain": [
       "array([[4, 7, 8, 2, 5, 9],\n",
       "       [0, 0, 0, 1, 1, 1]])"
      ]
     },
     "execution_count": 11,
     "metadata": {},
     "output_type": "execute_result"
    }
   ],
   "source": [
    "m1=np.array([[4,7,8],\n",
    "             [0,0,0]])\n",
    "\n",
    "m2=np.array([[2,5,9],\n",
    "             [1,1,1]])\n",
    "\n",
    "vert_mat=np.hstack((m1,m2))\n",
    "vert_mat"
   ]
  },
  {
   "cell_type": "code",
   "execution_count": 12,
   "id": "7852ff6f",
   "metadata": {},
   "outputs": [
    {
     "data": {
      "text/plain": [
       "array([False,  True, False, False, False])"
      ]
     },
     "execution_count": 12,
     "metadata": {},
     "output_type": "execute_result"
    }
   ],
   "source": [
    "s=4\n",
    "v=np.array([2,4,1,7,6])\n",
    "v==s"
   ]
  },
  {
   "cell_type": "code",
   "execution_count": 13,
   "id": "2fe3a181",
   "metadata": {},
   "outputs": [
    {
     "data": {
      "text/plain": [
       "np.True_"
      ]
     },
     "execution_count": 13,
     "metadata": {},
     "output_type": "execute_result"
    }
   ],
   "source": [
    "v=np.array([2,4,1,7,6])\n",
    "np.any(v>3)"
   ]
  },
  {
   "cell_type": "code",
   "execution_count": 14,
   "id": "fbddb152",
   "metadata": {},
   "outputs": [
    {
     "data": {
      "text/plain": [
       "array([ True,  True,  True, False,  True])"
      ]
     },
     "execution_count": 14,
     "metadata": {},
     "output_type": "execute_result"
    }
   ],
   "source": [
    "v1=np.array([2,4,1,7,6])\n",
    "v2=np.array([1,5,1,9,7])\n",
    "np.isclose(v1,v2,atol=1)\n"
   ]
  },
  {
   "cell_type": "code",
   "execution_count": 15,
   "id": "54ec13bf",
   "metadata": {},
   "outputs": [
    {
     "name": "stdout",
     "output_type": "stream",
     "text": [
      "[4 7 6]\n"
     ]
    }
   ],
   "source": [
    "v=np.array([2,4,1,7,6])\n",
    "condition= v>=4\n",
    "cond_access =v[condition]\n",
    "print(cond_access)"
   ]
  }
 ],
 "metadata": {
  "kernelspec": {
   "display_name": ".venv",
   "language": "python",
   "name": "python3"
  },
  "language_info": {
   "codemirror_mode": {
    "name": "ipython",
    "version": 3
   },
   "file_extension": ".py",
   "mimetype": "text/x-python",
   "name": "python",
   "nbconvert_exporter": "python",
   "pygments_lexer": "ipython3",
   "version": "3.12.9"
  }
 },
 "nbformat": 4,
 "nbformat_minor": 5
}
