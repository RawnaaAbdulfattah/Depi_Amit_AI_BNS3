{
 "cells": [
  {
   "cell_type": "code",
   "execution_count": 21,
   "id": "93fc5e75",
   "metadata": {},
   "outputs": [
    {
     "name": "stdout",
     "output_type": "stream",
     "text": [
      "\"my age is\" 30\n"
     ]
    }
   ],
   "source": [
    "x=\"rawnaa\"\n",
    "# x=20\n",
    "y=30\n",
    "# z=x+y\n",
    "print(\"\\\"my age is\\\"\", y)"
   ]
  },
  {
   "cell_type": "code",
   "execution_count": null,
   "id": "0a4acdc9",
   "metadata": {},
   "outputs": [
    {
     "name": "stdout",
     "output_type": "stream",
     "text": [
      "my name is rawnaa , and my age is 30\n"
     ]
    },
    {
     "data": {
      "text/plain": [
       "False"
      ]
     },
     "execution_count": 19,
     "metadata": {},
     "output_type": "execute_result"
    }
   ],
   "source": [
    "# hex(id(x))\n",
    "print(\"my name is {0} , and my age is {1}\".format(x,y))\n",
    "\"x\"in \"xiever\"\n"
   ]
  },
  {
   "cell_type": "code",
   "execution_count": 18,
   "id": "5efe6a6d",
   "metadata": {},
   "outputs": [
    {
     "name": "stdout",
     "output_type": "stream",
     "text": [
      "my name is rawnaa, and my age 30\n"
     ]
    }
   ],
   "source": [
    "type(x)\n",
    "print(f\"my name is {x}, and my age {y}\")"
   ]
  },
  {
   "cell_type": "code",
   "execution_count": 21,
   "id": "79fd183b",
   "metadata": {},
   "outputs": [],
   "source": [
    "list_1={1,2,3}\n",
    "type(list_1)\n",
    "list_2=\"rawnaa\""
   ]
  },
  {
   "cell_type": "code",
   "execution_count": 22,
   "id": "ddb221a0",
   "metadata": {},
   "outputs": [
    {
     "data": {
      "text/plain": [
       "['r', 'a', 'w', 'n', 'a', 'a']"
      ]
     },
     "execution_count": 22,
     "metadata": {},
     "output_type": "execute_result"
    }
   ],
   "source": [
    "list(list_1)\n",
    "list(list_2)"
   ]
  },
  {
   "cell_type": "code",
   "execution_count": 38,
   "id": "08166d61",
   "metadata": {},
   "outputs": [
    {
     "name": "stdout",
     "output_type": "stream",
     "text": [
      " Amit \n",
      "  timA\n"
     ]
    }
   ],
   "source": [
    "str_1=\" Amit Learning\"\n",
    "word_1 = str_1[0:5:1]\n",
    "word_2 = str_1[5:0:-1]\n",
    "print(word_1 ,\"\\n\" , word_2)"
   ]
  },
  {
   "cell_type": "code",
   "execution_count": 2,
   "id": "39297dc4",
   "metadata": {},
   "outputs": [
    {
     "name": "stdout",
     "output_type": "stream",
     "text": [
      " welcome PGTQ\n"
     ]
    }
   ],
   "source": [
    "encoded_massage = \"###!!@mocleW EPGTQ!!!6789 \"\n",
    "word_1 = encoded_massage[12:5:-1] + encoded_massage[13]\n",
    "word_2 = encoded_massage[14:18:1]\n",
    "print(word_1.capitalize() , word_2)"
   ]
  },
  {
   "cell_type": "code",
   "execution_count": null,
   "id": "b3c0f745",
   "metadata": {},
   "outputs": [
    {
     "name": "stdout",
     "output_type": "stream",
     "text": [
      "MOCLEw epgtq\n"
     ]
    }
   ],
   "source": [
    "# encoded_massage = \"###!!@mocleW EPGTQ!!!6789 \"\n",
    "# encoded_massage_1 = encoded_massage[6:18:1].swapcase()\n",
    "# word_3 = encoded_massage[12:5:-1] + encoded_massage[13]\n",
    "# word_4 = encoded_massage[14:18:1]\n",
    "# print(encoded_massage_1 )"
   ]
  },
  {
   "cell_type": "code",
   "execution_count": 33,
   "id": "ddadb4a7",
   "metadata": {},
   "outputs": [
    {
     "name": "stdout",
     "output_type": "stream",
     "text": [
      "hello Learning\n",
      "amit learning\n",
      "2\n"
     ]
    }
   ],
   "source": [
    "print(str_1.replace(\"Amit\",\"hello\"))\n",
    "print(str_1.lower())\n",
    "#upper, captalize\n",
    "cr=\"if you can throw a can\"\n",
    "print(cr.count(\"can\"))"
   ]
  },
  {
   "cell_type": "code",
   "execution_count": 3,
   "id": "b8bfb3f3",
   "metadata": {},
   "outputs": [
    {
     "name": "stdout",
     "output_type": "stream",
     "text": [
      "this is a sentence\n"
     ]
    }
   ],
   "source": [
    "words=[\"this\", \"is\", \"a\", \"sentence\"]\n",
    "sentence=' '.join(words)\n",
    "print(sentence)"
   ]
  },
  {
   "cell_type": "code",
   "execution_count": null,
   "id": "d0ce4d55",
   "metadata": {},
   "outputs": [],
   "source": [
    "# m=\"0123456789\"\n",
    "# print(m[-2:-6:-2])\n",
    "list_3=[1,2,3,4]\n",
    "list_3*2\n",
    "list_4=['ahmed',34,70,True]\n",
    "len(list_3)\n",
    "f=list_3 +\"rawnaa\""
   ]
  },
  {
   "cell_type": "code",
   "execution_count": 17,
   "id": "fc22baeb",
   "metadata": {},
   "outputs": [
    {
     "data": {
      "text/plain": [
       "'v1'"
      ]
     },
     "execution_count": 17,
     "metadata": {},
     "output_type": "execute_result"
    }
   ],
   "source": [
    "dic_1={'key_1':\"v1\", 'key_2':\"v2\"}\n",
    "dic_1['key_1']"
   ]
  },
  {
   "cell_type": "code",
   "execution_count": 23,
   "id": "5ec2a0ea",
   "metadata": {},
   "outputs": [
    {
     "data": {
      "text/plain": [
       "'ghky'"
      ]
     },
     "execution_count": 23,
     "metadata": {},
     "output_type": "execute_result"
    }
   ],
   "source": [
    "s=\"welcome to depi\"\n",
    "s.find(\"depi\")\n",
    "g=\"       ghky     \"\n",
    "g.strip()"
   ]
  },
  {
   "cell_type": "code",
   "execution_count": 28,
   "id": "4a0b2caa",
   "metadata": {},
   "outputs": [
    {
     "name": "stdout",
     "output_type": "stream",
     "text": [
      "the sum of num1 30 and num2 20 is 50\n"
     ]
    }
   ],
   "source": [
    "num_1 = int(input(\"enter num1\"))\n",
    "num_2 = int(input(\"enter num2\"))\n",
    "sum = num_1 + num_2\n",
    "print(f\"the sum of num1 {num_1} and num2 {num_2} is\", sum)"
   ]
  },
  {
   "cell_type": "code",
   "execution_count": 6,
   "id": "6a821586",
   "metadata": {},
   "outputs": [
    {
     "data": {
      "text/plain": [
       "'ML'"
      ]
     },
     "execution_count": 6,
     "metadata": {},
     "output_type": "execute_result"
    }
   ],
   "source": [
    "list_one = [1,2,3,4,\"depi\",\"learning\",True,[1,2,3,\"true\"],[\"ML\",\"DL\",\"DS\"]]\n",
    "type(list_one)\n",
    "list_one[8][0]"
   ]
  },
  {
   "cell_type": "code",
   "execution_count": null,
   "id": "f1242738",
   "metadata": {},
   "outputs": [
    {
     "name": "stdout",
     "output_type": "stream",
     "text": [
      "['r', 'a', 'w', 'n', 'a', 'a'] <class 'list'>\n"
     ]
    }
   ],
   "source": [
    "name = \"rawnaa\"\n",
    "y = list(name)\n",
    "print(y, type(y))\n"
   ]
  },
  {
   "cell_type": "code",
   "execution_count": 10,
   "id": "8ad9cf80",
   "metadata": {},
   "outputs": [
    {
     "data": {
      "text/plain": [
       "['depi', 'data', 'science', 'machine learning']"
      ]
     },
     "execution_count": 10,
     "metadata": {},
     "output_type": "execute_result"
    }
   ],
   "source": [
    "list_11 = [\"depi\", \"data\", \"science\"]\n",
    "list_11.append(\"machine learning\")\n",
    "list_11"
   ]
  },
  {
   "cell_type": "code",
   "execution_count": null,
   "id": "3e75d8eb",
   "metadata": {},
   "outputs": [
    {
     "data": {
      "text/plain": [
       "['machine learning', 'depi', 'science']"
      ]
     },
     "execution_count": 20,
     "metadata": {},
     "output_type": "execute_result"
    }
   ],
   "source": [
    "list_11 = [\"depi\",\"depi\", \"data\", \"science\"]\n",
    "list_11.insert(0,\"machine learning\")\n",
    "list_11.remove(\"depi\")\n",
    "list_11.pop(2) #if inside pop is empty remove the last object\n",
    "list_11"
   ]
  },
  {
   "cell_type": "code",
   "execution_count": 17,
   "id": "0f7f9e66",
   "metadata": {},
   "outputs": [
    {
     "name": "stdout",
     "output_type": "stream",
     "text": [
      "[1, 2, 3, 3, 4, 5] [1, 2, 3, 4, 5]\n"
     ]
    }
   ],
   "source": [
    "x1=[1,2,3]\n",
    "x2=[3,4,5]\n",
    "z1=x1+x2\n",
    "x1.extend(x2)\n",
    "z1.remove(3)\n",
    "print(x1,z1)"
   ]
  },
  {
   "cell_type": "code",
   "execution_count": 26,
   "id": "fff4afbd",
   "metadata": {},
   "outputs": [
    {
     "data": {
      "text/plain": [
       "[]"
      ]
     },
     "execution_count": 26,
     "metadata": {},
     "output_type": "execute_result"
    }
   ],
   "source": [
    "my_list =[3,1,4,7,5,1,2]\n",
    "my_list.sort()\n",
    "my_list.clear()\n",
    "my_list"
   ]
  },
  {
   "cell_type": "code",
   "execution_count": null,
   "id": "5d1c0002",
   "metadata": {},
   "outputs": [
    {
     "ename": "NameError",
     "evalue": "name 'my_list' is not defined",
     "output_type": "error",
     "traceback": [
      "\u001b[31m---------------------------------------------------------------------------\u001b[39m",
      "\u001b[31mNameError\u001b[39m                                 Traceback (most recent call last)",
      "\u001b[36mCell\u001b[39m\u001b[36m \u001b[39m\u001b[32mIn[25]\u001b[39m\u001b[32m, line 1\u001b[39m\n\u001b[32m----> \u001b[39m\u001b[32m1\u001b[39m \u001b[38;5;28;01mdel\u001b[39;00m \u001b[43mmy_list\u001b[49m\n\u001b[32m      2\u001b[39m my_list\n",
      "\u001b[31mNameError\u001b[39m: name 'my_list' is not defined"
     ]
    }
   ],
   "source": [
    "del my_list #delete the list\n",
    "my_list"
   ]
  },
  {
   "cell_type": "code",
   "execution_count": 29,
   "id": "07112b80",
   "metadata": {},
   "outputs": [
    {
     "name": "stdout",
     "output_type": "stream",
     "text": [
      "<class 'tuple'>\n"
     ]
    },
    {
     "data": {
      "text/plain": [
       "(1, 2, 3, 4, 'amit', 'learning', True, [1, 2, 3, 'true'], ['ML', 'DL', 'DS'])"
      ]
     },
     "execution_count": 29,
     "metadata": {},
     "output_type": "execute_result"
    }
   ],
   "source": [
    "tuple_one = (1,2,3,4,\"depi\",\"learning\",True,[1,2,3,\"true\"],[\"ML\",\"DL\",\"DS\"])\n",
    "print(type(tuple_one))\n",
    "#to add an object to the tuple you can't so to do that you must convert the tuple to list and edit it and return it to tuple\n",
    "x=list(tuple_one)\n",
    "x[4]=\"amit\"\n",
    "y= tuple(x)\n",
    "y"
   ]
  },
  {
   "cell_type": "code",
   "execution_count": 31,
   "id": "2f7b2097",
   "metadata": {},
   "outputs": [
    {
     "ename": "TypeError",
     "evalue": "'set' object is not subscriptable",
     "output_type": "error",
     "traceback": [
      "\u001b[31m---------------------------------------------------------------------------\u001b[39m",
      "\u001b[31mTypeError\u001b[39m                                 Traceback (most recent call last)",
      "\u001b[36mCell\u001b[39m\u001b[36m \u001b[39m\u001b[32mIn[31]\u001b[39m\u001b[32m, line 4\u001b[39m\n\u001b[32m      2\u001b[39m x3=\u001b[38;5;28mset\u001b[39m(x2)\n\u001b[32m      3\u001b[39m x3\n\u001b[32m----> \u001b[39m\u001b[32m4\u001b[39m \u001b[43mx3\u001b[49m\u001b[43m[\u001b[49m\u001b[32;43m0\u001b[39;49m\u001b[43m]\u001b[49m\n",
      "\u001b[31mTypeError\u001b[39m: 'set' object is not subscriptable"
     ]
    }
   ],
   "source": [
    "x2=[\"ahmed\",\"ahmed\",\"ali\",\"aya\"]\n",
    "x3=set(x2)\n",
    "x3\n",
    "x3[0]"
   ]
  },
  {
   "cell_type": "code",
   "execution_count": 33,
   "id": "494968fb",
   "metadata": {},
   "outputs": [
    {
     "data": {
      "text/plain": [
       "{'key1': 'amit learning', 'key2': 'depi', 'key3': 'python'}"
      ]
     },
     "execution_count": 33,
     "metadata": {},
     "output_type": "execute_result"
    }
   ],
   "source": [
    "dict_1={\"key1\":12, \"key2\":\"depi\",\"key3\":\"python\"}\n",
    "dict_1[\"key1\"]=\"amit learning\"\n",
    "dict_1"
   ]
  },
  {
   "cell_type": "code",
   "execution_count": 34,
   "id": "3a9a021e",
   "metadata": {},
   "outputs": [
    {
     "data": {
      "text/plain": [
       "{'a': 1, 'b': 2, 'c': 3}"
      ]
     },
     "execution_count": 34,
     "metadata": {},
     "output_type": "execute_result"
    }
   ],
   "source": [
    "list_1=[(\"a\",1),(\"b\",2),(\"c\",3)]\n",
    "zz=dict(list_1)\n",
    "zz"
   ]
  },
  {
   "cell_type": "code",
   "execution_count": 2,
   "id": "639eecb1",
   "metadata": {},
   "outputs": [
    {
     "name": "stdout",
     "output_type": "stream",
     "text": [
      "the num is even\n"
     ]
    }
   ],
   "source": [
    "x=6\n",
    "if x%2==0 :\n",
    "    print(\"the num is even\")\n",
    "else :\n",
    "    print(\"the num is odd\")"
   ]
  },
  {
   "cell_type": "code",
   "execution_count": 3,
   "id": "2f7fd057",
   "metadata": {},
   "outputs": [
    {
     "name": "stdout",
     "output_type": "stream",
     "text": [
      "your grade is 'C'\n"
     ]
    }
   ],
   "source": [
    "degree = int(input(\"enter your degree\"))\n",
    "if degree>=90 :\n",
    "    print(\"your grade is 'A'\")\n",
    "elif 90>degree>80 :\n",
    "    print(\"your grade is 'B'\")\n",
    "elif 80>degree>70 :\n",
    "    print(\"your grade is 'C'\")\n",
    "elif 70>degree>60 :\n",
    "    print(\"your grade is 'D'\")\n",
    "else :\n",
    "    print(\"your grade is 'F'\")\n",
    "    "
   ]
  },
  {
   "cell_type": "code",
   "execution_count": 5,
   "id": "22f3fe78",
   "metadata": {},
   "outputs": [
    {
     "name": "stdout",
     "output_type": "stream",
     "text": [
      "pass\n",
      "your grade is 'B'\n"
     ]
    }
   ],
   "source": [
    "degree = int(input(\"enter your degree\"))\n",
    "if degree>60 :\n",
    "    print(\"pass\")\n",
    "    if 90>degree>80 :\n",
    "        print(\"your grade is 'B'\")\n",
    "    elif 80>degree>70 :\n",
    "        print(\"your grade is 'C'\")\n",
    "    elif 70>degree>60 :\n",
    "        print(\"your grade is 'D'\")\n",
    "else:\n",
    "    print(\"failed\")\n",
    "    print(\"your grade is 'F'\")"
   ]
  },
  {
   "cell_type": "code",
   "execution_count": 7,
   "id": "75c4d5ee",
   "metadata": {},
   "outputs": [
    {
     "name": "stdout",
     "output_type": "stream",
     "text": [
      "0\n",
      "1\n",
      "2\n",
      "4\n",
      "5\n"
     ]
    }
   ],
   "source": [
    "for i in range (6):\n",
    "    if i==3 :\n",
    "        continue\n",
    "    print(i)"
   ]
  },
  {
   "cell_type": "code",
   "execution_count": 8,
   "id": "54f32c50",
   "metadata": {},
   "outputs": [
    {
     "name": "stdout",
     "output_type": "stream",
     "text": [
      "0\n",
      "1\n",
      "2\n"
     ]
    }
   ],
   "source": [
    "for i in range (6):\n",
    "    if i==3 :\n",
    "        break\n",
    "    print(i)"
   ]
  },
  {
   "cell_type": "code",
   "execution_count": 11,
   "id": "1728ed86",
   "metadata": {},
   "outputs": [
    {
     "name": "stdout",
     "output_type": "stream",
     "text": [
      "0\n",
      "1\n",
      "2\n",
      "4\n",
      "5\n"
     ]
    }
   ],
   "source": [
    "for i in range (6):\n",
    "    if i==3 :\n",
    "        pass\n",
    "    else:\n",
    "        print(i)"
   ]
  },
  {
   "cell_type": "code",
   "execution_count": null,
   "id": "046ed013",
   "metadata": {},
   "outputs": [],
   "source": [
    "x = 6\n",
    "while x>0:\n",
    "    print(x) #infinite loop"
   ]
  },
  {
   "cell_type": "code",
   "execution_count": 13,
   "id": "1bd063e2",
   "metadata": {},
   "outputs": [
    {
     "name": "stdout",
     "output_type": "stream",
     "text": [
      "6\n",
      "5\n",
      "4\n",
      "3\n",
      "2\n",
      "1\n"
     ]
    }
   ],
   "source": [
    "x=6\n",
    "while x>0:\n",
    "    print(x)\n",
    "    x-=1"
   ]
  },
  {
   "cell_type": "code",
   "execution_count": 5,
   "id": "858db158",
   "metadata": {},
   "outputs": [],
   "source": [
    "import os\n",
    "import sys"
   ]
  },
  {
   "cell_type": "code",
   "execution_count": 6,
   "id": "c03464c7",
   "metadata": {},
   "outputs": [],
   "source": [
    "f = open(\"C:/RONIN/rawnaa.txt\",\"r\") #to avoid the error change the direction of the slash in the path"
   ]
  },
  {
   "cell_type": "code",
   "execution_count": 7,
   "id": "04995264",
   "metadata": {},
   "outputs": [
    {
     "name": "stdout",
     "output_type": "stream",
     "text": [
      "hello depi\n"
     ]
    }
   ],
   "source": [
    "print(f.read())"
   ]
  },
  {
   "cell_type": "code",
   "execution_count": 28,
   "id": "85fc827c",
   "metadata": {},
   "outputs": [
    {
     "name": "stdout",
     "output_type": "stream",
     "text": [
      "<_io.TextIOWrapper name='C:/RONIN/rawnaa.txt' mode='w' encoding='cp1252'>\n"
     ]
    }
   ],
   "source": [
    "f = open(\"C:/RONIN/rawnaa.txt\",\"w\")\n",
    "f.write(\"hello depi\")\n",
    "print(f)\n"
   ]
  },
  {
   "cell_type": "code",
   "execution_count": 2,
   "id": "ecf48570",
   "metadata": {},
   "outputs": [
    {
     "name": "stdout",
     "output_type": "stream",
     "text": [
      "hello depi\n"
     ]
    }
   ],
   "source": [
    "f = open(\"C:/RONIN/rawnaa.txt\",\"r\")\n",
    "print(f.read())"
   ]
  },
  {
   "cell_type": "code",
   "execution_count": null,
   "id": "20ed1ffe",
   "metadata": {},
   "outputs": [],
   "source": [
    "def info_std(name :str, age :int):\n",
    "    print(f\"my name is {name},my age is {age}\")\n",
    "    "
   ]
  },
  {
   "cell_type": "code",
   "execution_count": 15,
   "id": "8a8c2c3c",
   "metadata": {},
   "outputs": [
    {
     "name": "stdout",
     "output_type": "stream",
     "text": [
      "my name is rawnaa,my age is 20\n"
     ]
    }
   ],
   "source": [
    "info_std(\"rawnaa\",\"20\")"
   ]
  },
  {
   "cell_type": "code",
   "execution_count": 17,
   "id": "191e3682",
   "metadata": {},
   "outputs": [
    {
     "data": {
      "text/plain": [
       "2.0"
      ]
     },
     "execution_count": 17,
     "metadata": {},
     "output_type": "execute_result"
    }
   ],
   "source": [
    "import math\n",
    "math.sin(50)\n",
    "math.sqrt(4)"
   ]
  },
  {
   "cell_type": "code",
   "execution_count": null,
   "id": "fe8fd409",
   "metadata": {},
   "outputs": [],
   "source": [
    "def info_std(name=\"abs\", age=12):\n",
    "    print(f\"my name is {name},my age is {age}\")"
   ]
  },
  {
   "cell_type": "code",
   "execution_count": 24,
   "id": "9a655992",
   "metadata": {},
   "outputs": [],
   "source": [
    "def info_st(*name) :\n",
    "    print(f\"my name is {name}\")"
   ]
  },
  {
   "cell_type": "code",
   "execution_count": 26,
   "id": "d2b2009f",
   "metadata": {},
   "outputs": [],
   "source": [
    "def func(**name):\n",
    "    print(name)\n",
    "    print(type(name))\n",
    "    func(k1=10.5,k2=3,k3=\"ml\",k4=\"py\")"
   ]
  },
  {
   "cell_type": "code",
   "execution_count": 27,
   "id": "7515990c",
   "metadata": {},
   "outputs": [],
   "source": [
    "def sum_num(x):\n",
    "    return x+10"
   ]
  },
  {
   "cell_type": "code",
   "execution_count": 30,
   "id": "c932bf06",
   "metadata": {},
   "outputs": [
    {
     "data": {
      "text/plain": [
       "20"
      ]
     },
     "execution_count": 30,
     "metadata": {},
     "output_type": "execute_result"
    }
   ],
   "source": [
    "sum_num(10)"
   ]
  },
  {
   "cell_type": "code",
   "execution_count": 29,
   "id": "ff2eec6d",
   "metadata": {},
   "outputs": [
    {
     "data": {
      "text/plain": [
       "function"
      ]
     },
     "execution_count": 29,
     "metadata": {},
     "output_type": "execute_result"
    }
   ],
   "source": [
    "sum_n =lambda x:x+10\n",
    "type(sum_n)"
   ]
  },
  {
   "cell_type": "code",
   "execution_count": 31,
   "id": "c6b4e61f",
   "metadata": {},
   "outputs": [
    {
     "data": {
      "text/plain": [
       "50"
      ]
     },
     "execution_count": 31,
     "metadata": {},
     "output_type": "execute_result"
    }
   ],
   "source": [
    "sum_n(40)"
   ]
  },
  {
   "cell_type": "code",
   "execution_count": null,
   "id": "a7727bc3",
   "metadata": {},
   "outputs": [],
   "source": [
    "def sum_1(n):\n",
    "    return lambda a:a*n\n",
    "fun_1 =lambda a:a*n\n",
    "fun_1(11)\n",
    "sum_1(2)\n"
   ]
  },
  {
   "cell_type": "code",
   "execution_count": 39,
   "id": "6c785661",
   "metadata": {},
   "outputs": [
    {
     "name": "stdout",
     "output_type": "stream",
     "text": [
      "not accept to divided by zero\n"
     ]
    }
   ],
   "source": [
    "try:\n",
    "    5/0\n",
    "except:\n",
    "    print(\"not accept to divided by zero\")"
   ]
  },
  {
   "cell_type": "code",
   "execution_count": 44,
   "id": "7db3f16c",
   "metadata": {},
   "outputs": [
    {
     "ename": "ZeroDivisionError",
     "evalue": "division by zero",
     "output_type": "error",
     "traceback": [
      "\u001b[31m---------------------------------------------------------------------------\u001b[39m",
      "\u001b[31mZeroDivisionError\u001b[39m                         Traceback (most recent call last)",
      "\u001b[36mCell\u001b[39m\u001b[36m \u001b[39m\u001b[32mIn[44]\u001b[39m\u001b[32m, line 4\u001b[39m\n\u001b[32m      2\u001b[39m     x=\u001b[32m10\u001b[39m\n\u001b[32m      3\u001b[39m     y=\u001b[38;5;28mint\u001b[39m(\u001b[38;5;28minput\u001b[39m(\u001b[33m\"\u001b[39m\u001b[33menter your value\u001b[39m\u001b[33m\"\u001b[39m))\n\u001b[32m----> \u001b[39m\u001b[32m4\u001b[39m     \u001b[43mx\u001b[49m\u001b[43m/\u001b[49m\u001b[43my\u001b[49m\n\u001b[32m      5\u001b[39m \u001b[38;5;28;01mexcept\u001b[39;00m \u001b[38;5;167;01mNameError\u001b[39;00m:\n\u001b[32m      6\u001b[39m     \u001b[38;5;28mprint\u001b[39m(\u001b[33m\"\u001b[39m\u001b[33mnot accept to divided by zero\u001b[39m\u001b[33m\"\u001b[39m)\n",
      "\u001b[31mZeroDivisionError\u001b[39m: division by zero"
     ]
    }
   ],
   "source": [
    "try:\n",
    "    x=10\n",
    "    y=int(input(\"enter your value\"))\n",
    "    x/y\n",
    "except NameError:\n",
    "    print(\"not accept to divided by zero\")"
   ]
  },
  {
   "cell_type": "code",
   "execution_count": 61,
   "id": "9d822358",
   "metadata": {},
   "outputs": [
    {
     "data": {
      "text/plain": [
       "0.0008290321360225025"
      ]
     },
     "execution_count": 61,
     "metadata": {},
     "output_type": "execute_result"
    }
   ],
   "source": [
    "import random\n",
    "n=random.random()\n",
    "def calc_degree(n):\n",
    "    return n*n\n",
    "calc_degree(n)"
   ]
  },
  {
   "cell_type": "code",
   "execution_count": 1,
   "id": "7279ca78",
   "metadata": {},
   "outputs": [
    {
     "ename": "NameError",
     "evalue": "name 'random' is not defined",
     "output_type": "error",
     "traceback": [
      "\u001b[31m---------------------------------------------------------------------------\u001b[39m",
      "\u001b[31mNameError\u001b[39m                                 Traceback (most recent call last)",
      "\u001b[36mCell\u001b[39m\u001b[36m \u001b[39m\u001b[32mIn[1]\u001b[39m\u001b[32m, line 2\u001b[39m\n\u001b[32m      1\u001b[39m list_1=[\u001b[33m\"\u001b[39m\u001b[33mahmed\u001b[39m\u001b[33m\"\u001b[39m,\u001b[33m\"\u001b[39m\u001b[33mrawnaa\u001b[39m\u001b[33m\"\u001b[39m,\u001b[33m\"\u001b[39m\u001b[33mibrahim\u001b[39m\u001b[33m\"\u001b[39m,\u001b[33m\"\u001b[39m\u001b[33msabah\u001b[39m\u001b[33m\"\u001b[39m,\u001b[33m\"\u001b[39m\u001b[33mabdulfattah\u001b[39m\u001b[33m\"\u001b[39m,\u001b[33m\"\u001b[39m\u001b[33mmona\u001b[39m\u001b[33m\"\u001b[39m]\n\u001b[32m----> \u001b[39m\u001b[32m2\u001b[39m \u001b[43mrandom\u001b[49m.choice(list_1)\n",
      "\u001b[31mNameError\u001b[39m: name 'random' is not defined"
     ]
    }
   ],
   "source": [
    "list_1=[\"ahmed\",\"rawnaa\",\"ibrahim\",\"sabah\",\"abdulfattah\",\"mona\"]\n",
    "random.choice(list_1)"
   ]
  },
  {
   "cell_type": "code",
   "execution_count": 46,
   "id": "10ad9d99",
   "metadata": {},
   "outputs": [
    {
     "name": "stdout",
     "output_type": "stream",
     "text": [
      "my name is ron,my age is 21\n"
     ]
    }
   ],
   "source": [
    "from info import info_std\n",
    "info_std(\"ron\",21)\n",
    "#import function from a file"
   ]
  },
  {
   "cell_type": "code",
   "execution_count": 2,
   "id": "99a0ce19",
   "metadata": {},
   "outputs": [],
   "source": [
    "import os"
   ]
  },
  {
   "cell_type": "code",
   "execution_count": 4,
   "id": "b70b62f5",
   "metadata": {},
   "outputs": [
    {
     "name": "stdout",
     "output_type": "stream",
     "text": [
      "['Altitude Measurement.pdf', 'coe_from_sv.m.txt', 'DOCUMENTS', 'gibbs.m.txt', 'GPA.xlsx', 'hello', 'Hex cube sat 2U', 'ionospheric corrections for gnss.pdf', 'New Text Document.txt', 'pc puzzile games.txt', 'Scientific Satellites 0.pdf', 'Scientific Satellites presentation SN209.pptx', 'Scientific Satellites TASK1.pdf', 'STM32 passwor.txt', 'Technical Tracks Catalog (1).pdf', 'TryOrbital.m.txt', 'UCAM-CL-TR-696.pdf', 'Why GNSS satellites in MEO.docx', 'ارشاد لتعلم البرمجة.pdf', 'شات.txt', 'شرح فترات DEPI.pdf', 'مبادرة رواد مصر الرقمية .pdf', 'ورق المدينة']\n"
     ]
    }
   ],
   "source": [
    "file=os.listdir(\"D:/files\")\n",
    "print(file)"
   ]
  },
  {
   "cell_type": "code",
   "execution_count": null,
   "id": "dc6a5250",
   "metadata": {},
   "outputs": [
    {
     "data": {
      "text/plain": [
       "'D:/files\\\\text_1.txt'"
      ]
     },
     "execution_count": 6,
     "metadata": {},
     "output_type": "execute_result"
    }
   ],
   "source": [
    "base_dir = \"D:/files\"\n",
    "file_name =\"text_1.txt\"\n",
    "file_root_path= os.path.join(base_dir,file_name)\n",
    "file_root_path\n",
    "os.remove(file_root_path)"
   ]
  },
  {
   "cell_type": "code",
   "execution_count": 8,
   "id": "ec08044e",
   "metadata": {},
   "outputs": [],
   "source": [
    "import os\n",
    "path=\"C:/Users/Computer Market/Desktop/Depi/Depi_Amit_AI_BNS3/sources/session/code\"\n",
    "if not os.path.exists(path):\n",
    "    os.makedirs(path)\n",
    "for i in range(20):\n",
    "        inner_path=os.path.join(path,\"dir_\"+str(i))\n",
    "        if not os.path.exists(inner_path):\n",
    "            os.makedirs(inner_path)\n",
    "\n",
    "\n",
    "    "
   ]
  },
  {
   "cell_type": "code",
   "execution_count": 14,
   "id": "10a42068",
   "metadata": {},
   "outputs": [
    {
     "data": {
      "text/plain": [
       "120"
      ]
     },
     "execution_count": 14,
     "metadata": {},
     "output_type": "execute_result"
    }
   ],
   "source": [
    "from math import factorial\n",
    "factorial(5)"
   ]
  },
  {
   "cell_type": "code",
   "execution_count": 11,
   "id": "12d8613a",
   "metadata": {},
   "outputs": [],
   "source": [
    "def factorial(num):\n",
    "    if num==0:\n",
    "        return 0\n",
    "    if num==1:\n",
    "        return 1\n",
    "    return num*factorial(num-1)"
   ]
  },
  {
   "cell_type": "code",
   "execution_count": 12,
   "id": "554da49f",
   "metadata": {},
   "outputs": [
    {
     "data": {
      "text/plain": [
       "120"
      ]
     },
     "execution_count": 12,
     "metadata": {},
     "output_type": "execute_result"
    }
   ],
   "source": [
    "factorial(5)"
   ]
  },
  {
   "cell_type": "code",
   "execution_count": 20,
   "id": "87b11f04",
   "metadata": {},
   "outputs": [],
   "source": [
    "import random\n",
    "def generat_password(length):\n",
    "    characters = \"abcdefghijklmnopqrstuvwxyzABCDEFGHIJKLMNOPQRSTUVWXYZ1234567890!@#$%^&*\"\n",
    "    password=\"\"\n",
    "    for _ in range(length):\n",
    "        password +=random.choice(characters)\n",
    "    return password \n",
    "    "
   ]
  }
 ],
 "metadata": {
  "kernelspec": {
   "display_name": "Python 3",
   "language": "python",
   "name": "python3"
  },
  "language_info": {
   "codemirror_mode": {
    "name": "ipython",
    "version": 3
   },
   "file_extension": ".py",
   "mimetype": "text/x-python",
   "name": "python",
   "nbconvert_exporter": "python",
   "pygments_lexer": "ipython3",
   "version": "3.12.9"
  }
 },
 "nbformat": 4,
 "nbformat_minor": 5
}
