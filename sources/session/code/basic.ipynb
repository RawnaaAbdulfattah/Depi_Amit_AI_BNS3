{
 "cells": [
  {
   "cell_type": "code",
   "execution_count": 21,
   "id": "93fc5e75",
   "metadata": {},
   "outputs": [
    {
     "name": "stdout",
     "output_type": "stream",
     "text": [
      "\"my age is\" 30\n"
     ]
    }
   ],
   "source": [
    "x=\"rawnaa\"\n",
    "# x=20\n",
    "y=30\n",
    "# z=x+y\n",
    "print(\"\\\"my age is\\\"\", y)"
   ]
  },
  {
   "cell_type": "code",
   "execution_count": null,
   "id": "0a4acdc9",
   "metadata": {},
   "outputs": [
    {
     "name": "stdout",
     "output_type": "stream",
     "text": [
      "my name is rawnaa , and my age is 30\n"
     ]
    },
    {
     "data": {
      "text/plain": [
       "False"
      ]
     },
     "execution_count": 19,
     "metadata": {},
     "output_type": "execute_result"
    }
   ],
   "source": [
    "# hex(id(x))\n",
    "print(\"my name is {0} , and my age is {1}\".format(x,y))\n",
    "\"x\"in \"xiever\"\n"
   ]
  },
  {
   "cell_type": "code",
   "execution_count": 18,
   "id": "5efe6a6d",
   "metadata": {},
   "outputs": [
    {
     "name": "stdout",
     "output_type": "stream",
     "text": [
      "my name is rawnaa, and my age 30\n"
     ]
    }
   ],
   "source": [
    "type(x)\n",
    "print(f\"my name is {x}, and my age {y}\")"
   ]
  },
  {
   "cell_type": "code",
   "execution_count": 21,
   "id": "79fd183b",
   "metadata": {},
   "outputs": [],
   "source": [
    "list_1={1,2,3}\n",
    "type(list_1)\n",
    "list_2=\"rawnaa\""
   ]
  },
  {
   "cell_type": "code",
   "execution_count": 22,
   "id": "ddb221a0",
   "metadata": {},
   "outputs": [
    {
     "data": {
      "text/plain": [
       "['r', 'a', 'w', 'n', 'a', 'a']"
      ]
     },
     "execution_count": 22,
     "metadata": {},
     "output_type": "execute_result"
    }
   ],
   "source": [
    "list(list_1)\n",
    "list(list_2)"
   ]
  },
  {
   "cell_type": "code",
   "execution_count": 38,
   "id": "08166d61",
   "metadata": {},
   "outputs": [
    {
     "name": "stdout",
     "output_type": "stream",
     "text": [
      " Amit \n",
      "  timA\n"
     ]
    }
   ],
   "source": [
    "str_1=\" Amit Learning\"\n",
    "word_1 = str_1[0:5:1]\n",
    "word_2 = str_1[5:0:-1]\n",
    "print(word_1 ,\"\\n\" , word_2)"
   ]
  },
  {
   "cell_type": "code",
   "execution_count": 2,
   "id": "39297dc4",
   "metadata": {},
   "outputs": [
    {
     "name": "stdout",
     "output_type": "stream",
     "text": [
      " welcome PGTQ\n"
     ]
    }
   ],
   "source": [
    "encoded_massage = \"###!!@mocleW EPGTQ!!!6789 \"\n",
    "word_1 = encoded_massage[12:5:-1] + encoded_massage[13]\n",
    "word_2 = encoded_massage[14:18:1]\n",
    "print(word_1.capitalize() , word_2)"
   ]
  },
  {
   "cell_type": "code",
   "execution_count": null,
   "id": "b3c0f745",
   "metadata": {},
   "outputs": [
    {
     "name": "stdout",
     "output_type": "stream",
     "text": [
      "MOCLEw epgtq\n"
     ]
    }
   ],
   "source": [
    "# encoded_massage = \"###!!@mocleW EPGTQ!!!6789 \"\n",
    "# encoded_massage_1 = encoded_massage[6:18:1].swapcase()\n",
    "# word_3 = encoded_massage[12:5:-1] + encoded_massage[13]\n",
    "# word_4 = encoded_massage[14:18:1]\n",
    "# print(encoded_massage_1 )"
   ]
  },
  {
   "cell_type": "code",
   "execution_count": 33,
   "id": "ddadb4a7",
   "metadata": {},
   "outputs": [
    {
     "name": "stdout",
     "output_type": "stream",
     "text": [
      "hello Learning\n",
      "amit learning\n",
      "2\n"
     ]
    }
   ],
   "source": [
    "print(str_1.replace(\"Amit\",\"hello\"))\n",
    "print(str_1.lower())\n",
    "#upper, captalize\n",
    "cr=\"if you can throw a can\"\n",
    "print(cr.count(\"can\"))"
   ]
  },
  {
   "cell_type": "code",
   "execution_count": 3,
   "id": "b8bfb3f3",
   "metadata": {},
   "outputs": [
    {
     "name": "stdout",
     "output_type": "stream",
     "text": [
      "this is a sentence\n"
     ]
    }
   ],
   "source": [
    "words=[\"this\", \"is\", \"a\", \"sentence\"]\n",
    "sentence=' '.join(words)\n",
    "print(sentence)"
   ]
  },
  {
   "cell_type": "code",
   "execution_count": null,
   "id": "d0ce4d55",
   "metadata": {},
   "outputs": [],
   "source": [
    "# m=\"0123456789\"\n",
    "# print(m[-2:-6:-2])\n",
    "list_3=[1,2,3,4]\n",
    "list_3*2\n",
    "list_4=['ahmed',34,70,True]\n",
    "len(list_3)\n",
    "f=list_3 +\"rawnaa\""
   ]
  },
  {
   "cell_type": "code",
   "execution_count": 17,
   "id": "fc22baeb",
   "metadata": {},
   "outputs": [
    {
     "data": {
      "text/plain": [
       "'v1'"
      ]
     },
     "execution_count": 17,
     "metadata": {},
     "output_type": "execute_result"
    }
   ],
   "source": [
    "dic_1={'key_1':\"v1\", 'key_2':\"v2\"}\n",
    "dic_1['key_1']"
   ]
  },
  {
   "cell_type": "code",
   "execution_count": 23,
   "id": "5ec2a0ea",
   "metadata": {},
   "outputs": [
    {
     "data": {
      "text/plain": [
       "'ghky'"
      ]
     },
     "execution_count": 23,
     "metadata": {},
     "output_type": "execute_result"
    }
   ],
   "source": [
    "s=\"welcome to depi\"\n",
    "s.find(\"depi\")\n",
    "g=\"       ghky     \"\n",
    "g.strip()"
   ]
  },
  {
   "cell_type": "code",
   "execution_count": 28,
   "id": "4a0b2caa",
   "metadata": {},
   "outputs": [
    {
     "name": "stdout",
     "output_type": "stream",
     "text": [
      "the sum of num1 30 and num2 20 is 50\n"
     ]
    }
   ],
   "source": [
    "num_1 = int(input(\"enter num1\"))\n",
    "num_2 = int(input(\"enter num2\"))\n",
    "sum = num_1 + num_2\n",
    "print(f\"the sum of num1 {num_1} and num2 {num_2} is\", sum)"
   ]
  }
 ],
 "metadata": {
  "kernelspec": {
   "display_name": "Python 3",
   "language": "python",
   "name": "python3"
  },
  "language_info": {
   "codemirror_mode": {
    "name": "ipython",
    "version": 3
   },
   "file_extension": ".py",
   "mimetype": "text/x-python",
   "name": "python",
   "nbconvert_exporter": "python",
   "pygments_lexer": "ipython3",
   "version": "3.12.9"
  }
 },
 "nbformat": 4,
 "nbformat_minor": 5
}
