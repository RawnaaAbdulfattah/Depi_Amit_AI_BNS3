{
 "cells": [
  {
   "cell_type": "code",
   "execution_count": 6,
   "id": "fb247205",
   "metadata": {},
   "outputs": [
    {
     "name": "stdout",
     "output_type": "stream",
     "text": [
      "\n",
      "Welcome to the Simple Calculator!\n",
      "Select an operation:\n",
      "1. Addition (+)\n",
      "2. Subtraction (-)\n",
      "3. Multiplication (*)\n",
      "4. Division (/)\n",
      "7.0*9.0 =  63.0\n",
      "\n",
      "Welcome to the Simple Calculator!\n",
      "Select an operation:\n",
      "1. Addition (+)\n",
      "2. Subtraction (-)\n",
      "3. Multiplication (*)\n",
      "4. Division (/)\n",
      "Exiting the calculator. Goodbye!\n"
     ]
    }
   ],
   "source": [
    "while True:\n",
    "        print(\"\\nWelcome to the Simple Calculator!\")\n",
    "        print(\"Select an operation:\")\n",
    "        print(\"1. Addition (+)\")\n",
    "        print(\"2. Subtraction (-)\")\n",
    "        print(\"3. Multiplication (*)\")\n",
    "        print(\"4. Division (/)\")\n",
    "    \n",
    "        choice = input(\"Enter your choice (1/2/3/4) or 'exit' to quit: \")\n",
    "        class calc:\n",
    "\n",
    "            def __init__(self,n1,n2):\n",
    "                self.n1=n1              # TASK\n",
    "                self.n2=n2\n",
    "            def add(self):\n",
    "                return self.n1 + self.n2\n",
    "            def sub(self):\n",
    "                return self.n1-self.n2\n",
    "            def multiply(self):\n",
    "                return self.n1*self.n2\n",
    "            def div(self):\n",
    "                return self.n1/self.n2\n",
    "                \n",
    "\n",
    "        if choice == 'exit':\n",
    "            print(\"Exiting the calculator. Goodbye!\")\n",
    "            break\n",
    "\n",
    "        if choice not in ('1', '2', '3', '4'):\n",
    "            print(\"Invalid input: Please enter 1, 2, 3, 4, or 'exit'.\")\n",
    "            continue\n",
    "\n",
    "        try:\n",
    "            n1 = float(input(\"Enter first number: \"))\n",
    "            n2 = float(input(\"Enter second number: \"))\n",
    "        except :\n",
    "            print(\"Invalid input: Please enter numeric values.\")\n",
    "            continue\n",
    "        c1=calc(n1,n2)\n",
    "        if choice == '1':\n",
    "            print(f\"{n1}+{n2} = \",c1.add())\n",
    "        elif choice == '2':\n",
    "            print(f\"{n1}-{n2} = \",c1.sub())\n",
    "        elif choice == '3':\n",
    "            print(f\"{n1}*{n2} = \",c1.multiply())\n",
    "        else:\n",
    "            try:\n",
    "                n1/n2\n",
    "                print(f\"{n1}/{n2} = \",c1.div())\n",
    "            except:\n",
    "                    print(\"Error:dividing by zero\")"
   ]
  }
 ],
 "metadata": {
  "kernelspec": {
   "display_name": "Python 3",
   "language": "python",
   "name": "python3"
  },
  "language_info": {
   "codemirror_mode": {
    "name": "ipython",
    "version": 3
   },
   "file_extension": ".py",
   "mimetype": "text/x-python",
   "name": "python",
   "nbconvert_exporter": "python",
   "pygments_lexer": "ipython3",
   "version": "3.12.9"
  }
 },
 "nbformat": 4,
 "nbformat_minor": 5
}
