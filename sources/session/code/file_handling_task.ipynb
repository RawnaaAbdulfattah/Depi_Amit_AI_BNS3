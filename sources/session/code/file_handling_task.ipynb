{
 "cells": [
  {
   "cell_type": "code",
   "execution_count": 11,
   "id": "821c0edf",
   "metadata": {},
   "outputs": [
    {
     "name": "stdout",
     "output_type": "stream",
     "text": [
      "C:/Users/Computer Market/Desktop/Depi/Depi_Amit_AI_BNS3/sources/session/code/directories\\dir_1\n",
      "Deleted: C:/Users/Computer Market/Desktop/Depi/Depi_Amit_AI_BNS3/sources/session/code/directories\\dir_6\n",
      "Deleted: C:/Users/Computer Market/Desktop/Depi/Depi_Amit_AI_BNS3/sources/session/code/directories\\dir_3\n",
      "Deleted: C:/Users/Computer Market/Desktop/Depi/Depi_Amit_AI_BNS3/sources/session/code/directories\\dir_4\n",
      "Deleted: C:/Users/Computer Market/Desktop/Depi/Depi_Amit_AI_BNS3/sources/session/code/directories\\dir_8\n",
      "Deleted: C:/Users/Computer Market/Desktop/Depi/Depi_Amit_AI_BNS3/sources/session/code/directories\\dir_0\n"
     ]
    }
   ],
   "source": [
    "    \n",
    "import os\n",
    "import random\n",
    "'''\n",
    "    function handle_directory : check if the directories path is not exist \n",
    "    create or make directories in the base_path and repeat this opertion with a number of times \n",
    "    to create a same number of directories\n",
    "    folder_paths : at the first is an empty list and will append inner_path while looping happens\n",
    "    inner_path : the path of the new directories created.\n",
    "    random_dir : a random directory choosen using random function.\n",
    "    deleted_dir : a random half numbers of the directories created to be deleted.\n",
    "    base_path : the path of the directory where the new created directories will be.\n",
    "    type(handle_directory) => func\n",
    "    type(folder_paths) => list\n",
    "    type(base_path) => str\n",
    "    type(random_dir) => str\n",
    "    type(deleted_dir) => str\n",
    "    function return random five directories, delete them and print the deleted directories.\n",
    "    '''\n",
    "\n",
    "def handle_directory(base_path: str):\n",
    "   \n",
    "    if not os.path.exists(base_path):\n",
    "        os.makedirs(base_path)\n",
    "\n",
    "    folder_paths = [] \n",
    "    for i in range(10):\n",
    "        inner_path = os.path.join(base_path, f\"dir_{i}\")\n",
    "        os.makedirs(inner_path, exist_ok=True)\n",
    "        folder_paths.append(inner_path)\n",
    "        # print(len(folder_paths))\n",
    "    random_dir=random.choice(folder_paths)\n",
    "    print(random_dir)\n",
    "    to_delete = random.sample(folder_paths, 5)\n",
    "\n",
    "    for folder in to_delete:\n",
    "        os.rmdir(folder)\n",
    "        print(\"Deleted:\", folder)\n",
    "    \n",
    "base_path = \"C:/Users/Computer Market/Desktop/Depi/Depi_Amit_AI_BNS3/sources/session/code/directories\"\n",
    "handle_directory(base_path)"
   ]
  }
 ],
 "metadata": {
  "kernelspec": {
   "display_name": "Python 3",
   "language": "python",
   "name": "python3"
  },
  "language_info": {
   "codemirror_mode": {
    "name": "ipython",
    "version": 3
   },
   "file_extension": ".py",
   "mimetype": "text/x-python",
   "name": "python",
   "nbconvert_exporter": "python",
   "pygments_lexer": "ipython3",
   "version": "3.12.9"
  }
 },
 "nbformat": 4,
 "nbformat_minor": 5
}
