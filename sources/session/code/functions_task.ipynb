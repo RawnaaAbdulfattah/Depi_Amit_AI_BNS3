{
 "cells": [
  {
   "cell_type": "code",
   "execution_count": 4,
   "id": "14bfec0e",
   "metadata": {},
   "outputs": [
    {
     "name": "stdout",
     "output_type": "stream",
     "text": [
      "multiplication table of the number 9 is: \n",
      "9*0 =  0\n",
      "9*1 =  9\n",
      "9*2 =  18\n",
      "9*3 =  27\n",
      "9*4 =  36\n",
      "9*5 =  45\n",
      "9*6 =  54\n",
      "9*7 =  63\n",
      "9*8 =  72\n",
      "9*9 =  81\n",
      "9*10 =  90\n"
     ]
    }
   ],
   "source": [
    "def multiplication_table(num):      #Q1\n",
    "    print(f\"multiplication table of the number {num} is: \")\n",
    "    for i in range (11):\n",
    "        table=num*i\n",
    "        print(f\"{num}*{i} = \",table)\n",
    "multiplication_table(9)"
   ]
  },
  {
   "cell_type": "code",
   "execution_count": null,
   "id": "7c4a59f9",
   "metadata": {},
   "outputs": [
    {
     "name": "stdout",
     "output_type": "stream",
     "text": [
      "Twin Primes:\n",
      "3 and 5\n",
      "5 and 7\n",
      "11 and 13\n",
      "17 and 19\n",
      "29 and 31\n",
      "41 and 43\n",
      "59 and 61\n",
      "71 and 73\n",
      "101 and 103\n",
      "107 and 109\n",
      "137 and 139\n",
      "149 and 151\n",
      "179 and 181\n",
      "191 and 193\n",
      "197 and 199\n",
      "227 and 229\n",
      "239 and 241\n",
      "269 and 271\n",
      "281 and 283\n",
      "311 and 313\n",
      "347 and 349\n",
      "419 and 421\n",
      "431 and 433\n",
      "461 and 463\n",
      "521 and 523\n",
      "569 and 571\n",
      "599 and 601\n",
      "617 and 619\n",
      "641 and 643\n",
      "659 and 661\n",
      "809 and 811\n",
      "821 and 823\n",
      "827 and 829\n",
      "857 and 859\n",
      "881 and 883\n"
     ]
    }
   ],
   "source": [
    "def is_prime(n):    #Q2\n",
    "    if n < 2:\n",
    "        return False\n",
    "    for i in range(2, int(n**0.5) + 1):\n",
    "        if n % i == 0:\n",
    "            return False\n",
    "    return True\n",
    "\n",
    "def print_twin_primes(limit):\n",
    "    print(\"Twin Primes:\")\n",
    "    for i in range(2, limit - 1):\n",
    "        if is_prime(i) and is_prime(i + 2):\n",
    "            print(i, \"and\", i + 2)\n",
    "\n",
    "\n",
    "print_twin_primes(1000)\n"
   ]
  },
  {
   "cell_type": "code",
   "execution_count": null,
   "id": "2733d177",
   "metadata": {},
   "outputs": [
    {
     "name": "stdout",
     "output_type": "stream",
     "text": [
      "2\n",
      "3\n",
      "3\n",
      "5\n"
     ]
    }
   ],
   "source": [
    "def primeFactors(n:int):    #Q3\n",
    "    rest=n\n",
    "    \n",
    "    while rest%2==0  :\n",
    "                rest//=2\n",
    "                print(2)\n",
    "                i=3\n",
    "    while i * i <= rest:\n",
    "        while rest % i == 0:\n",
    "            print(i)\n",
    "            rest //= i\n",
    "        i += 2\n",
    "    \n",
    "    while rest % i == 0 :\n",
    "                print(i)\n",
    "                rest //= i\n",
    "    i += 2\n",
    "    if rest > 2:\n",
    "        print(rest)\n",
    "            \n",
    "            \n",
    "primeFactors(90)"
   ]
  },
  {
   "cell_type": "code",
   "execution_count": null,
   "id": "b9a0ee47",
   "metadata": {},
   "outputs": [
    {
     "name": "stdout",
     "output_type": "stream",
     "text": [
      "1\n",
      "1\n",
      "0\n",
      "1\n"
     ]
    }
   ],
   "source": [
    "def binary(num):    #Q4\n",
    "    rest=num\n",
    "    while rest>=1:\n",
    "        remider=rest%2\n",
    "        print(remider)\n",
    "        rest//=2\n",
    "binary(11) # or the easy way is below \n",
    "        \n",
    "        "
   ]
  },
  {
   "cell_type": "code",
   "execution_count": null,
   "id": "38eb4774",
   "metadata": {},
   "outputs": [
    {
     "data": {
      "text/plain": [
       "'0b1011'"
      ]
     },
     "execution_count": 121,
     "metadata": {},
     "output_type": "execute_result"
    }
   ],
   "source": [
    "def decToBin(num):  #Q4\n",
    "    binary=bin(num)\n",
    "    return binary\n",
    "decToBin(11)"
   ]
  },
  {
   "cell_type": "code",
   "execution_count": null,
   "id": "0a285067",
   "metadata": {},
   "outputs": [
    {
     "name": "stdout",
     "output_type": "stream",
     "text": [
      "the perfect numbers between 0 and 100 is:\n",
      "0\n",
      "6\n",
      "28\n"
     ]
    }
   ],
   "source": [
    "def perfect(num):   #Q5\n",
    "    factors=[]\n",
    "    \n",
    "    for i in range(1,num-1):\n",
    "        if num%i==0:\n",
    "            factors.append(i)\n",
    "    return sum(factors)\n",
    "    \n",
    "def perfectNums(n1,n2):\n",
    "    print(f\"the perfect numbers between {n1} and {n2} is:\")\n",
    "    for i in range(n1,n2) :\n",
    "        if perfect(i)==i:\n",
    "            print(i)\n",
    "perfectNums(0,100)"
   ]
  }
 ],
 "metadata": {
  "kernelspec": {
   "display_name": "Python 3",
   "language": "python",
   "name": "python3"
  },
  "language_info": {
   "codemirror_mode": {
    "name": "ipython",
    "version": 3
   },
   "file_extension": ".py",
   "mimetype": "text/x-python",
   "name": "python",
   "nbconvert_exporter": "python",
   "pygments_lexer": "ipython3",
   "version": "3.12.9"
  }
 },
 "nbformat": 4,
 "nbformat_minor": 5
}
