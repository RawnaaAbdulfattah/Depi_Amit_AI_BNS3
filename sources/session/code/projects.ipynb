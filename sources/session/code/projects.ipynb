{
 "cells": [
  {
   "cell_type": "code",
   "execution_count": null,
   "id": "15245dbd",
   "metadata": {},
   "outputs": [],
   "source": [
    "while True:\n",
    "    print(\"Welcome to the simple calculator\")\n",
    "    print(\"select an operation:\\n1.addition (+)\\n2.subtraction (-)\\n3.multiplication(*)\\n4.division (/)\")\n",
    "    choice = input(\"Enter your choice (1/2/3/4) or 'exit' to quit: \")\n",
    "\n",
    "    if choice.lower() == 'exit':\n",
    "        print(\"Exiting the calculator. Goodbye!\")\n",
    "        break\n",
    "\n",
    "    if choice not in ('1', '2', '3', '4'):\n",
    "        print(\"Invalid input: Please enter 1, 2, 3, 4, or 'exit'.\")\n",
    "        continue\n",
    "    try:\n",
    "        n1 = float(input(\"Enter first number: \"))\n",
    "        n2 = float(input(\"Enter second number: \"))\n",
    "    except ValueError:\n",
    "        print(\"Invalid input: Please enter numeric values.\")\n",
    "        continue\n",
    "    class calc:\n",
    "        def __init__(self,n1,n2):\n",
    "            self.n1=n1              # TASK\n",
    "            self.n2=n2\n",
    "        if choice=='1':\n",
    "            def add(self):\n",
    "                return self.n1 + self.n2\n",
    "            c1=calc(n1,n2)\n",
    "            c1.add()\n",
    "        elif choice=='2':\n",
    "            def sub(self):\n",
    "                return self.n1-self.n2\n",
    "            c1=calc(n1,n2)\n",
    "            c1.sub()\n",
    "        elif choice=='3':\n",
    "            def multiply(self):\n",
    "                return self.n1*self.n2\n",
    "            c1=calc(n1,n2)\n",
    "            c1.multiply()\n",
    "            \n",
    "        else:\n",
    "            def div(self):\n",
    "                return self.n1/self.n2\n",
    "            c1=calc(n1,n2)\n",
    "            c1.div()\n",
    "            if n2==0:\n",
    "                print(\"Error! Cannot divide by zero.\")"
   ]
  },
  {
   "cell_type": "code",
   "execution_count": null,
   "id": "092fd7cf",
   "metadata": {},
   "outputs": [
    {
     "name": "stdout",
     "output_type": "stream",
     "text": [
      "\n",
      "Welcome to the Simple Calculator!\n",
      "Select an operation:\n",
      "1. Addition (+)\n",
      "2. Subtraction (-)\n",
      "3. Multiplication (*)\n",
      "4. Division (/)\n",
      "6.0\n",
      "\n",
      "Welcome to the Simple Calculator!\n",
      "Select an operation:\n",
      "1. Addition (+)\n",
      "2. Subtraction (-)\n",
      "3. Multiplication (*)\n",
      "4. Division (/)\n",
      "2.0\n",
      "\n",
      "Welcome to the Simple Calculator!\n",
      "Select an operation:\n",
      "1. Addition (+)\n",
      "2. Subtraction (-)\n",
      "3. Multiplication (*)\n",
      "4. Division (/)\n",
      "Exiting the calculator. Goodbye!\n"
     ]
    }
   ],
   "source": [
    "\n",
    "while True:\n",
    "        print(\"\\nWelcome to the Simple Calculator!\")\n",
    "        print(\"Select an operation:\")\n",
    "        print(\"1. Addition (+)\")\n",
    "        print(\"2. Subtraction (-)\")\n",
    "        print(\"3. Multiplication (*)\")\n",
    "        print(\"4. Division (/)\")\n",
    "    \n",
    "        choice = input(\"Enter your choice (1/2/3/4) or 'exit' to quit: \")\n",
    "        class calc:\n",
    "\n",
    "            def __init__(self,n1,n2):\n",
    "                self.n1=n1              # TASK\n",
    "                self.n2=n2\n",
    "            def add(self):\n",
    "                    return self.n1 + self.n2\n",
    "            def sub(self):\n",
    "                return self.n1-self.n2\n",
    "            def multiply(self):\n",
    "                return self.n1*self.n2\n",
    "            def div(self):\n",
    "                return self.n1/self.n2\n",
    "\n",
    "        if choice == 'exit':\n",
    "            print(\"Exiting the calculator. Goodbye!\")\n",
    "            break\n",
    "\n",
    "        if choice not in ('1', '2', '3', '4'):\n",
    "            print(\"Invalid input: Please enter 1, 2, 3, 4, or 'exit'.\")\n",
    "            continue\n",
    "\n",
    "        try:\n",
    "            n1 = float(input(\"Enter first number: \"))\n",
    "            n2 = float(input(\"Enter second number: \"))\n",
    "        except :\n",
    "            print(\"Invalid input: Please enter numeric values.\")\n",
    "            continue\n",
    "        c1=calc(n1,n2)\n",
    "        if choice == '1':\n",
    "            print(c1.add())\n",
    "        elif choice == '2':\n",
    "            print(c1.sub())\n",
    "        elif choice == '3':\n",
    "            print(c1.multiply())\n",
    "        else:\n",
    "            print(c1.div())\n",
    "    "
   ]
  },
  {
   "cell_type": "code",
   "execution_count": null,
   "id": "6156fd44",
   "metadata": {},
   "outputs": [],
   "source": [
    "import os\n",
    "import random\n",
    "for i in range(5):\n",
    "    i=[0,1,2,3,4,5,6,7,8,9]\n",
    "    random_path=path+\"dir_\"+str(i)\n",
    "dir=random.choice(random_path)\n",
    "dir\n",
    "#   os.rmdir('dir/')"
   ]
  },
  {
   "cell_type": "code",
   "execution_count": null,
   "id": "b7b0d2cc",
   "metadata": {},
   "outputs": [],
   "source": [
    "\n",
    "import os\n",
    "import random\n",
    "for i in range(10):\n",
    "    path=\"C:/Users/Computer Market/Desktop/Depi/Depi_Amit_AI_BNS3/sources/session/code/directories\"\n",
    "    def random_path(path):\n",
    "        return path+\"dir_\"+str(i)\n",
    "    new_dir= path+\"dir_\"+str(i)\n",
    "    for new_dir in inner_path:\n",
    "        random_dir=path+\"dir_\"+str(i)\n",
    "    list_random=list[path+\"dir_\"+str(i)]\n",
    "    # os.rmdir(random_dir)\n",
    "    print(list_random)"
   ]
  },
  {
   "cell_type": "code",
   "execution_count": 19,
   "id": "c7d8e885",
   "metadata": {},
   "outputs": [
    {
     "name": "stdout",
     "output_type": "stream",
     "text": [
      "1\n",
      "2\n",
      "3\n",
      "4\n",
      "5\n",
      "6\n",
      "7\n",
      "8\n",
      "9\n",
      "10\n"
     ]
    }
   ],
   "source": [
    "import os\n",
    "import random\n",
    "path=\"C:/Users/Computer Market/Desktop/Depi/Depi_Amit_AI_BNS3/sources/session/code/directories\"\n",
    "dir_path=[]\n",
    "if not os.path.exists(path):\n",
    "    os.makedirs(path)\n",
    "for i in range(10):\n",
    "        inner_path=os.path.join(path,\"dir_\"+str(i))\n",
    "        if not os.path.exists(inner_path):\n",
    "            os.makedirs(inner_path)\n",
    "            \n",
    "        new_dirs=list[path+\"dir_\"+str(i)]\n",
    "        list_dirs=dir_path.append(inner_path)\n",
    "        # list_dirs=list[(new_dirs)]\n",
    "        #random_dir=random.choice(list_dirs)\n",
    "        \n",
    "        print(len(dir_path))\n",
    "\n",
    "\n",
    "    "
   ]
  },
  {
   "cell_type": "code",
   "execution_count": 21,
   "id": "3ef07adf",
   "metadata": {},
   "outputs": [
    {
     "name": "stdout",
     "output_type": "stream",
     "text": [
      "\n",
      "Total folders created: 0\n"
     ]
    }
   ],
   "source": [
    "import os\n",
    "import random\n",
    "\n",
    "def handle_directory(base_path: str):\n",
    "   \n",
    "    if not os.path.exists(base_path):\n",
    "        os.makedirs(base_path)\n",
    "\n",
    "    folder_paths = []  # ✅ Correct: initialize a real list\n",
    "    print(f\"\\nTotal folders created: {len(folder_paths)}\")\n",
    "    # Step 2: Create 10 subfolders\n",
    "    for i in range(10):\n",
    "        inner_path = os.path.join(base_path, f\"dir_{i}\")\n",
    "        os.makedirs(inner_path, exist_ok=True)\n",
    "        folder_paths.append(inner_path)  # ✅ Append the full path as a string\n",
    "\n",
    "    # Step 3: Check length\n",
    "\n",
    "\n",
    "    # Step 4: Delete random half of them\n",
    "    # to_delete = random.sample(folder_paths, k=len(folder_paths)//2)\n",
    "    # for folder in to_delete:\n",
    "    #     os.rmdir(folder)\n",
    "    #     print(f\"Deleted: {folder}\")\n",
    "\n",
    "    # Step 5: Check remaining\n",
    "    # remaining = [f for f in folder_paths if os.path.exists(f)]\n",
    "    # print(f\"\\nRemaining folders ({len(remaining)}):\")\n",
    "    # for f in remaining:\n",
    "    #     print(f)\n",
    "\n",
    "    # return remaining\n",
    "\n",
    "# Run it\n",
    "base_path = \"C:/Users/Computer Market/Desktop/Depi/Depi_Amit_AI_BNS3/sources/session/code/directories\"\n",
    "handle_directory(base_path)\n"
   ]
  },
  {
   "cell_type": "code",
   "execution_count": null,
   "id": "fe40e7ce",
   "metadata": {},
   "outputs": [],
   "source": [
    "base_dir = \"D:/files\"\n",
    "file_name =\"text_1.txt\"\n",
    "file_root_path= os.path.join(base_dir,file_name)\n",
    "file_root_path\n",
    "os.remove(file_root_path)"
   ]
  },
  {
   "cell_type": "code",
   "execution_count": null,
   "id": "eb755074",
   "metadata": {},
   "outputs": [],
   "source": [
    "import os\n",
    "dir_1=\"C:/Users/Computer Market/Desktop/Depi/Depi_Amit_AI_BNS3/sources/session/code/dir_0\"\n",
    "if not os.path.exists(dir_1):\n",
    "    os.makedirs(dir_1)\n",
    "else:\n",
    "    print(\"directory already exists\",dir_1)\n"
   ]
  },
  {
   "cell_type": "code",
   "execution_count": null,
   "id": "4c2c4827",
   "metadata": {},
   "outputs": [
    {
     "name": "stdout",
     "output_type": "stream",
     "text": [
      "1\n",
      "2\n",
      "3\n",
      "4\n",
      "5\n",
      "6\n",
      "7\n",
      "8\n",
      "9\n",
      "10\n",
      "C:/Users/Computer Market/Desktop/Depi/Depi_Amit_AI_BNS3/sources/session/code/directories\\dir_7\n",
      "Deleted: C:/Users/Computer Market/Desktop/Depi/Depi_Amit_AI_BNS3/sources/session/code/directories\\dir_3\n",
      "Deleted: C:/Users/Computer Market/Desktop/Depi/Depi_Amit_AI_BNS3/sources/session/code/directories\\dir_4\n",
      "Deleted: C:/Users/Computer Market/Desktop/Depi/Depi_Amit_AI_BNS3/sources/session/code/directories\\dir_6\n",
      "Deleted: C:/Users/Computer Market/Desktop/Depi/Depi_Amit_AI_BNS3/sources/session/code/directories\\dir_0\n",
      "Deleted: C:/Users/Computer Market/Desktop/Depi/Depi_Amit_AI_BNS3/sources/session/code/directories\\dir_8\n"
     ]
    }
   ],
   "source": [
    "import os\n",
    "import random\n",
    "\n",
    "def handle_directory(base_path: str):\n",
    "   \n",
    "    if not os.path.exists(base_path):\n",
    "        os.makedirs(base_path)\n",
    "\n",
    "    folder_paths = [] \n",
    "    for i in range(10):\n",
    "        inner_path = os.path.join(base_path, f\"dir_{i}\")\n",
    "        os.makedirs(inner_path, exist_ok=True)\n",
    "        folder_paths.append(inner_path)\n",
    "        print(len(folder_paths))\n",
    "    random_dir=random.choice(folder_paths)\n",
    "    print(random_dir)\n",
    "    to_delete = random.sample(folder_paths, 5)\n",
    "\n",
    "    for folder in to_delete:\n",
    "        os.rmdir(folder)\n",
    "        print(\"Deleted:\", folder)\n",
    "base_path = \"C:/Users/Computer Market/Desktop/Depi/Depi_Amit_AI_BNS3/sources/session/code/directories\"\n",
    "handle_directory(base_path)\n",
    "     "
   ]
  },
  {
   "cell_type": "code",
   "execution_count": null,
   "id": "fc382a4e",
   "metadata": {},
   "outputs": [
    {
     "name": "stdout",
     "output_type": "stream",
     "text": [
      "17\n"
     ]
    }
   ],
   "source": [
    "def perfect(num):\n",
    "    factors=[]\n",
    "    for i in range(1,num-1):\n",
    "        if num%i==0:\n",
    "            factors.append(i)\n",
    "        sum_1=sum(factors)\n",
    "    print(sum_1)        #to find the factors of the number\n",
    "perfect(55)"
   ]
  },
  {
   "cell_type": "code",
   "execution_count": 17,
   "id": "5b9e45f3",
   "metadata": {},
   "outputs": [
    {
     "name": "stdout",
     "output_type": "stream",
     "text": [
      "the perfect numbers between 0 and 100 is:\n",
      "0\n",
      "6\n",
      "28\n"
     ]
    }
   ],
   "source": [
    "def perfect(num):\n",
    "    factors=[]\n",
    "    \n",
    "    for i in range(1,num-1):\n",
    "        if num%i==0:\n",
    "            factors.append(i)\n",
    "    return sum(factors)\n",
    "    \n",
    "def perfectNums(n1,n2):\n",
    "    print(f\"the perfect numbers between {n1} and {n2} is:\")\n",
    "    for i in range(n1,n2) :\n",
    "        if perfect(i)==i:\n",
    "            print(i)\n",
    "perfectNums(0,100)"
   ]
  },
  {
   "cell_type": "code",
   "execution_count": 1,
   "id": "864f5ce4",
   "metadata": {},
   "outputs": [
    {
     "name": "stdout",
     "output_type": "stream",
     "text": [
      "2\n",
      "2\n",
      "4\n",
      "7\n"
     ]
    }
   ],
   "source": [
    "def prime_factors(n):\n",
    "    while n%2==0:\n",
    "        print(2)\n",
    "        \n",
    "        break\n",
    "    for i in range(2, int(n**0.5) + 1):\n",
    "        if n % i == 0:\n",
    "            print(i)\n",
    "   \n",
    "prime_factors(56)\n",
    "\n",
    "    "
   ]
  },
  {
   "cell_type": "code",
   "execution_count": 2,
   "id": "ecd347ba",
   "metadata": {},
   "outputs": [
    {
     "name": "stdout",
     "output_type": "stream",
     "text": [
      "2\n",
      "3\n",
      "5\n",
      "7\n",
      "11\n",
      "13\n",
      "17\n",
      "19\n",
      "23\n",
      "29\n",
      "31\n",
      "37\n",
      "41\n",
      "43\n",
      "47\n",
      "53\n",
      "59\n",
      "61\n",
      "67\n",
      "71\n",
      "73\n",
      "79\n",
      "83\n",
      "89\n",
      "97\n"
     ]
    }
   ],
   "source": [
    "def is_prime(n):\n",
    "    if n < 2:\n",
    "        return False\n",
    "    for i in range(2, int(n**0.5) + 1):  # check up to square root of n\n",
    "        if n % i == 0:\n",
    "            return False\n",
    "    return True\n",
    "\n",
    "# Print prime numbers up to 100\n",
    "for num in range(1, 101):\n",
    "    if is_prime(num):\n",
    "        print(num)\n"
   ]
  },
  {
   "cell_type": "code",
   "execution_count": 3,
   "id": "2f2d0b8c",
   "metadata": {},
   "outputs": [
    {
     "name": "stdout",
     "output_type": "stream",
     "text": [
      "2\n",
      "2\n",
      "2\n",
      "2\n",
      "5\n"
     ]
    }
   ],
   "source": [
    "def prime_factors(n: int):\n",
    "    rest = n\n",
    "\n",
    "    # Handle factor 2\n",
    "    while rest % 2 == 0:\n",
    "        print(2)\n",
    "        rest //= 2\n",
    "\n",
    "    # Handle odd factors from 3 to sqrt(n)\n",
    "    i = 3\n",
    "    while i * i <= rest:\n",
    "        while rest % i == 0:\n",
    "            print(i)\n",
    "            rest //= i\n",
    "        i += 2\n",
    "\n",
    "    # If rest is a prime > 2\n",
    "    if rest > 2:\n",
    "        print(rest)\n",
    "\n",
    "# Example usage\n",
    "prime_factors(80)"
   ]
  }
 ],
 "metadata": {
  "kernelspec": {
   "display_name": "Python 3",
   "language": "python",
   "name": "python3"
  },
  "language_info": {
   "codemirror_mode": {
    "name": "ipython",
    "version": 3
   },
   "file_extension": ".py",
   "mimetype": "text/x-python",
   "name": "python",
   "nbconvert_exporter": "python",
   "pygments_lexer": "ipython3",
   "version": "3.12.9"
  }
 },
 "nbformat": 4,
 "nbformat_minor": 5
}
