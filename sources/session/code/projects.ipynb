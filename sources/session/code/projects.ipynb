{
 "cells": [
  {
   "cell_type": "code",
   "execution_count": null,
   "id": "15245dbd",
   "metadata": {},
   "outputs": [],
   "source": [
    "while True:\n",
    "    print(\"Welcome to the simple calculator\")\n",
    "    print(\"select an operation:\\n1.addition (+)\\n2.subtraction (-)\\n3.multiplication(*)\\n4.division (/)\")\n",
    "    choice = input(\"Enter your choice (1/2/3/4) or 'exit' to quit: \")\n",
    "\n",
    "    if choice.lower() == 'exit':\n",
    "        print(\"Exiting the calculator. Goodbye!\")\n",
    "        break\n",
    "\n",
    "    if choice not in ('1', '2', '3', '4'):\n",
    "        print(\"Invalid input: Please enter 1, 2, 3, 4, or 'exit'.\")\n",
    "        continue\n",
    "    try:\n",
    "        n1 = float(input(\"Enter first number: \"))\n",
    "        n2 = float(input(\"Enter second number: \"))\n",
    "    except ValueError:\n",
    "        print(\"Invalid input: Please enter numeric values.\")\n",
    "        continue\n",
    "    class calc:\n",
    "        def __init__(self,n1,n2):\n",
    "            self.n1=n1              # TASK\n",
    "            self.n2=n2\n",
    "        if choice=='1':\n",
    "            def add(self):\n",
    "                return self.n1 + self.n2\n",
    "            c1=calc(n1,n2)\n",
    "            c1.add()\n",
    "        elif choice=='2':\n",
    "            def sub(self):\n",
    "                return self.n1-self.n2\n",
    "            c1=calc(n1,n2)\n",
    "            c1.sub()\n",
    "        elif choice=='3':\n",
    "            def multiply(self):\n",
    "                return self.n1*self.n2\n",
    "            c1=calc(n1,n2)\n",
    "            c1.multiply()\n",
    "            \n",
    "        else:\n",
    "            def div(self):\n",
    "                return self.n1/self.n2\n",
    "            c1=calc(n1,n2)\n",
    "            c1.div()\n",
    "            if n2==0:\n",
    "                print(\"Error! Cannot divide by zero.\")"
   ]
  },
  {
   "cell_type": "code",
   "execution_count": null,
   "id": "092fd7cf",
   "metadata": {},
   "outputs": [
    {
     "name": "stdout",
     "output_type": "stream",
     "text": [
      "\n",
      "Welcome to the Simple Calculator!\n",
      "Select an operation:\n",
      "1. Addition (+)\n",
      "2. Subtraction (-)\n",
      "3. Multiplication (*)\n",
      "4. Division (/)\n",
      "6.0\n",
      "\n",
      "Welcome to the Simple Calculator!\n",
      "Select an operation:\n",
      "1. Addition (+)\n",
      "2. Subtraction (-)\n",
      "3. Multiplication (*)\n",
      "4. Division (/)\n",
      "2.0\n",
      "\n",
      "Welcome to the Simple Calculator!\n",
      "Select an operation:\n",
      "1. Addition (+)\n",
      "2. Subtraction (-)\n",
      "3. Multiplication (*)\n",
      "4. Division (/)\n",
      "Exiting the calculator. Goodbye!\n"
     ]
    }
   ],
   "source": [
    "\n",
    "while True:\n",
    "        print(\"\\nWelcome to the Simple Calculator!\")\n",
    "        print(\"Select an operation:\")\n",
    "        print(\"1. Addition (+)\")\n",
    "        print(\"2. Subtraction (-)\")\n",
    "        print(\"3. Multiplication (*)\")\n",
    "        print(\"4. Division (/)\")\n",
    "    \n",
    "        choice = input(\"Enter your choice (1/2/3/4) or 'exit' to quit: \")\n",
    "        class calc:\n",
    "\n",
    "            def __init__(self,n1,n2):\n",
    "                self.n1=n1              # TASK\n",
    "                self.n2=n2\n",
    "            def add(self):\n",
    "                    return self.n1 + self.n2\n",
    "            def sub(self):\n",
    "                return self.n1-self.n2\n",
    "            def multiply(self):\n",
    "                return self.n1*self.n2\n",
    "            def div(self):\n",
    "                return self.n1/self.n2\n",
    "\n",
    "        if choice == 'exit':\n",
    "            print(\"Exiting the calculator. Goodbye!\")\n",
    "            break\n",
    "\n",
    "        if choice not in ('1', '2', '3', '4'):\n",
    "            print(\"Invalid input: Please enter 1, 2, 3, 4, or 'exit'.\")\n",
    "            continue\n",
    "\n",
    "        try:\n",
    "            n1 = float(input(\"Enter first number: \"))\n",
    "            n2 = float(input(\"Enter second number: \"))\n",
    "        except :\n",
    "            print(\"Invalid input: Please enter numeric values.\")\n",
    "            continue\n",
    "        c1=calc(n1,n2)\n",
    "        if choice == '1':\n",
    "            print(c1.add())\n",
    "        elif choice == '2':\n",
    "            print(c1.sub())\n",
    "        elif choice == '3':\n",
    "            print(c1.multiply())\n",
    "        else:\n",
    "            print(c1.div())\n",
    "    "
   ]
  },
  {
   "cell_type": "code",
   "execution_count": 21,
   "id": "9ae4292b",
   "metadata": {},
   "outputs": [
    {
     "name": "stdout",
     "output_type": "stream",
     "text": [
      "C:/Users/Computer Market/Desktop/Depi/Depi_Amit_AI_BNS3/sources/session/code/directoriesdir_9\n"
     ]
    }
   ],
   "source": [
    "import os\n",
    "import random\n",
    "path=\"C:/Users/Computer Market/Desktop/Depi/Depi_Amit_AI_BNS3/sources/session/code/directories\"\n",
    "if not os.path.exists(path):\n",
    "    os.makedirs(path)\n",
    "for i in range(10):\n",
    "        inner_path=os.path.join(path,\"dir_\"+str(i))\n",
    "        if not os.path.exists(inner_path):\n",
    "            os.makedirs(inner_path)\n",
    "random_path=path+\"dir_\"+str(i)\n",
    "print(random_path)\n",
    "\n",
    "\n",
    "    "
   ]
  },
  {
   "cell_type": "code",
   "execution_count": null,
   "id": "6156fd44",
   "metadata": {},
   "outputs": [
    {
     "data": {
      "text/plain": [
       "' '"
      ]
     },
     "execution_count": 29,
     "metadata": {},
     "output_type": "execute_result"
    }
   ],
   "source": [
    "import os\n",
    "import random\n",
    "for i in range(5):\n",
    "    i=[0,1,2,3,4,5,6,7,8,9]\n",
    "    random_path=path+\"dir_\"+str(i)\n",
    "dir=random.choice(random_path)\n",
    "dir\n",
    "#   os.rmdir('dir/')"
   ]
  },
  {
   "cell_type": "code",
   "execution_count": 33,
   "id": "b7b0d2cc",
   "metadata": {},
   "outputs": [
    {
     "ename": "FileNotFoundError",
     "evalue": "[WinError 2] The system cannot find the file specified: 'C:/Users/Computer Market/Desktop/Depi/Depi_Amit_AI_BNS3/sources/session/code/directoriesdir_0'",
     "output_type": "error",
     "traceback": [
      "\u001b[31m---------------------------------------------------------------------------\u001b[39m",
      "\u001b[31mFileNotFoundError\u001b[39m                         Traceback (most recent call last)",
      "\u001b[36mCell\u001b[39m\u001b[36m \u001b[39m\u001b[32mIn[33]\u001b[39m\u001b[32m, line 10\u001b[39m\n\u001b[32m      8\u001b[39m random_path(path)\n\u001b[32m      9\u001b[39m random_dir=path+\u001b[33m\"\u001b[39m\u001b[33mdir_\u001b[39m\u001b[33m\"\u001b[39m+\u001b[38;5;28mstr\u001b[39m(i)\n\u001b[32m---> \u001b[39m\u001b[32m10\u001b[39m \u001b[43mos\u001b[49m\u001b[43m.\u001b[49m\u001b[43mrmdir\u001b[49m\u001b[43m(\u001b[49m\u001b[43mrandom_dir\u001b[49m\u001b[43m)\u001b[49m\n\u001b[32m     11\u001b[39m \u001b[38;5;28mprint\u001b[39m(path+\u001b[33m\"\u001b[39m\u001b[33mdir_\u001b[39m\u001b[33m\"\u001b[39m+\u001b[38;5;28mstr\u001b[39m(i))\n",
      "\u001b[31mFileNotFoundError\u001b[39m: [WinError 2] The system cannot find the file specified: 'C:/Users/Computer Market/Desktop/Depi/Depi_Amit_AI_BNS3/sources/session/code/directoriesdir_0'"
     ]
    }
   ],
   "source": [
    "\n",
    "import os\n",
    "import random\n",
    "for i in range(10):\n",
    "    path=\"C:/Users/Computer Market/Desktop/Depi/Depi_Amit_AI_BNS3/sources/session/code/directories\"\n",
    "    dir=random.random()\n",
    "    def random_path(path):\n",
    "        return path+\"dir_\"+str(i)\n",
    "    random_path(path)\n",
    "    random_dir=path+\"dir_\"+str(i)\n",
    "    os.rmdir(random_dir)\n",
    "    print(path+\"dir_\"+str(i))"
   ]
  },
  {
   "cell_type": "code",
   "execution_count": null,
   "id": "fe40e7ce",
   "metadata": {},
   "outputs": [],
   "source": [
    "base_dir = \"D:/files\"\n",
    "file_name =\"text_1.txt\"\n",
    "file_root_path= os.path.join(base_dir,file_name)\n",
    "file_root_path\n",
    "os.remove(file_root_path)"
   ]
  },
  {
   "cell_type": "code",
   "execution_count": null,
   "id": "eb755074",
   "metadata": {},
   "outputs": [],
   "source": [
    "import os\n",
    "dir_1=\"C:/Users/Computer Market/Desktop/Depi/Depi_Amit_AI_BNS3/sources/session/code/dir_0\"\n",
    "if not os.path.exists(dir_1):\n",
    "    os.makedirs(dir_1)\n",
    "else:\n",
    "    print(\"directory already exists\",dir_1)\n"
   ]
  }
 ],
 "metadata": {
  "kernelspec": {
   "display_name": "Python 3",
   "language": "python",
   "name": "python3"
  },
  "language_info": {
   "codemirror_mode": {
    "name": "ipython",
    "version": 3
   },
   "file_extension": ".py",
   "mimetype": "text/x-python",
   "name": "python",
   "nbconvert_exporter": "python",
   "pygments_lexer": "ipython3",
   "version": "3.12.9"
  }
 },
 "nbformat": 4,
 "nbformat_minor": 5
}
