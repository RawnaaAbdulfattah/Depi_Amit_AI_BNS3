{
 "cells": [
  {
   "cell_type": "code",
   "execution_count": 2,
   "id": "5f38d2cb",
   "metadata": {},
   "outputs": [
    {
     "name": "stdout",
     "output_type": "stream",
     "text": [
      "modaysaterdayfriday\n"
     ]
    }
   ],
   "source": [
    "today=(\"moday\"+\"saterday\"\n",
    "       +\"friday\")\n",
    "print(today)"
   ]
  },
  {
   "cell_type": "code",
   "execution_count": 1,
   "id": "22d1f0c0",
   "metadata": {},
   "outputs": [
    {
     "name": "stdout",
     "output_type": "stream",
     "text": [
      "tody is monday tuesday wensday\n"
     ]
    }
   ],
   "source": [
    "print(\"tody is\",\"monday\",\n",
    "      \"tuesday\",\"wensday\")"
   ]
  },
  {
   "cell_type": "code",
   "execution_count": null,
   "id": "8d0c86af",
   "metadata": {},
   "outputs": [
    {
     "data": {
      "text/plain": [
       "[1, 2, 3, 4, 'amit', 'learning', [5, 6, 7, 'depi', ['ml', 'ds']]]"
      ]
     },
     "execution_count": 9,
     "metadata": {},
     "output_type": "execute_result"
    }
   ],
   "source": [
    "list1=[1,2,3,4,\"amit\",\"learning\",[5,6,7,\"depi\",[\"ml\",\"dl\"]]]\n",
    "list1[6][4][0]\n",
    "list1[6][4][1]=\"ds\" #to replace an object to the list\n",
    "list1\n"
   ]
  },
  {
   "cell_type": "code",
   "execution_count": 10,
   "id": "309147e4",
   "metadata": {},
   "outputs": [
    {
     "data": {
      "text/plain": [
       "['r', 'a', 'w', 'n', 'a', 'a']"
      ]
     },
     "execution_count": 10,
     "metadata": {},
     "output_type": "execute_result"
    }
   ],
   "source": [
    "name=\"rawnaa\"\n",
    "y=list(name)    #to convert any variable type to the list\n",
    "y"
   ]
  },
  {
   "cell_type": "code",
   "execution_count": null,
   "id": "d031fa19",
   "metadata": {},
   "outputs": [
    {
     "name": "stdout",
     "output_type": "stream",
     "text": [
      "['abdulfattah', 'shawki', 'rawnaa']\n"
     ]
    }
   ],
   "source": [
    "name_1=['abdulfattah',\"shawki\"]\n",
    "name_1.append(\"rawnaa\")\n",
    "print(name_1)   #I have been trying to assign the list to anew variable this give me none\n",
    "#so you must append the object to the same list \n",
    "#append : to append the object at the end of the list"
   ]
  },
  {
   "cell_type": "code",
   "execution_count": null,
   "id": "850a29cd",
   "metadata": {},
   "outputs": [
    {
     "data": {
      "text/plain": [
       "['rawnaa', 'abdulfattah', 'shawki']"
      ]
     },
     "execution_count": 23,
     "metadata": {},
     "output_type": "execute_result"
    }
   ],
   "source": [
    "name_1=['abdulfattah',\"shawki\"]\n",
    "name_1.insert(0,\"rawnaa\")   # insert the object to the place you want and determine\n",
    "name_1"
   ]
  },
  {
   "cell_type": "code",
   "execution_count": 24,
   "id": "03b2c8f0",
   "metadata": {},
   "outputs": [
    {
     "data": {
      "text/plain": [
       "[1, 2, 3, 4, 5, 6]"
      ]
     },
     "execution_count": 24,
     "metadata": {},
     "output_type": "execute_result"
    }
   ],
   "source": [
    "x1=[1,2,3]\n",
    "x2=[4,5,6]\n",
    "z1=x1+x2    #this way not professional\n",
    "x1.extend(x2)\n",
    "x1"
   ]
  },
  {
   "cell_type": "code",
   "execution_count": null,
   "id": "148e17c0",
   "metadata": {},
   "outputs": [
    {
     "data": {
      "text/plain": [
       "['b', 'c', 'd', 'e', 'f']"
      ]
     },
     "execution_count": 2,
     "metadata": {},
     "output_type": "execute_result"
    }
   ],
   "source": [
    "char=['a','b','c','d','e','f']\n",
    "char.remove('a')    #remove an item from the list\n",
    "char"
   ]
  },
  {
   "cell_type": "code",
   "execution_count": 3,
   "id": "477a697c",
   "metadata": {},
   "outputs": [
    {
     "data": {
      "text/plain": [
       "['b', 'c', 'd', 'e']"
      ]
     },
     "execution_count": 3,
     "metadata": {},
     "output_type": "execute_result"
    }
   ],
   "source": [
    "char=['a','b','c','d','e','f']\n",
    "char.pop()  #if () is empty dalete the last item in the list .pop(index or place)\n",
    "char.pop(0)\n",
    "char"
   ]
  },
  {
   "cell_type": "code",
   "execution_count": 4,
   "id": "93f36fc7",
   "metadata": {},
   "outputs": [
    {
     "data": {
      "text/plain": [
       "['a', 'b', 'c', 'd', 'f']"
      ]
     },
     "execution_count": 4,
     "metadata": {},
     "output_type": "execute_result"
    }
   ],
   "source": [
    "char=['c','a','f','d','b']\n",
    "char.sort()\n",
    "char"
   ]
  },
  {
   "cell_type": "code",
   "execution_count": 5,
   "id": "c797a3cf",
   "metadata": {},
   "outputs": [
    {
     "data": {
      "text/plain": [
       "['f', 'e', 'd', 'c', 'b', 'a']"
      ]
     },
     "execution_count": 5,
     "metadata": {},
     "output_type": "execute_result"
    }
   ],
   "source": [
    "char=['a','b','c','d','e','f']\n",
    "char.reverse()\n",
    "char"
   ]
  },
  {
   "cell_type": "code",
   "execution_count": 6,
   "id": "18e710ae",
   "metadata": {},
   "outputs": [
    {
     "data": {
      "text/plain": [
       "[]"
      ]
     },
     "execution_count": 6,
     "metadata": {},
     "output_type": "execute_result"
    }
   ],
   "source": [
    "char=['a','b','c','d','e','f']\n",
    "char.clear()    #re ove all objects in the list\n",
    "char"
   ]
  },
  {
   "cell_type": "code",
   "execution_count": null,
   "id": "7483aac5",
   "metadata": {},
   "outputs": [
    {
     "ename": "NameError",
     "evalue": "name 'char1' is not defined",
     "output_type": "error",
     "traceback": [
      "\u001b[31m---------------------------------------------------------------------------\u001b[39m",
      "\u001b[31mNameError\u001b[39m                                 Traceback (most recent call last)",
      "\u001b[36mCell\u001b[39m\u001b[36m \u001b[39m\u001b[32mIn[7]\u001b[39m\u001b[32m, line 3\u001b[39m\n\u001b[32m      1\u001b[39m char1=[\u001b[33m'\u001b[39m\u001b[33ma\u001b[39m\u001b[33m'\u001b[39m,\u001b[33m'\u001b[39m\u001b[33mb\u001b[39m\u001b[33m'\u001b[39m,\u001b[33m'\u001b[39m\u001b[33mc\u001b[39m\u001b[33m'\u001b[39m,\u001b[33m'\u001b[39m\u001b[33md\u001b[39m\u001b[33m'\u001b[39m,\u001b[33m'\u001b[39m\u001b[33me\u001b[39m\u001b[33m'\u001b[39m,\u001b[33m'\u001b[39m\u001b[33mf\u001b[39m\u001b[33m'\u001b[39m]\n\u001b[32m      2\u001b[39m \u001b[38;5;28;01mdel\u001b[39;00m char1   \u001b[38;5;66;03m#delete the list and the variable name , it will be unknown or unrecognized\u001b[39;00m\n\u001b[32m----> \u001b[39m\u001b[32m3\u001b[39m \u001b[43mchar1\u001b[49m\n",
      "\u001b[31mNameError\u001b[39m: name 'char1' is not defined"
     ]
    }
   ],
   "source": [
    "char1=['a','b','c','d','e','f']\n",
    "del char1   #delete the list and the variable name , it will be unknown or unrecognized\n",
    "char1   #NameError: name 'char1' is not defined"
   ]
  },
  {
   "cell_type": "code",
   "execution_count": 8,
   "id": "b6274550",
   "metadata": {},
   "outputs": [
    {
     "name": "stdout",
     "output_type": "stream",
     "text": [
      "<class 'tuple'>\n"
     ]
    }
   ],
   "source": [
    "tchar=('a','b','c','d','e','f')\n",
    "print(type(tchar))"
   ]
  },
  {
   "cell_type": "code",
   "execution_count": null,
   "id": "7ffb73eb",
   "metadata": {},
   "outputs": [
    {
     "data": {
      "text/plain": [
       "['a', 'b', 'c', 'd', 'e', 'g']"
      ]
     },
     "execution_count": 13,
     "metadata": {},
     "output_type": "execute_result"
    }
   ],
   "source": [
    "tchar=('a','b','c','d','e','f')\n",
    "#tchar[5]='g'     #TypeError: 'tuple' object does not support item assignment  \n",
    "lchar=list(tchar) \n",
    "lchar[5]='g'\n",
    "lchar\n",
    "tuple(lchar)    #to return to tuple again after data modification\n"
   ]
  },
  {
   "cell_type": "code",
   "execution_count": 14,
   "id": "22848df0",
   "metadata": {},
   "outputs": [
    {
     "data": {
      "text/plain": [
       "(1, 2, 3)"
      ]
     },
     "execution_count": 14,
     "metadata": {},
     "output_type": "execute_result"
    }
   ],
   "source": [
    "tuple=(1,2,3)\n",
    "tuple"
   ]
  },
  {
   "cell_type": "code",
   "execution_count": 16,
   "id": "5d8df435",
   "metadata": {},
   "outputs": [
    {
     "name": "stdout",
     "output_type": "stream",
     "text": [
      "{'ahmed', 'rawnaa', 'ibrahim'} <class 'set'>\n"
     ]
    }
   ],
   "source": [
    "v=[\"ahmed\",\"ahmed\",\"rawnaa\",\"ibrahim\",\"rawnaa\"]\n",
    "c=set(v)\n",
    "print(c,type(c))"
   ]
  },
  {
   "cell_type": "code",
   "execution_count": null,
   "id": "843cfe05",
   "metadata": {},
   "outputs": [
    {
     "ename": "TypeError",
     "evalue": "'set' object is not subscriptable",
     "output_type": "error",
     "traceback": [
      "\u001b[31m---------------------------------------------------------------------------\u001b[39m",
      "\u001b[31mTypeError\u001b[39m                                 Traceback (most recent call last)",
      "\u001b[36mCell\u001b[39m\u001b[36m \u001b[39m\u001b[32mIn[17]\u001b[39m\u001b[32m, line 1\u001b[39m\n\u001b[32m----> \u001b[39m\u001b[32m1\u001b[39m \u001b[43mc\u001b[49m\u001b[43m[\u001b[49m\u001b[32;43m0\u001b[39;49m\u001b[43m]\u001b[49m\n",
      "\u001b[31mTypeError\u001b[39m: 'set' object is not subscriptable"
     ]
    }
   ],
   "source": [
    "c[0]    #set is unordered data so you can't call an objet and the objects haven't index\n",
    "#TypeError: 'set' object is not subscriptable "
   ]
  },
  {
   "cell_type": "code",
   "execution_count": 21,
   "id": "7520b581",
   "metadata": {},
   "outputs": [
    {
     "data": {
      "text/plain": [
       "'rawnaa'"
      ]
     },
     "execution_count": 21,
     "metadata": {},
     "output_type": "execute_result"
    }
   ],
   "source": [
    "dic={\"name\":\"rawnaa\",\"age\":21,\"country\":\"egypt\"}\n",
    "dic[\"name\"]"
   ]
  },
  {
   "cell_type": "code",
   "execution_count": 22,
   "id": "dea99d5c",
   "metadata": {},
   "outputs": [
    {
     "data": {
      "text/plain": [
       "{'name': 'ibrahim', 'age': 21, 'country': 'egypt'}"
      ]
     },
     "execution_count": 22,
     "metadata": {},
     "output_type": "execute_result"
    }
   ],
   "source": [
    "dic[\"name\"]=\"ibrahim\"\n",
    "dic"
   ]
  },
  {
   "cell_type": "code",
   "execution_count": 24,
   "id": "43b24b7f",
   "metadata": {},
   "outputs": [
    {
     "data": {
      "text/plain": [
       "{'a': 1, 'b': 2, 'c': 3}"
      ]
     },
     "execution_count": 24,
     "metadata": {},
     "output_type": "execute_result"
    }
   ],
   "source": [
    "list1=[('a',1),('b',2),('c',3)]\n",
    "s=dict(list1)\n",
    "s"
   ]
  },
  {
   "cell_type": "code",
   "execution_count": 2,
   "id": "4dd8602d",
   "metadata": {},
   "outputs": [
    {
     "data": {
      "text/plain": [
       "4"
      ]
     },
     "execution_count": 2,
     "metadata": {},
     "output_type": "execute_result"
    }
   ],
   "source": [
    "2**2"
   ]
  },
  {
   "cell_type": "code",
   "execution_count": 7,
   "id": "27bf1348",
   "metadata": {},
   "outputs": [
    {
     "name": "stdout",
     "output_type": "stream",
     "text": [
      "0\n",
      "1\n",
      "3\n",
      "4\n"
     ]
    }
   ],
   "source": [
    "for i in range(5):\n",
    "    if i==2:\n",
    "        continue\n",
    "    print(i)"
   ]
  },
  {
   "cell_type": "code",
   "execution_count": 9,
   "id": "534bb4a2",
   "metadata": {},
   "outputs": [
    {
     "name": "stdout",
     "output_type": "stream",
     "text": [
      "0\n",
      "1\n",
      "2\n"
     ]
    }
   ],
   "source": [
    "for i in range(5):\n",
    "    if i==3:\n",
    "        break\n",
    "    print(i)"
   ]
  },
  {
   "cell_type": "code",
   "execution_count": 10,
   "id": "ccd729df",
   "metadata": {},
   "outputs": [
    {
     "name": "stdout",
     "output_type": "stream",
     "text": [
      "0\n",
      "1\n",
      "2\n",
      "4\n"
     ]
    }
   ],
   "source": [
    "for i in range(5):\n",
    "    if i==3:\n",
    "        pass\n",
    "    else:\n",
    "        print(i)"
   ]
  },
  {
   "cell_type": "code",
   "execution_count": 15,
   "id": "a2665504",
   "metadata": {},
   "outputs": [
    {
     "name": "stdout",
     "output_type": "stream",
     "text": [
      "6\n",
      "5\n",
      "4\n",
      "3\n",
      "2\n",
      "1\n"
     ]
    }
   ],
   "source": [
    "x=6\n",
    "while x>0 :\n",
    "    print(x)\n",
    "    x-=1"
   ]
  },
  {
   "cell_type": "code",
   "execution_count": 4,
   "id": "1d6948bd",
   "metadata": {},
   "outputs": [
    {
     "name": "stdout",
     "output_type": "stream",
     "text": [
      "your average is:  87.33333333333333\n"
     ]
    }
   ],
   "source": [
    "test1=int(input(\"enter the first test score\"))\n",
    "test2=int(input(\"enter the second test score\"))\n",
    "test3=int(input(\"enter the third test score\"))\n",
    "avrage=(test1+test2+test3)/3\n",
    "print(\"your average is: \",avrage)\n",
    "if avrage>=95:\n",
    "    print(\"congratulations\")\n",
    "\n",
    "\n"
   ]
  },
  {
   "cell_type": "code",
   "execution_count": null,
   "id": "0fc2aaaf",
   "metadata": {},
   "outputs": [],
   "source": [
    "keep_going = 10\n",
    " # Calculate a series of commissions.\n",
    "while keep_going == 10:\n",
    "      # Get a salesperson's sales and commission rate.\n",
    "    sales = int(input(\"Enter the amount of sales: \"))\n",
    "comm_rate = int(input(\"Enter the commission rate: \"))\n",
    "   # Calculate the commission.\n",
    "commission = sales * comm_rate\n",
    "       # Display the commission.\n",
    "print('The commission is ',commission)\n",
    " \n",
    "       # See if the user wants to do another one.\n",
    "keep_going = input('Do you want to calculate another ' + \n",
    "                         'commission (Enter y for yes): ')"
   ]
  },
  {
   "cell_type": "code",
   "execution_count": null,
   "id": "f1029845",
   "metadata": {},
   "outputs": [
    {
     "name": "stdout",
     "output_type": "stream",
     "text": [
      "c:\\Users\\Computer Market\\Desktop\\Depi\\Depi_Amit_AI_BNS3\\sources\\session\\code\n"
     ]
    }
   ],
   "source": [
    "import os\n",
    "print(os.getcwd())  #get current working directory"
   ]
  },
  {
   "cell_type": "code",
   "execution_count": 13,
   "id": "08f2fd19",
   "metadata": {},
   "outputs": [
    {
     "name": "stdout",
     "output_type": "stream",
     "text": [
      "hello depi\n"
     ]
    }
   ],
   "source": [
    "file=open(\"rawnaa.txt\")\n",
    "print(file.read())"
   ]
  },
  {
   "cell_type": "code",
   "execution_count": null,
   "id": "c1ba7012",
   "metadata": {},
   "outputs": [],
   "source": [
    "import os\n",
    "import sys"
   ]
  },
  {
   "cell_type": "code",
   "execution_count": 15,
   "id": "e224a759",
   "metadata": {},
   "outputs": [],
   "source": [
    "f=open(\"test.txt\")\n",
    "# print(f.read())\n",
    "#f.close()"
   ]
  },
  {
   "cell_type": "code",
   "execution_count": 16,
   "id": "7983af8d",
   "metadata": {},
   "outputs": [
    {
     "name": "stdout",
     "output_type": "stream",
     "text": [
      "Hello depi\n",
      "\n",
      "My name is Rawnaa\n",
      "\n",
      "congratulations for reaching this file\n"
     ]
    }
   ],
   "source": [
    "all_lines=f.readlines()\n",
    "for line in all_lines:\n",
    "    print(line)"
   ]
  },
  {
   "cell_type": "code",
   "execution_count": 19,
   "id": "830fe150",
   "metadata": {},
   "outputs": [],
   "source": [
    "f=open(\"test.txt\",'w')\n",
    "f.write(\"Amit Learning\")\n",
    "f.close()"
   ]
  },
  {
   "cell_type": "code",
   "execution_count": null,
   "id": "3616888f",
   "metadata": {},
   "outputs": [
    {
     "name": "stdout",
     "output_type": "stream",
     "text": [
      "Amit Learning\n"
     ]
    }
   ],
   "source": [
    "f=open(\"test.txt\")  # this replace the content of the file\n",
    "print(f.read())"
   ]
  },
  {
   "cell_type": "code",
   "execution_count": 5,
   "id": "184d3245",
   "metadata": {},
   "outputs": [],
   "source": [
    "f=open(\"test.txt\",\"a\")\n",
    "for i in range(30):\n",
    "    f.write(\"\\n I love python\"+str(i))\n",
    "    \n",
    "    \n",
    "    "
   ]
  },
  {
   "cell_type": "code",
   "execution_count": 6,
   "id": "740d08ef",
   "metadata": {},
   "outputs": [
    {
     "data": {
      "text/plain": [
       "'\\nI love python0\\nI love python1\\nI love python2\\nI love python3\\nI love python4\\nI love python5\\nI love python6\\nI love python7\\nI love python8\\nI love python9\\nI love python10\\nI love python11\\nI love python12\\nI love python13\\nI love python14\\nI love python15\\nI love python16\\nI love python17\\nI love python18\\nI love python19\\nI love python20\\nI love python21\\nI love python22\\nI love python23\\nI love python24\\nI love python25\\nI love python26\\nI love python27\\nI love python28\\nI love python29\\nI love python0\\nI love python1\\nI love python2\\nI love python3\\nI love python4\\nI love python5\\nI love python6\\nI love python7\\nI love python8\\nI love python9\\nI love python10\\nI love python11\\nI love python12\\nI love python13\\nI love python14\\nI love python15\\nI love python16\\nI love python17\\nI love python18\\nI love python19\\nI love python20\\nI love python21\\nI love python22\\nI love python23\\nI love python24\\nI love python25\\nI love python26\\nI love python27\\nI love python28\\nI love python29\\n I love python0\\n I love python1\\n I love python2\\n I love python3\\n I love python4\\n I love python5\\n I love python6\\n I love python7\\n I love python8\\n I love python9\\n I love python10\\n I love python11\\n I love python12\\n I love python13\\n I love python14\\n I love python15\\n I love python16\\n I love python17\\n I love python18\\n I love python19\\n I love python20\\n I love python21\\n I love python22\\n I love python23\\n I love python24\\n I love python25\\n I love python26\\n I love python27\\n I love python28\\n I love python29'"
      ]
     },
     "execution_count": 6,
     "metadata": {},
     "output_type": "execute_result"
    }
   ],
   "source": [
    "f=open(\"test.txt\")\n",
    "f.read()"
   ]
  },
  {
   "cell_type": "code",
   "execution_count": 4,
   "id": "6a0991a3",
   "metadata": {},
   "outputs": [],
   "source": [
    "import os\n",
    "file=os.listdir('C:/Users/Computer Market/Desktop/Depi/Depi_Amit_AI_BNS3/sources/session/code/')"
   ]
  },
  {
   "cell_type": "code",
   "execution_count": 9,
   "id": "32ae711e",
   "metadata": {},
   "outputs": [
    {
     "name": "stdout",
     "output_type": "stream",
     "text": [
      "['Assignment_1_Python_Basic.ipynb', 'basic.ipynb', 'dir_0', 'dir_1', 'dir_10', 'dir_11', 'dir_12', 'dir_13', 'dir_14', 'dir_15', 'dir_16', 'dir_17', 'dir_18', 'dir_19', 'dir_2', 'dir_3', 'dir_4', 'dir_5', 'dir_6', 'dir_7', 'dir_8', 'dir_9', 'info.py', 'rawnaa.txt', 'selfPractise.ipynb', 'test.txt', '__pycache__']\n"
     ]
    }
   ],
   "source": [
    "print(file)\n"
   ]
  },
  {
   "cell_type": "code",
   "execution_count": 5,
   "id": "52bdcc40",
   "metadata": {},
   "outputs": [
    {
     "data": {
      "text/plain": [
       "'dir_17'"
      ]
     },
     "execution_count": 5,
     "metadata": {},
     "output_type": "execute_result"
    }
   ],
   "source": [
    "import random\n",
    "random.choice(file)"
   ]
  },
  {
   "cell_type": "code",
   "execution_count": 10,
   "id": "8c36a3b9",
   "metadata": {},
   "outputs": [],
   "source": [
    "os.remove('C:/Users/Computer Market/Desktop/Depi/Depi_Amit_AI_BNS3/sources/session/code/rawnaa.txt')"
   ]
  },
  {
   "cell_type": "code",
   "execution_count": 13,
   "id": "cab592a0",
   "metadata": {},
   "outputs": [],
   "source": [
    "def info(name,age): #inside () the inputs the user will put\n",
    "    print(f\"my name is {name}, my age is {age}\")\n",
    "    "
   ]
  },
  {
   "cell_type": "code",
   "execution_count": 14,
   "id": "8a1d02d2",
   "metadata": {},
   "outputs": [
    {
     "name": "stdout",
     "output_type": "stream",
     "text": [
      "my name is rawnaa, my age is 21\n"
     ]
    }
   ],
   "source": [
    "info(\"rawnaa\",21)"
   ]
  },
  {
   "cell_type": "code",
   "execution_count": null,
   "id": "65555ed3",
   "metadata": {},
   "outputs": [],
   "source": [
    "def info_1(*name):\n",
    "    print(f\"my name is {name}\")\n"
   ]
  },
  {
   "cell_type": "code",
   "execution_count": null,
   "id": "13adc09d",
   "metadata": {},
   "outputs": [
    {
     "name": "stdout",
     "output_type": "stream",
     "text": [
      "my name is ('ahmed', 'ibrahim', 'rawnaa')\n"
     ]
    }
   ],
   "source": [
    "info_1(\"ahmed\",\"ibrahim\",\"rawnaa\")"
   ]
  },
  {
   "cell_type": "code",
   "execution_count": 21,
   "id": "6844408a",
   "metadata": {},
   "outputs": [],
   "source": [
    "def info_1(**age):\n",
    "     print(f\"my age is {age}\")\n"
   ]
  },
  {
   "cell_type": "code",
   "execution_count": 22,
   "id": "dbcf49d0",
   "metadata": {},
   "outputs": [
    {
     "name": "stdout",
     "output_type": "stream",
     "text": [
      "my age is {'ahmed': 22, 'ibrahim': 18, 'rawnaa': 21}\n"
     ]
    }
   ],
   "source": [
    "info_1(ahmed=22,ibrahim=18,rawnaa=21)"
   ]
  },
  {
   "cell_type": "code",
   "execution_count": null,
   "id": "815d54b8",
   "metadata": {},
   "outputs": [],
   "source": [
    "lambda x:x+10\n"
   ]
  },
  {
   "cell_type": "code",
   "execution_count": 3,
   "id": "879b2bc7",
   "metadata": {},
   "outputs": [
    {
     "name": "stdout",
     "output_type": "stream",
     "text": [
      "hello python aand I am using functions\n"
     ]
    }
   ],
   "source": [
    "def function_name():\n",
    "    print(\"hello python aand I am using functions\")\n",
    "function_name()"
   ]
  },
  {
   "cell_type": "code",
   "execution_count": null,
   "id": "08847385",
   "metadata": {},
   "outputs": [
    {
     "name": "stdout",
     "output_type": "stream",
     "text": [
      "the sum is 34.0\n"
     ]
    }
   ],
   "source": [
    "x=float(input(\"enter the 1st number\"))\n",
    "y=float(input(\"enter the 2nd number\"))\n",
    "def sum_num(x,y):\n",
    "    return x+y  #I need a method to use the function and in the same time the program will ask for an input every time we run\n",
    "print(\"the sum is\",x+y)"
   ]
  },
  {
   "cell_type": "code",
   "execution_count": null,
   "id": "942fb098",
   "metadata": {},
   "outputs": [],
   "source": [
    "sum_num()"
   ]
  },
  {
   "cell_type": "code",
   "execution_count": 9,
   "id": "45523322",
   "metadata": {},
   "outputs": [
    {
     "data": {
      "text/plain": [
       "0.0"
      ]
     },
     "execution_count": 9,
     "metadata": {},
     "output_type": "execute_result"
    }
   ],
   "source": [
    "import math\n",
    "math.tan(0)"
   ]
  },
  {
   "cell_type": "code",
   "execution_count": null,
   "id": "5f0f36dd",
   "metadata": {},
   "outputs": [],
   "source": [
    "n1=int(input(\"enter the 1st number\"))\n",
    "n2=int(input(\"enter the 2nd number\"))\n",
    "def addition(n1,n2):\n",
    "    if type(n1)!=int or type(n2)!=int:\n",
    "        print(\"unvaild input, please input integer only\")\n",
    "    else:\n",
    "        print(n1+n2)\n",
    "# addition(100,30)"
   ]
  },
  {
   "cell_type": "code",
   "execution_count": 14,
   "id": "e0409930",
   "metadata": {},
   "outputs": [
    {
     "ename": "ValueError",
     "evalue": "invalid literal for int() with base 10: 'jgj'",
     "output_type": "error",
     "traceback": [
      "\u001b[31m---------------------------------------------------------------------------\u001b[39m",
      "\u001b[31mValueError\u001b[39m                                Traceback (most recent call last)",
      "\u001b[36mCell\u001b[39m\u001b[36m \u001b[39m\u001b[32mIn[14]\u001b[39m\u001b[32m, line 1\u001b[39m\n\u001b[32m----> \u001b[39m\u001b[32m1\u001b[39m x=\u001b[38;5;28;43mint\u001b[39;49m\u001b[43m(\u001b[49m\u001b[38;5;28;43minput\u001b[39;49m\u001b[43m(\u001b[49m\u001b[33;43m\"\u001b[39;49m\u001b[33;43menter the 1st number\u001b[39;49m\u001b[33;43m\"\u001b[39;49m\u001b[43m)\u001b[49m\u001b[43m)\u001b[49m\n\u001b[32m      2\u001b[39m y=\u001b[38;5;28mint\u001b[39m(\u001b[38;5;28minput\u001b[39m(\u001b[33m\"\u001b[39m\u001b[33menter the 2nd number\u001b[39m\u001b[33m\"\u001b[39m))\n\u001b[32m      3\u001b[39m \u001b[38;5;28;01mdef\u001b[39;00m\u001b[38;5;250m \u001b[39m\u001b[34maddition\u001b[39m(x,y):\n",
      "\u001b[31mValueError\u001b[39m: invalid literal for int() with base 10: 'jgj'"
     ]
    }
   ],
   "source": [
    "x=int(input(\"enter the 1st number\"))\n",
    "y=int(input(\"enter the 2nd number\"))\n",
    "def addition(x,y):\n",
    "    if type(x)!=int or type(y)!=int:\n",
    "        print(\"unvaild input, please input integer only\")\n",
    "    else:\n",
    "     return x+y\n",
    "print(x+y)  \n",
    "# print(\"the sum is\",x+y)"
   ]
  },
  {
   "cell_type": "code",
   "execution_count": null,
   "id": "dbd9f78d",
   "metadata": {},
   "outputs": [
    {
     "name": "stdout",
     "output_type": "stream",
     "text": [
      "hello ahmed\n",
      "hello rawnaa\n",
      "hello ibrahim\n",
      "hello mona\n"
     ]
    }
   ],
   "source": [
    "#def say_hello(*peoples):\n",
    "def say_hello(n1,n2,n3,n4):\n",
    "    peoples=[n1,n2,n3,n4]\n",
    "    for name in peoples:\n",
    "        print(f\"hello {name}\")\n",
    "say_hello(\"ahmed\",\"rawnaa\",\"ibrahim\",\"mona\")"
   ]
  },
  {
   "cell_type": "code",
   "execution_count": 19,
   "id": "0b12dad4",
   "metadata": {},
   "outputs": [
    {
     "name": "stdout",
     "output_type": "stream",
     "text": [
      "texas has 300 birds.\n",
      "california has 495 birds.\n",
      "\n",
      "\n"
     ]
    }
   ],
   "source": [
    "  # This program demonstrates two functions that\n",
    "  # have local variables with the same name.\n",
    "def main():     \n",
    "    texas()\n",
    "    california()\n",
    " \n",
    "def texas():\n",
    "    print(\"\")\n",
    "birds = input(\"enter birds texas\")\n",
    "     \n",
    "print('texas has', birds, 'birds.')\n",
    " \n",
    "def california():\n",
    "    print(\"\")     \n",
    "birds = input(\"enter birds california\")\n",
    "      \n",
    "print('california has', birds, 'birds.')\n",
    "main()"
   ]
  },
  {
   "cell_type": "code",
   "execution_count": 31,
   "id": "0e66b801",
   "metadata": {},
   "outputs": [
    {
     "name": "stdout",
     "output_type": "stream",
     "text": [
      "unvalid selection:select an operation\n",
      "\n",
      "\n"
     ]
    }
   ],
   "source": [
    "n1=float(input(\"enter the 1st number\"))\n",
    "n2=float(input(\"enter the 2nd number\"))\n",
    "if type(n1)!=float or type(n2)!=float:\n",
    "    print(\"numiric inputs only acceptable\")\n",
    "else:\n",
    "    o=int(input(\"select an operation:\\n1.Addition (+)\\n2.Subtraction (-)\\n3.Multiplication (*)\\n4.Division (/)\"))\n",
    "    if o!=1 or o!= 2 or o!= 3 or o!=4:\n",
    "        print(\"unvalid selection:select an operation\")\n",
    "    \n",
    "def operation():     \n",
    "    addition()\n",
    "    subtraction()\n",
    "    multiplication()\n",
    "    division()\n",
    " \n",
    "def addition():\n",
    "    print(n1+n2)\n",
    "# birds = input(\"enter birds texas\")\n",
    "     \n",
    "# print('texas has', birds, 'birds.')\n",
    " \n",
    "def subtraction():\n",
    "    print(n1-n2)     \n",
    "# birds = input(\"enter birds california\")\n",
    "      \n",
    "# print('california has', birds, 'birds.')\n",
    "def multiplication():\n",
    "    print(n1*n2)     \n",
    "# birds = input(\"enter birds california\")\n",
    "      \n",
    "# print('california has', birds, 'birds.')\n",
    "def division():\n",
    "    print(n1/n2)     \n",
    "# birds = input(\"enter birds california\")\n",
    "      \n",
    "# print('california has', birds, 'birds.')\n",
    "main()"
   ]
  },
  {
   "cell_type": "code",
   "execution_count": 4,
   "id": "65afa1c7",
   "metadata": {},
   "outputs": [
    {
     "ename": "NameError",
     "evalue": "name 'cont' is not defined",
     "output_type": "error",
     "traceback": [
      "\u001b[31m---------------------------------------------------------------------------\u001b[39m",
      "\u001b[31mNameError\u001b[39m                                 Traceback (most recent call last)",
      "\u001b[36mCell\u001b[39m\u001b[36m \u001b[39m\u001b[32mIn[4]\u001b[39m\u001b[32m, line 1\u001b[39m\n\u001b[32m----> \u001b[39m\u001b[32m1\u001b[39m \u001b[38;5;28;01mwhile\u001b[39;00m \u001b[43mcont\u001b[49m==\u001b[33m\"\u001b[39m\u001b[33myes\u001b[39m\u001b[33m\"\u001b[39m:\n\u001b[32m      2\u001b[39m     \u001b[38;5;28mprint\u001b[39m(\u001b[33m\"\u001b[39m\u001b[33mwelcome to the simple calculator \u001b[39m\u001b[33m\"\u001b[39m)\n\u001b[32m      3\u001b[39m     \u001b[38;5;28;01mtry\u001b[39;00m:\n",
      "\u001b[31mNameError\u001b[39m: name 'cont' is not defined"
     ]
    }
   ],
   "source": [
    "while cont==\"yes\":\n",
    "    print(\"welcome to the simple calculator \")\n",
    "    try:\n",
    "        x=float(input(\"enter the 1st number\"))\n",
    "        y=float(input(\"enter the 2nd number\"))\n",
    "    except:\n",
    "        print(\"unvalid input: please enter a numirc value\")\n",
    "    operation=input(\"choose the operation : 1.addition\\n2.subtraction\\n3.multiplication\\n4.division\")\n",
    "    if operation not in (1,2,3,4):\n",
    "        print(\"unvaild input: please re-enter the number repesent the operation\")\n",
    "    else:\n",
    "        if operation==1:\n",
    "            def addition(x,y):\n",
    "                return x+y  \n",
    "            print(\"the sum is\",x+y)\n",
    "        elif operation==2:\n",
    "            def subtraction(x,y):\n",
    "                return x-y  \n",
    "            print(\"the subtraction is\",x-y)\n",
    "        elif operation==3:\n",
    "            def multiplication(x,y):\n",
    "             return x+y  \n",
    "            print(\"the multiplication is\",x*y)\n",
    "        else:\n",
    "            def division(x,y):\n",
    "                return x/y  \n",
    "            try:\n",
    "                print(\"the division is\",x/y)\n",
    "            except:\n",
    "                print(\"cannot divided by zero\")\n",
    "        if cont==\"no\":\n",
    "            print(\"Existing the calculator,Goodbye\")\n",
    "    cont=input(\"do you want to continue (yes/no)\")"
   ]
  },
  {
   "cell_type": "code",
   "execution_count": null,
   "id": "afca6dd6",
   "metadata": {},
   "outputs": [],
   "source": [
    "#chat gpt modification\n",
    "def addition(x, y):\n",
    "    return x + y\n",
    "\n",
    "def subtraction(x, y):\n",
    "    return x - y\n",
    "\n",
    "def multiplication(x, y):\n",
    "    return x * y\n",
    "\n",
    "def division(x, y):\n",
    "    if y == 0:\n",
    "        return \"Error! Cannot divide by zero.\"\n",
    "    else:\n",
    "        return x / y\n",
    "\n",
    "while True:\n",
    "    print(\"\\nWelcome to the Simple Calculator!\")\n",
    "    print(\"Select an operation:\")\n",
    "    print(\"1. Addition (+)\")\n",
    "    print(\"2. Subtraction (-)\")\n",
    "    print(\"3. Multiplication (*)\")\n",
    "    print(\"4. Division (/)\")\n",
    "    \n",
    "    choice = input(\"Enter your choice (1/2/3/4) or 'exit' to quit: \")\n",
    "\n",
    "    if choice.lower() == 'exit':\n",
    "        print(\"Exiting the calculator. Goodbye!\")\n",
    "        break\n",
    "\n",
    "    if choice not in ('1', '2', '3', '4'):\n",
    "        print(\"Invalid input: Please enter 1, 2, 3, 4, or 'exit'.\")\n",
    "        continue\n",
    "\n",
    "    try:\n",
    "        num1 = float(input(\"Enter first number: \"))\n",
    "        num2 = float(input(\"Enter second number: \"))\n",
    "    except ValueError:\n",
    "        print(\"Invalid input: Please enter numeric values.\")\n",
    "        continue\n",
    "\n",
    "    if choice == '1':\n",
    "        result = addition(num1, num2)\n",
    "        print(f\"{num1} + {num2} = {result}\")\n",
    "    elif choice == '2':\n",
    "        result = subtraction(num1, num2)\n",
    "        print(f\"{num1} - {num2} = {result}\")\n",
    "    elif choice == '3':\n",
    "        result = multiplication(num1, num2)\n",
    "        print(f\"{num1} * {num2} = {result}\")\n",
    "    elif choice == '4':\n",
    "        result = division(num1, num2)\n",
    "        if isinstance(result, str):\n",
    "            print(result)\n",
    "        else:\n",
    "            print(f\"{num1} / {num2} = {result}\")\n"
   ]
  },
  {
   "cell_type": "code",
   "execution_count": 17,
   "id": "c48e03d0",
   "metadata": {},
   "outputs": [
    {
     "name": "stdout",
     "output_type": "stream",
     "text": [
      "22\n"
     ]
    }
   ],
   "source": [
    "def f1(n):\n",
    "    return lambda a:a*n\n",
    "f2=f1(2)\n",
    "print(f2(11))"
   ]
  },
  {
   "cell_type": "code",
   "execution_count": null,
   "id": "bc77ebf2",
   "metadata": {},
   "outputs": [],
   "source": [
    "def f(n):\n",
    "    return n\n",
    "def anotherf(a): \n",
    "    return a*n"
   ]
  },
  {
   "cell_type": "code",
   "execution_count": 21,
   "id": "08dc1c5e",
   "metadata": {},
   "outputs": [
    {
     "name": "stdout",
     "output_type": "stream",
     "text": [
      "5.0\n"
     ]
    }
   ],
   "source": [
    "try:\n",
    "    x=10\n",
    "    y=int(input(\"enter\"))\n",
    "    print(x/y)\n",
    "except:\n",
    "    print(\"error divide by zero\")"
   ]
  },
  {
   "cell_type": "code",
   "execution_count": 23,
   "id": "f3d2fbce",
   "metadata": {},
   "outputs": [
    {
     "name": "stdout",
     "output_type": "stream",
     "text": [
      "division by zero\n"
     ]
    }
   ],
   "source": [
    "x=5\n",
    "y=0\n",
    "try:\n",
    "    x/y\n",
    "except Exception as e:\n",
    "    print(e)"
   ]
  },
  {
   "cell_type": "code",
   "execution_count": null,
   "id": "e2cb5bee",
   "metadata": {},
   "outputs": [
    {
     "ename": "ZeroDivisionError",
     "evalue": "division by zero",
     "output_type": "error",
     "traceback": [
      "\u001b[31m---------------------------------------------------------------------------\u001b[39m",
      "\u001b[31mZeroDivisionError\u001b[39m                         Traceback (most recent call last)",
      "\u001b[36mCell\u001b[39m\u001b[36m \u001b[39m\u001b[32mIn[24]\u001b[39m\u001b[32m, line 4\u001b[39m\n\u001b[32m      2\u001b[39m y=\u001b[32m0\u001b[39m\n\u001b[32m      3\u001b[39m \u001b[38;5;28;01mtry\u001b[39;00m:\n\u001b[32m----> \u001b[39m\u001b[32m4\u001b[39m     \u001b[43mx\u001b[49m\u001b[43m/\u001b[49m\u001b[43my\u001b[49m\n\u001b[32m      5\u001b[39m \u001b[38;5;28;01mexcept\u001b[39;00m \u001b[38;5;167;01mNameError\u001b[39;00m:\n\u001b[32m      6\u001b[39m     \u001b[38;5;28mprint\u001b[39m(\u001b[33m\"\u001b[39m\u001b[33mfknjgkf\u001b[39m\u001b[33m\"\u001b[39m)\n",
      "\u001b[31mZeroDivisionError\u001b[39m: division by zero"
     ]
    }
   ],
   "source": [
    "x=5\n",
    "y=0\n",
    "try:\n",
    "    x/y\n",
    "except NameError:   #show the error\n",
    "    print(\"fknjgkf\")"
   ]
  },
  {
   "cell_type": "code",
   "execution_count": 22,
   "id": "9743e82a",
   "metadata": {},
   "outputs": [
    {
     "name": "stdout",
     "output_type": "stream",
     "text": [
      "my name is rawnaa,my age is 21\n"
     ]
    }
   ],
   "source": [
    "from info import info_std \n",
    "info_std(\"rawnaa\",21)"
   ]
  },
  {
   "cell_type": "code",
   "execution_count": 36,
   "id": "7e128b93",
   "metadata": {},
   "outputs": [
    {
     "data": {
      "text/plain": [
       "0.6330884263663111"
      ]
     },
     "execution_count": 36,
     "metadata": {},
     "output_type": "execute_result"
    }
   ],
   "source": [
    "import random\n",
    "n=random.random()\n",
    "n"
   ]
  },
  {
   "cell_type": "code",
   "execution_count": 37,
   "id": "5eecb377",
   "metadata": {},
   "outputs": [
    {
     "data": {
      "text/plain": [
       "0.40080095559897216"
      ]
     },
     "execution_count": 37,
     "metadata": {},
     "output_type": "execute_result"
    }
   ],
   "source": [
    "def calc_degree(n):\n",
    "    return n*n\n",
    "calc_degree(n)"
   ]
  },
  {
   "cell_type": "code",
   "execution_count": 5,
   "id": "01a25708",
   "metadata": {},
   "outputs": [
    {
     "data": {
      "text/plain": [
       "['Assignment_1_Python_Basic.ipynb',\n",
       " 'basic.ipynb',\n",
       " 'calculator.ipynb',\n",
       " 'chatbot.json',\n",
       " 'dir_0',\n",
       " 'dir_1',\n",
       " 'dir_10',\n",
       " 'dir_11',\n",
       " 'dir_12',\n",
       " 'dir_13',\n",
       " 'dir_14',\n",
       " 'dir_15',\n",
       " 'dir_16',\n",
       " 'dir_17',\n",
       " 'dir_18',\n",
       " 'dir_19',\n",
       " 'dir_2',\n",
       " 'dir_3',\n",
       " 'dir_4',\n",
       " 'dir_5',\n",
       " 'dir_6',\n",
       " 'dir_7',\n",
       " 'dir_8',\n",
       " 'dir_9',\n",
       " 'info.py',\n",
       " 'ok.py',\n",
       " 'projects.ipynb',\n",
       " 'selfPractise.ipynb',\n",
       " 'test.txt',\n",
       " '__pycache__']"
      ]
     },
     "execution_count": 5,
     "metadata": {},
     "output_type": "execute_result"
    }
   ],
   "source": [
    "import os\n",
    "file=os.listdir(\"C:/Users/Computer Market/Desktop/Depi/Depi_Amit_AI_BNS3/sources/session/code\")\n",
    "file"
   ]
  },
  {
   "cell_type": "code",
   "execution_count": 8,
   "id": "02376ea4",
   "metadata": {},
   "outputs": [
    {
     "data": {
      "text/plain": [
       "'C:/Users/Computer Market/Desktop/Depi/Depi_Amit_AI_BNS3/sources/session/code\\\\test.txt'"
      ]
     },
     "execution_count": 8,
     "metadata": {},
     "output_type": "execute_result"
    }
   ],
   "source": [
    "base_dir=(\"C:/Users/Computer Market/Desktop/Depi/Depi_Amit_AI_BNS3/sources/session/code\")\n",
    "file_name=\"test.txt\"\n",
    "file_root_path=os.path.join(base_dir,file_name)\n",
    "file_root_path"
   ]
  },
  {
   "cell_type": "code",
   "execution_count": null,
   "id": "9502eb54",
   "metadata": {},
   "outputs": [],
   "source": [
    "os.remove(file_root_path)   #will remove the path or the file that I joined it to the dir"
   ]
  },
  {
   "cell_type": "code",
   "execution_count": 10,
   "id": "259e7975",
   "metadata": {},
   "outputs": [
    {
     "name": "stdout",
     "output_type": "stream",
     "text": [
      "directory already exists C:/Users/Computer Market/Desktop/Depi/Depi_Amit_AI_BNS3/sources/session/code/dir_0\n"
     ]
    }
   ],
   "source": [
    "import os\n",
    "dir_1=\"C:/Users/Computer Market/Desktop/Depi/Depi_Amit_AI_BNS3/sources/session/code/dir_0\"\n",
    "if not os.path.exists(dir_1):\n",
    "    os.makedirs(dir_1)\n",
    "else:\n",
    "    print(\"directory already exists\",dir_1)\n"
   ]
  },
  {
   "cell_type": "code",
   "execution_count": null,
   "id": "6faa5b2f",
   "metadata": {},
   "outputs": [
    {
     "name": "stdout",
     "output_type": "stream",
     "text": [
      "sum: 9\n",
      "sub: 3\n",
      "multiply: 18\n",
      "division: 2.0\n"
     ]
    }
   ],
   "source": [
    "def calc(n1,n2):\n",
    "    multiply=n1*n2\n",
    "    sum=n1+n2\n",
    "    sub=n1-n2\n",
    "    div=n1/n2\n",
    "    print(f\"sum: {sum}\\nsub: {sub}\\nmultiply: {multiply}\\ndivision: {div}\")\n",
    "calc(6,3)"
   ]
  },
  {
   "cell_type": "code",
   "execution_count": null,
   "id": "c4a5019a",
   "metadata": {},
   "outputs": [
    {
     "name": "stdout",
     "output_type": "stream",
     "text": [
      "multiplication table of the number 7 is: \n",
      "7*0 =  0\n",
      "7*1 =  7\n",
      "7*2 =  14\n",
      "7*3 =  21\n",
      "7*4 =  28\n",
      "7*5 =  35\n",
      "7*6 =  42\n",
      "7*7 =  49\n",
      "7*8 =  56\n",
      "7*9 =  63\n",
      "7*10 =  70\n"
     ]
    }
   ],
   "source": [
    "def multiplication_table(num):\n",
    "    print(f\"multiplication table of the number {num} is: \")\n",
    "    for i in range (11):\n",
    "        table=num*i\n",
    "        print(f\"{num}*{i} = \",table)\n",
    "multiplication_table(9)"
   ]
  },
  {
   "cell_type": "code",
   "execution_count": null,
   "id": "81a86306",
   "metadata": {},
   "outputs": [
    {
     "name": "stdout",
     "output_type": "stream",
     "text": [
      "Welcome to the simple calculator by Rawnaa :)\n",
      "22.0 + 11.0 =  33.0\n",
      "Welcome to the simple calculator by Rawnaa :)\n",
      "invalid input, please enter a numeric value\n",
      "Thanks for using simple calculator, Goodbye\n"
     ]
    }
   ],
   "source": [
    "def calc():\n",
    "    while True:\n",
    "        print(\"Welcome to the simple calculator by Rawnaa :)\")\n",
    "        try:\n",
    "            num1=float(input(\"enter the first number\"))\n",
    "            num2=float(input(\"enter the second number\"))\n",
    "        except:\n",
    "            print(\"invalid input, please enter a numeric value\")\n",
    "        choice=input(\"choose an operation: 1.addition\\n2.subtraction\\n3.multiplication\\n4.division\\nor 'exit' for quit\")\n",
    "        def add(num1,num2):\n",
    "            print(f\"{num1} + {num2} = \",num1+num2)\n",
    "        def sub(num1,num2):\n",
    "            print(f\"{num1} - {num2} = \",num1-num2)\n",
    "        def muliply(num1,num2):\n",
    "            print(f\"{num1} * {num2} = \",num1*num2)\n",
    "        def div(num1,num2):\n",
    "            try:\n",
    "                print(f\"{num1} / {num2} = \",num1/num2)\n",
    "            except:\n",
    "                print(\"Error:division by zero\")\n",
    "        if choice=='1':\n",
    "            add(num1,num2)\n",
    "            continue\n",
    "        elif choice=='2':\n",
    "            sub(num1,num2)\n",
    "            continue\n",
    "        elif choice=='3':\n",
    "            muliply(num1,num2)\n",
    "            continue\n",
    "        elif choice=='4':\n",
    "            div(num1,num2)\n",
    "            continue\n",
    "        elif choice=='exit':\n",
    "            print(\"Thanks for using simple calculator, Goodbye\")\n",
    "            break\n",
    "        else:\n",
    "            print(\"unvalid input, enter your choice again!\")\n",
    "calc()\n",
    "            \n",
    "            "
   ]
  },
  {
   "cell_type": "code",
   "execution_count": 21,
   "id": "395486c3",
   "metadata": {},
   "outputs": [],
   "source": [
    "class Student:\n",
    "    name=\"Rawnaa\"\n",
    "    age=21\n",
    "    gpa=3.72\n",
    "    gender=\"female\"\n",
    "    def info(s1):\n",
    "        print(\"hello\")\n",
    "    \n",
    "    "
   ]
  },
  {
   "cell_type": "code",
   "execution_count": 22,
   "id": "fd559814",
   "metadata": {},
   "outputs": [
    {
     "name": "stdout",
     "output_type": "stream",
     "text": [
      "hello\n"
     ]
    }
   ],
   "source": [
    "s1=Student()\n",
    "s1.info()\n"
   ]
  },
  {
   "cell_type": "code",
   "execution_count": 15,
   "id": "fbaa2a1f",
   "metadata": {},
   "outputs": [
    {
     "data": {
      "text/plain": [
       "22"
      ]
     },
     "execution_count": 15,
     "metadata": {},
     "output_type": "execute_result"
    }
   ],
   "source": [
    "s1.name=\"Ahmed\"\n",
    "s1.age=22\n",
    "s1.gpa=3.8\n",
    "s1.gender=\"male\"\n",
    "s1.age"
   ]
  },
  {
   "cell_type": "code",
   "execution_count": null,
   "id": "6626575f",
   "metadata": {},
   "outputs": [
    {
     "name": "stdout",
     "output_type": "stream",
     "text": [
      "<__main__.MyClass object at 0x000001DFA7282D80>\n"
     ]
    }
   ],
   "source": [
    "class MyClass:\n",
    "    def __init__(self,name,age):\n",
    "        self.name=name\n",
    "        self.age=age\n",
    "p1=MyClass(\"Rawnaa\",21)\n",
    "# print(f\"Hello {p1.name}, you are {p1.age} years old\")\n",
    "print(p1)   #if you want to print the value inside the var this will not happen, so we try __str__ method\n",
    "        "
   ]
  },
  {
   "cell_type": "code",
   "execution_count": 9,
   "id": "1ebbed43",
   "metadata": {},
   "outputs": [
    {
     "name": "stdout",
     "output_type": "stream",
     "text": [
      "Rawnaa,21\n"
     ]
    }
   ],
   "source": [
    "class MyClass:\n",
    "    def __init__(self,name,age):\n",
    "        self.name=name\n",
    "        self.age=age\n",
    "    def __str__ (self):\n",
    "        return f\"{self.name},{self.age}\"\n",
    "p1=MyClass(\"Rawnaa\",21)\n",
    "print(p1)\n",
    "    "
   ]
  }
 ],
 "metadata": {
  "kernelspec": {
   "display_name": "Python 3",
   "language": "python",
   "name": "python3"
  },
  "language_info": {
   "codemirror_mode": {
    "name": "ipython",
    "version": 3
   },
   "file_extension": ".py",
   "mimetype": "text/x-python",
   "name": "python",
   "nbconvert_exporter": "python",
   "pygments_lexer": "ipython3",
   "version": "3.12.9"
  }
 },
 "nbformat": 4,
 "nbformat_minor": 5
}
