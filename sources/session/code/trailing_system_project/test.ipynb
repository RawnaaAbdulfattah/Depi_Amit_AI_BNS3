{
 "cells": [
  {
   "cell_type": "code",
   "execution_count": 19,
   "id": "f6e835f4",
   "metadata": {},
   "outputs": [],
   "source": [
    "\"\"\"\n",
    "doc\n",
    "\"\"\"\n",
    "\n",
    "\n",
    "class student:\n",
    "    _id_counter=1\n",
    "    \n",
    "    def __init__(self,name):\n",
    "        self.name=name\n",
    "        student._id_counter+=1\n",
    "        self.student_id=student._id_counter\n",
    "        self.grades = {}\n",
    "        self.enrolled_courses = []\n",
    "    def __str__(self):\n",
    "        return f\"student id: {self.student_id}, name : {self.name}\"\n",
    "    def __repr__(self):\n",
    "        return f\"student id: {self.student_id}, name : {self.name}\"\n",
    "    def info(self):\n",
    "        return self.name\n",
    "    def add_grade(self,course_id, grade):\n",
    "        self.grades[course_id]=grade\n",
    "    def enrolled_in_course(self,course):\n",
    "        self.enrolled_courses.append(course)\n",
    "    "
   ]
  },
  {
   "cell_type": "code",
   "execution_count": 21,
   "id": "2071bb27",
   "metadata": {},
   "outputs": [
    {
     "data": {
      "text/plain": [
       "'student id: 3, name : rawnaa'"
      ]
     },
     "execution_count": 21,
     "metadata": {},
     "output_type": "execute_result"
    }
   ],
   "source": [
    "s1=student(\"rawnaa\")\n",
    "s1.add_grade(2,20)\n",
    "s1.enrolled_in_course(\"DS\")\n",
    "str(s1)"
   ]
  },
  {
   "cell_type": "code",
   "execution_count": 15,
   "id": "99bbede0",
   "metadata": {},
   "outputs": [
    {
     "name": "stdout",
     "output_type": "stream",
     "text": [
      "student id: 2, name : raw\n"
     ]
    }
   ],
   "source": [
    "name=input()\n",
    "s1=student(name)\n",
    "s1._id_counter\n",
    "print(s1)\n"
   ]
  },
  {
   "cell_type": "code",
   "execution_count": 16,
   "id": "c149f8cb",
   "metadata": {},
   "outputs": [
    {
     "data": {
      "text/plain": [
       "'student id: 2, name : raw'"
      ]
     },
     "execution_count": 16,
     "metadata": {},
     "output_type": "execute_result"
    }
   ],
   "source": [
    "repr(s1)"
   ]
  },
  {
   "cell_type": "code",
   "execution_count": 2,
   "id": "6ddb40b9",
   "metadata": {},
   "outputs": [],
   "source": [
    "class course:\n",
    "    _id_counter =1\n",
    "    def __init__(self,name):\n",
    "        self.course_id =course._id_counter\n",
    "        course._id_counter+=1\n",
    "        \n",
    "        self.name = name\n",
    "        self.enrolled_student=[]\n",
    "        \n",
    "    def __str__(self):\n",
    "        return f\"course id: {self.course_id}, , name:{self.name}, enrolled: {len(self.enrolled_student)}\"\n",
    "    def enroll_student(self,student):\n",
    "        if student not in self.enrolled_student:\n",
    "            self.enrolled_student.append(student)\n",
    "            print(\"student enrolled sucssesfully\")\n",
    "        else:\n",
    "            print(\"student already enrolled\")\n",
    "            \n",
    "    def remove_student(self, student):\n",
    "        for course in self.courses.values():\n",
    "            if student in course.enroll_student:\n",
    "                course.enrolled_student.remove(student)"
   ]
  },
  {
   "cell_type": "code",
   "execution_count": 26,
   "id": "3e5c2c42",
   "metadata": {},
   "outputs": [
    {
     "data": {
      "text/plain": [
       "'course id: 1, , name:DS, enrolled: 0'"
      ]
     },
     "execution_count": 26,
     "metadata": {},
     "output_type": "execute_result"
    }
   ],
   "source": [
    "c1 = course(\"DS\")\n",
    "c1\n",
    "str(c1)"
   ]
  },
  {
   "cell_type": "code",
   "execution_count": 1,
   "id": "24d5c2a4",
   "metadata": {},
   "outputs": [],
   "source": [
    "class SystemManager:\n",
    "    def __init__(self):\n",
    "        self.students={}\n",
    "        self.courses={}\n",
    "        \n",
    "    def add_student(self,name):\n",
    "        student=student(name)\n",
    "        self.students[student.student_id]=student\n",
    "        print(\"student added sucssesfully\")\n",
    "        return student.student_id\n",
    "    def remove_student(self,student_id):\n",
    "        if student_id in self.students:\n",
    "            student = self.students[student_id]\n",
    "            if not student.enrolled_courses:\n",
    "                del self.students[student_id]\n",
    "                print(\"student removed sussesfully\")\n",
    "            else:\n",
    "                print(\"student has enrolled courses. cannot removed\")\n",
    "        else:\n",
    "            print(\"invaid student id\")\n",
    "    def enroll_course(self,student_id,course_id):\n",
    "        if student_id in self.students and course_id in self.courses:\n",
    "            student=self.students[student_id]\n",
    "            course=self.courses[course_id]\n",
    "            \n",
    "            if course.name not in student.enrolled_courses:\n",
    "                student.enrolled_in_course(course.name)\n",
    "                course.enroll_student(student.name)\n",
    "                print(\"student enrolled in course sucssesfully.\")\n",
    "            else:\n",
    "                print(\"student is already enrolled in the course\")\n",
    "        else:\n",
    "            print(\"invalid student or course id\")\n",
    "            \n",
    "    def record_grade(self, student_id, course_id,grade):\n",
    "        if student_id in self.students and course_id in self.courses:\n",
    "            student = self.students[student_id]\n",
    "            course= self.courses[course_id]\n",
    "            student.add_grades(course.name, grade)\n",
    "            print(\"grade recorded\")\n",
    "        else:\n",
    "            print(\"invalid student or course id\")\n",
    "            \n",
    "    def get_all_students(self):\n",
    "        return list(self.students.values)\n",
    "    def get_all_courses(self):\n",
    "        return list(self.courses.values)\n",
    "                "
   ]
  }
 ],
 "metadata": {
  "kernelspec": {
   "display_name": "Python 3",
   "language": "python",
   "name": "python3"
  },
  "language_info": {
   "codemirror_mode": {
    "name": "ipython",
    "version": 3
   },
   "file_extension": ".py",
   "mimetype": "text/x-python",
   "name": "python",
   "nbconvert_exporter": "python",
   "pygments_lexer": "ipython3",
   "version": "3.12.9"
  }
 },
 "nbformat": 4,
 "nbformat_minor": 5
}
